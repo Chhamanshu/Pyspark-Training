{
 "cells": [
  {
   "cell_type": "code",
   "execution_count": 0,
   "metadata": {
    "application/vnd.databricks.v1+cell": {
     "cellMetadata": {
      "byteLimit": 2048000,
      "rowLimit": 10000
     },
     "inputWidgets": {},
     "nuid": "a9bac253-9c65-4fe8-b240-f2750d76437e",
     "showTitle": false,
     "title": ""
    }
   },
   "outputs": [],
   "source": [
    "# Reading the CSV file using spark\n",
    "df = spark.read.csv(\"dbfs:/FileStore/countries.csv\", header=True)"
   ]
  },
  {
   "cell_type": "code",
   "execution_count": 0,
   "metadata": {
    "application/vnd.databricks.v1+cell": {
     "cellMetadata": {
      "byteLimit": 2048000,
      "rowLimit": 10000
     },
     "inputWidgets": {},
     "nuid": "5393c422-1f0f-4cfd-90f7-1fa3947daad2",
     "showTitle": false,
     "title": ""
    }
   },
   "outputs": [
    {
     "output_type": "display_data",
     "data": {
      "text/html": [
       "<style scoped>\n",
       "  .table-result-container {\n",
       "    max-height: 300px;\n",
       "    overflow: auto;\n",
       "  }\n",
       "  table, th, td {\n",
       "    border: 1px solid black;\n",
       "    border-collapse: collapse;\n",
       "  }\n",
       "  th, td {\n",
       "    padding: 5px;\n",
       "  }\n",
       "  th {\n",
       "    text-align: left;\n",
       "  }\n",
       "</style><div class='table-result-container'><table class='table-result'><thead style='background-color: white'><tr><th>COUNTRY_ID</th><th>NAME</th><th>NATIONALITY</th><th>COUNTRY_CODE</th><th>ISO_ALPHA2</th><th>CAPITAL</th><th>POPULATION</th><th>AREA_KM2</th><th>REGION_ID</th><th>SUB_REGION_ID</th><th>INTERMEDIATE_REGION_ID</th><th>ORGANIZATION_REGION_ID</th></tr></thead><tbody><tr><td>1</td><td>Afghanistan</td><td>Afghan</td><td>AFG</td><td>AF</td><td>Kabul</td><td>38041754</td><td>652230</td><td>30</td><td>30</td><td>null</td><td>30</td></tr><tr><td>2</td><td>Albania</td><td>Albanian</td><td>ALB</td><td>AL</td><td>Tirana</td><td>2880917</td><td>28748</td><td>20</td><td>70</td><td>null</td><td>20</td></tr><tr><td>3</td><td>Algeria</td><td>Algerian</td><td>DZA</td><td>DZ</td><td>Algiers</td><td>43053054</td><td>2381741</td><td>50</td><td>40</td><td>null</td><td>20</td></tr><tr><td>4</td><td>American Samoa</td><td>American Samoan</td><td>ASM</td><td>AS</td><td>Pago Pago</td><td>55312</td><td>199</td><td>40</td><td>20</td><td>null</td><td>30</td></tr><tr><td>5</td><td>Andorra</td><td>Andorran</td><td>AND</td><td>AD</td><td>Andorra la Vella</td><td>77142</td><td>468</td><td>20</td><td>70</td><td>null</td><td>20</td></tr><tr><td>6</td><td>Angola</td><td>Angolan</td><td>AGO</td><td>AO</td><td>Luanda</td><td>31825295</td><td>1246700</td><td>50</td><td>160</td><td>80</td><td>20</td></tr><tr><td>7</td><td>Anguilla</td><td>Anguillan</td><td>AIA</td><td>AI</td><td>The Valley</td><td>14869</td><td>91</td><td>10</td><td>10</td><td>60</td><td>40</td></tr><tr><td>8</td><td>Antarctica</td><td>Antarctic</td><td>ATA</td><td>AQ</td><td>McMurdo Station</td><td>1106</td><td>14200000</td><td>40</td><td>null</td><td>null</td><td>30</td></tr><tr><td>9</td><td>Antigua and Barbuda</td><td>Antiguan or Barbudan</td><td>ATG</td><td>AG</td><td>St. John's</td><td>97118</td><td>442</td><td>10</td><td>10</td><td>60</td><td>40</td></tr><tr><td>10</td><td>Argentina</td><td>Argentine</td><td>ARG</td><td>AR</td><td>Buenos Aires</td><td>44780677</td><td>2780400</td><td>10</td><td>10</td><td>40</td><td>40</td></tr></tbody></table></div>"
      ]
     },
     "metadata": {
      "application/vnd.databricks.v1+output": {
       "addedWidgets": {},
       "aggData": [],
       "aggError": "",
       "aggOverflow": false,
       "aggSchema": [],
       "aggSeriesLimitReached": false,
       "aggType": "",
       "arguments": {},
       "columnCustomDisplayInfos": {},
       "data": [
        [
         "1",
         "Afghanistan",
         "Afghan",
         "AFG",
         "AF",
         "Kabul",
         "38041754",
         "652230",
         "30",
         "30",
         null,
         "30"
        ],
        [
         "2",
         "Albania",
         "Albanian",
         "ALB",
         "AL",
         "Tirana",
         "2880917",
         "28748",
         "20",
         "70",
         null,
         "20"
        ],
        [
         "3",
         "Algeria",
         "Algerian",
         "DZA",
         "DZ",
         "Algiers",
         "43053054",
         "2381741",
         "50",
         "40",
         null,
         "20"
        ],
        [
         "4",
         "American Samoa",
         "American Samoan",
         "ASM",
         "AS",
         "Pago Pago",
         "55312",
         "199",
         "40",
         "20",
         null,
         "30"
        ],
        [
         "5",
         "Andorra",
         "Andorran",
         "AND",
         "AD",
         "Andorra la Vella",
         "77142",
         "468",
         "20",
         "70",
         null,
         "20"
        ],
        [
         "6",
         "Angola",
         "Angolan",
         "AGO",
         "AO",
         "Luanda",
         "31825295",
         "1246700",
         "50",
         "160",
         "80",
         "20"
        ],
        [
         "7",
         "Anguilla",
         "Anguillan",
         "AIA",
         "AI",
         "The Valley",
         "14869",
         "91",
         "10",
         "10",
         "60",
         "40"
        ],
        [
         "8",
         "Antarctica",
         "Antarctic",
         "ATA",
         "AQ",
         "McMurdo Station",
         "1106",
         "14200000",
         "40",
         null,
         null,
         "30"
        ],
        [
         "9",
         "Antigua and Barbuda",
         "Antiguan or Barbudan",
         "ATG",
         "AG",
         "St. John's",
         "97118",
         "442",
         "10",
         "10",
         "60",
         "40"
        ],
        [
         "10",
         "Argentina",
         "Argentine",
         "ARG",
         "AR",
         "Buenos Aires",
         "44780677",
         "2780400",
         "10",
         "10",
         "40",
         "40"
        ]
       ],
       "datasetInfos": [],
       "dbfsResultPath": null,
       "isJsonSchema": true,
       "metadata": {},
       "overflow": false,
       "plotOptions": {
        "customPlotOptions": {},
        "displayType": "table",
        "pivotAggregation": null,
        "pivotColumns": null,
        "xColumns": null,
        "yColumns": null
       },
       "removedWidgets": [],
       "schema": [
        {
         "metadata": "{}",
         "name": "COUNTRY_ID",
         "type": "\"string\""
        },
        {
         "metadata": "{}",
         "name": "NAME",
         "type": "\"string\""
        },
        {
         "metadata": "{}",
         "name": "NATIONALITY",
         "type": "\"string\""
        },
        {
         "metadata": "{}",
         "name": "COUNTRY_CODE",
         "type": "\"string\""
        },
        {
         "metadata": "{}",
         "name": "ISO_ALPHA2",
         "type": "\"string\""
        },
        {
         "metadata": "{}",
         "name": "CAPITAL",
         "type": "\"string\""
        },
        {
         "metadata": "{}",
         "name": "POPULATION",
         "type": "\"string\""
        },
        {
         "metadata": "{}",
         "name": "AREA_KM2",
         "type": "\"string\""
        },
        {
         "metadata": "{}",
         "name": "REGION_ID",
         "type": "\"string\""
        },
        {
         "metadata": "{}",
         "name": "SUB_REGION_ID",
         "type": "\"string\""
        },
        {
         "metadata": "{}",
         "name": "INTERMEDIATE_REGION_ID",
         "type": "\"string\""
        },
        {
         "metadata": "{}",
         "name": "ORGANIZATION_REGION_ID",
         "type": "\"string\""
        }
       ],
       "type": "table"
      }
     },
     "output_type": "display_data"
    }
   ],
   "source": [
    "# Visualizing the dataframe\n",
    "df.display()"
   ]
  },
  {
   "cell_type": "code",
   "execution_count": 0,
   "metadata": {
    "application/vnd.databricks.v1+cell": {
     "cellMetadata": {
      "byteLimit": 2048000,
      "rowLimit": 10000
     },
     "inputWidgets": {},
     "nuid": "efe2cd22-44d0-44c3-81a5-96e2d37f16ec",
     "showTitle": false,
     "title": ""
    }
   },
   "outputs": [
    {
     "output_type": "display_data",
     "data": {
      "text/html": [
       "<style scoped>\n",
       "  .table-result-container {\n",
       "    max-height: 300px;\n",
       "    overflow: auto;\n",
       "  }\n",
       "  table, th, td {\n",
       "    border: 1px solid black;\n",
       "    border-collapse: collapse;\n",
       "  }\n",
       "  th, td {\n",
       "    padding: 5px;\n",
       "  }\n",
       "  th {\n",
       "    text-align: left;\n",
       "  }\n",
       "</style><div class='table-result-container'><table class='table-result'><thead style='background-color: white'><tr><th>COUNTRY_ID</th><th>NAME</th><th>NATIONALITY</th><th>COUNTRY_CODE</th><th>ISO_ALPHA2</th><th>CAPITAL</th><th>POPULATION</th><th>AREA_KM2</th><th>REGION_ID</th><th>SUB_REGION_ID</th><th>INTERMEDIATE_REGION_ID</th><th>ORGANIZATION_REGION_ID</th></tr></thead><tbody><tr><td>1</td><td>Afghanistan</td><td>Afghan</td><td>AFG</td><td>AF</td><td>Kabul</td><td>38041754</td><td>652230</td><td>30</td><td>30</td><td>null</td><td>30</td></tr><tr><td>2</td><td>Albania</td><td>Albanian</td><td>ALB</td><td>AL</td><td>Tirana</td><td>2880917</td><td>28748</td><td>20</td><td>70</td><td>null</td><td>20</td></tr><tr><td>3</td><td>Algeria</td><td>Algerian</td><td>DZA</td><td>DZ</td><td>Algiers</td><td>43053054</td><td>2381741</td><td>50</td><td>40</td><td>null</td><td>20</td></tr><tr><td>4</td><td>American Samoa</td><td>American Samoan</td><td>ASM</td><td>AS</td><td>Pago Pago</td><td>55312</td><td>199</td><td>40</td><td>20</td><td>null</td><td>30</td></tr><tr><td>5</td><td>Andorra</td><td>Andorran</td><td>AND</td><td>AD</td><td>Andorra la Vella</td><td>77142</td><td>468</td><td>20</td><td>70</td><td>null</td><td>20</td></tr><tr><td>6</td><td>Angola</td><td>Angolan</td><td>AGO</td><td>AO</td><td>Luanda</td><td>31825295</td><td>1246700</td><td>50</td><td>160</td><td>80</td><td>20</td></tr><tr><td>7</td><td>Anguilla</td><td>Anguillan</td><td>AIA</td><td>AI</td><td>The Valley</td><td>14869</td><td>91</td><td>10</td><td>10</td><td>60</td><td>40</td></tr><tr><td>8</td><td>Antarctica</td><td>Antarctic</td><td>ATA</td><td>AQ</td><td>McMurdo Station</td><td>1106</td><td>14200000</td><td>40</td><td>null</td><td>null</td><td>30</td></tr><tr><td>9</td><td>Antigua and Barbuda</td><td>Antiguan or Barbudan</td><td>ATG</td><td>AG</td><td>St. John's</td><td>97118</td><td>442</td><td>10</td><td>10</td><td>60</td><td>40</td></tr><tr><td>10</td><td>Argentina</td><td>Argentine</td><td>ARG</td><td>AR</td><td>Buenos Aires</td><td>44780677</td><td>2780400</td><td>10</td><td>10</td><td>40</td><td>40</td></tr></tbody></table></div>"
      ]
     },
     "metadata": {
      "application/vnd.databricks.v1+output": {
       "addedWidgets": {},
       "aggData": [],
       "aggError": "",
       "aggOverflow": false,
       "aggSchema": [],
       "aggSeriesLimitReached": false,
       "aggType": "",
       "arguments": {},
       "columnCustomDisplayInfos": {},
       "data": [
        [
         "1",
         "Afghanistan",
         "Afghan",
         "AFG",
         "AF",
         "Kabul",
         "38041754",
         "652230",
         "30",
         "30",
         null,
         "30"
        ],
        [
         "2",
         "Albania",
         "Albanian",
         "ALB",
         "AL",
         "Tirana",
         "2880917",
         "28748",
         "20",
         "70",
         null,
         "20"
        ],
        [
         "3",
         "Algeria",
         "Algerian",
         "DZA",
         "DZ",
         "Algiers",
         "43053054",
         "2381741",
         "50",
         "40",
         null,
         "20"
        ],
        [
         "4",
         "American Samoa",
         "American Samoan",
         "ASM",
         "AS",
         "Pago Pago",
         "55312",
         "199",
         "40",
         "20",
         null,
         "30"
        ],
        [
         "5",
         "Andorra",
         "Andorran",
         "AND",
         "AD",
         "Andorra la Vella",
         "77142",
         "468",
         "20",
         "70",
         null,
         "20"
        ],
        [
         "6",
         "Angola",
         "Angolan",
         "AGO",
         "AO",
         "Luanda",
         "31825295",
         "1246700",
         "50",
         "160",
         "80",
         "20"
        ],
        [
         "7",
         "Anguilla",
         "Anguillan",
         "AIA",
         "AI",
         "The Valley",
         "14869",
         "91",
         "10",
         "10",
         "60",
         "40"
        ],
        [
         "8",
         "Antarctica",
         "Antarctic",
         "ATA",
         "AQ",
         "McMurdo Station",
         "1106",
         "14200000",
         "40",
         null,
         null,
         "30"
        ],
        [
         "9",
         "Antigua and Barbuda",
         "Antiguan or Barbudan",
         "ATG",
         "AG",
         "St. John's",
         "97118",
         "442",
         "10",
         "10",
         "60",
         "40"
        ],
        [
         "10",
         "Argentina",
         "Argentine",
         "ARG",
         "AR",
         "Buenos Aires",
         "44780677",
         "2780400",
         "10",
         "10",
         "40",
         "40"
        ]
       ],
       "datasetInfos": [],
       "dbfsResultPath": null,
       "isJsonSchema": true,
       "metadata": {},
       "overflow": false,
       "plotOptions": {
        "customPlotOptions": {},
        "displayType": "table",
        "pivotAggregation": null,
        "pivotColumns": null,
        "xColumns": null,
        "yColumns": null
       },
       "removedWidgets": [],
       "schema": [
        {
         "metadata": "{}",
         "name": "COUNTRY_ID",
         "type": "\"string\""
        },
        {
         "metadata": "{}",
         "name": "NAME",
         "type": "\"string\""
        },
        {
         "metadata": "{}",
         "name": "NATIONALITY",
         "type": "\"string\""
        },
        {
         "metadata": "{}",
         "name": "COUNTRY_CODE",
         "type": "\"string\""
        },
        {
         "metadata": "{}",
         "name": "ISO_ALPHA2",
         "type": "\"string\""
        },
        {
         "metadata": "{}",
         "name": "CAPITAL",
         "type": "\"string\""
        },
        {
         "metadata": "{}",
         "name": "POPULATION",
         "type": "\"string\""
        },
        {
         "metadata": "{}",
         "name": "AREA_KM2",
         "type": "\"string\""
        },
        {
         "metadata": "{}",
         "name": "REGION_ID",
         "type": "\"string\""
        },
        {
         "metadata": "{}",
         "name": "SUB_REGION_ID",
         "type": "\"string\""
        },
        {
         "metadata": "{}",
         "name": "INTERMEDIATE_REGION_ID",
         "type": "\"string\""
        },
        {
         "metadata": "{}",
         "name": "ORGANIZATION_REGION_ID",
         "type": "\"string\""
        }
       ],
       "type": "table"
      }
     },
     "output_type": "display_data"
    }
   ],
   "source": [
    "# Visualizing the dataframe (Alternate way) \n",
    "display(df)"
   ]
  },
  {
   "cell_type": "code",
   "execution_count": 0,
   "metadata": {
    "application/vnd.databricks.v1+cell": {
     "cellMetadata": {
      "byteLimit": 2048000,
      "rowLimit": 10000
     },
     "inputWidgets": {},
     "nuid": "1780e644-1a8e-4899-8d94-e5948bc2c454",
     "showTitle": false,
     "title": ""
    }
   },
   "outputs": [],
   "source": [
    "#Reading the Single line json file\n",
    "df_json=spark.read.json(\"dbfs:/FileStore/countries_single_line.json\")"
   ]
  },
  {
   "cell_type": "code",
   "execution_count": 0,
   "metadata": {
    "application/vnd.databricks.v1+cell": {
     "cellMetadata": {
      "byteLimit": 2048000,
      "rowLimit": 10000
     },
     "inputWidgets": {},
     "nuid": "a06046a9-fd99-40f4-a245-c9fe7dba3665",
     "showTitle": false,
     "title": ""
    }
   },
   "outputs": [
    {
     "output_type": "display_data",
     "data": {
      "text/html": [
       "<style scoped>\n",
       "  .table-result-container {\n",
       "    max-height: 300px;\n",
       "    overflow: auto;\n",
       "  }\n",
       "  table, th, td {\n",
       "    border: 1px solid black;\n",
       "    border-collapse: collapse;\n",
       "  }\n",
       "  th, td {\n",
       "    padding: 5px;\n",
       "  }\n",
       "  th {\n",
       "    text-align: left;\n",
       "  }\n",
       "</style><div class='table-result-container'><table class='table-result'><thead style='background-color: white'><tr><th>COUNTRY_ID</th><th>NAME</th><th>NATIONALITY</th><th>COUNTRY_CODE</th><th>ISO_ALPHA2</th><th>CAPITAL</th><th>POPULATION</th><th>AREA_KM2</th><th>REGION_ID</th><th>SUB_REGION_ID</th><th>INTERMEDIATE_REGION_ID</th><th>ORGANIZATION_REGION_ID</th></tr></thead><tbody><tr><td>1</td><td>Afghanistan</td><td>Afghan</td><td>AFG</td><td>AF</td><td>Kabul</td><td>38041754</td><td>652230</td><td>30</td><td>30</td><td>null</td><td>30</td></tr><tr><td>2</td><td>Albania</td><td>Albanian</td><td>ALB</td><td>AL</td><td>Tirana</td><td>2880917</td><td>28748</td><td>20</td><td>70</td><td>null</td><td>20</td></tr><tr><td>3</td><td>Algeria</td><td>Algerian</td><td>DZA</td><td>DZ</td><td>Algiers</td><td>43053054</td><td>2381741</td><td>50</td><td>40</td><td>null</td><td>20</td></tr><tr><td>4</td><td>American Samoa</td><td>American Samoan</td><td>ASM</td><td>AS</td><td>Pago Pago</td><td>55312</td><td>199</td><td>40</td><td>20</td><td>null</td><td>30</td></tr><tr><td>5</td><td>Andorra</td><td>Andorran</td><td>AND</td><td>AD</td><td>Andorra la Vella</td><td>77142</td><td>468</td><td>20</td><td>70</td><td>null</td><td>20</td></tr><tr><td>6</td><td>Angola</td><td>Angolan</td><td>AGO</td><td>AO</td><td>Luanda</td><td>31825295</td><td>1246700</td><td>50</td><td>160</td><td>80</td><td>20</td></tr><tr><td>7</td><td>Anguilla</td><td>Anguillan</td><td>AIA</td><td>AI</td><td>The Valley</td><td>14869</td><td>91</td><td>10</td><td>10</td><td>60</td><td>40</td></tr><tr><td>8</td><td>Antarctica</td><td>Antarctic</td><td>ATA</td><td>AQ</td><td>McMurdo Station</td><td>1106</td><td>14200000</td><td>40</td><td>null</td><td>null</td><td>30</td></tr><tr><td>9</td><td>Antigua and Barbuda</td><td>Antiguan or Barbudan</td><td>ATG</td><td>AG</td><td>St. John's</td><td>97118</td><td>442</td><td>10</td><td>10</td><td>60</td><td>40</td></tr><tr><td>10</td><td>Argentina</td><td>Argentine</td><td>ARG</td><td>AR</td><td>Buenos Aires</td><td>44780677</td><td>2780400</td><td>10</td><td>10</td><td>40</td><td>40</td></tr></tbody></table></div>"
      ]
     },
     "metadata": {
      "application/vnd.databricks.v1+output": {
       "addedWidgets": {},
       "aggData": [],
       "aggError": "",
       "aggOverflow": false,
       "aggSchema": [],
       "aggSeriesLimitReached": false,
       "aggType": "",
       "arguments": {},
       "columnCustomDisplayInfos": {},
       "data": [
        [
         "1",
         "Afghanistan",
         "Afghan",
         "AFG",
         "AF",
         "Kabul",
         "38041754",
         "652230",
         "30",
         "30",
         null,
         "30"
        ],
        [
         "2",
         "Albania",
         "Albanian",
         "ALB",
         "AL",
         "Tirana",
         "2880917",
         "28748",
         "20",
         "70",
         null,
         "20"
        ],
        [
         "3",
         "Algeria",
         "Algerian",
         "DZA",
         "DZ",
         "Algiers",
         "43053054",
         "2381741",
         "50",
         "40",
         null,
         "20"
        ],
        [
         "4",
         "American Samoa",
         "American Samoan",
         "ASM",
         "AS",
         "Pago Pago",
         "55312",
         "199",
         "40",
         "20",
         null,
         "30"
        ],
        [
         "5",
         "Andorra",
         "Andorran",
         "AND",
         "AD",
         "Andorra la Vella",
         "77142",
         "468",
         "20",
         "70",
         null,
         "20"
        ],
        [
         "6",
         "Angola",
         "Angolan",
         "AGO",
         "AO",
         "Luanda",
         "31825295",
         "1246700",
         "50",
         "160",
         "80",
         "20"
        ],
        [
         "7",
         "Anguilla",
         "Anguillan",
         "AIA",
         "AI",
         "The Valley",
         "14869",
         "91",
         "10",
         "10",
         "60",
         "40"
        ],
        [
         "8",
         "Antarctica",
         "Antarctic",
         "ATA",
         "AQ",
         "McMurdo Station",
         "1106",
         "14200000",
         "40",
         null,
         null,
         "30"
        ],
        [
         "9",
         "Antigua and Barbuda",
         "Antiguan or Barbudan",
         "ATG",
         "AG",
         "St. John's",
         "97118",
         "442",
         "10",
         "10",
         "60",
         "40"
        ],
        [
         "10",
         "Argentina",
         "Argentine",
         "ARG",
         "AR",
         "Buenos Aires",
         "44780677",
         "2780400",
         "10",
         "10",
         "40",
         "40"
        ]
       ],
       "datasetInfos": [],
       "dbfsResultPath": null,
       "isJsonSchema": true,
       "metadata": {},
       "overflow": false,
       "plotOptions": {
        "customPlotOptions": {},
        "displayType": "table",
        "pivotAggregation": null,
        "pivotColumns": null,
        "xColumns": null,
        "yColumns": null
       },
       "removedWidgets": [],
       "schema": [
        {
         "metadata": "{}",
         "name": "COUNTRY_ID",
         "type": "\"string\""
        },
        {
         "metadata": "{}",
         "name": "NAME",
         "type": "\"string\""
        },
        {
         "metadata": "{}",
         "name": "NATIONALITY",
         "type": "\"string\""
        },
        {
         "metadata": "{}",
         "name": "COUNTRY_CODE",
         "type": "\"string\""
        },
        {
         "metadata": "{}",
         "name": "ISO_ALPHA2",
         "type": "\"string\""
        },
        {
         "metadata": "{}",
         "name": "CAPITAL",
         "type": "\"string\""
        },
        {
         "metadata": "{}",
         "name": "POPULATION",
         "type": "\"string\""
        },
        {
         "metadata": "{}",
         "name": "AREA_KM2",
         "type": "\"string\""
        },
        {
         "metadata": "{}",
         "name": "REGION_ID",
         "type": "\"string\""
        },
        {
         "metadata": "{}",
         "name": "SUB_REGION_ID",
         "type": "\"string\""
        },
        {
         "metadata": "{}",
         "name": "INTERMEDIATE_REGION_ID",
         "type": "\"string\""
        },
        {
         "metadata": "{}",
         "name": "ORGANIZATION_REGION_ID",
         "type": "\"string\""
        }
       ],
       "type": "table"
      }
     },
     "output_type": "display_data"
    }
   ],
   "source": [
    "# Visualizing the dataframe\n",
    "df.display()"
   ]
  },
  {
   "cell_type": "code",
   "execution_count": 0,
   "metadata": {
    "application/vnd.databricks.v1+cell": {
     "cellMetadata": {
      "byteLimit": 2048000,
      "rowLimit": 10000
     },
     "inputWidgets": {},
     "nuid": "37c2d5ba-72a8-4dbd-ba8c-fbfcf44c619d",
     "showTitle": false,
     "title": ""
    }
   },
   "outputs": [],
   "source": [
    "#Reading the multiline json file \n",
    "df_json_ml=spark.read.options(multiline=True).json('dbfs:/FileStore/countries_multi_line.json')"
   ]
  },
  {
   "cell_type": "code",
   "execution_count": 0,
   "metadata": {
    "application/vnd.databricks.v1+cell": {
     "cellMetadata": {
      "byteLimit": 2048000,
      "rowLimit": 10000
     },
     "inputWidgets": {},
     "nuid": "effd7d3a-f491-460b-b84b-a2fc986260b0",
     "showTitle": false,
     "title": ""
    }
   },
   "outputs": [
    {
     "output_type": "display_data",
     "data": {
      "text/html": [
       "<style scoped>\n",
       "  .table-result-container {\n",
       "    max-height: 300px;\n",
       "    overflow: auto;\n",
       "  }\n",
       "  table, th, td {\n",
       "    border: 1px solid black;\n",
       "    border-collapse: collapse;\n",
       "  }\n",
       "  th, td {\n",
       "    padding: 5px;\n",
       "  }\n",
       "  th {\n",
       "    text-align: left;\n",
       "  }\n",
       "</style><div class='table-result-container'><table class='table-result'><thead style='background-color: white'><tr><th>AREA_KM2</th><th>CAPITAL</th><th>COUNTRY_CODE</th><th>COUNTRY_ID</th><th>INTERMEDIATE_REGION_ID</th><th>ISO_ALPHA2</th><th>NAME</th><th>NATIONALITY</th><th>ORGANIZATION_REGION_ID</th><th>POPULATION</th><th>REGION_ID</th><th>SUB_REGION_ID</th></tr></thead><tbody><tr><td>652230</td><td>Kabul</td><td>AFG</td><td>1</td><td>null</td><td>AF</td><td>Afghanistan</td><td>Afghan</td><td>30</td><td>38041754</td><td>30</td><td>30</td></tr><tr><td>28748</td><td>Tirana</td><td>ALB</td><td>2</td><td>null</td><td>AL</td><td>Albania</td><td>Albanian</td><td>20</td><td>2880917</td><td>20</td><td>70</td></tr><tr><td>2381741</td><td>Algiers</td><td>DZA</td><td>3</td><td>null</td><td>DZ</td><td>Algeria</td><td>Algerian</td><td>20</td><td>43053054</td><td>50</td><td>40</td></tr><tr><td>199</td><td>Pago Pago</td><td>ASM</td><td>4</td><td>null</td><td>AS</td><td>American Samoa</td><td>American Samoan</td><td>30</td><td>55312</td><td>40</td><td>20</td></tr><tr><td>468</td><td>Andorra la Vella</td><td>AND</td><td>5</td><td>null</td><td>AD</td><td>Andorra</td><td>Andorran</td><td>20</td><td>77142</td><td>20</td><td>70</td></tr><tr><td>1246700</td><td>Luanda</td><td>AGO</td><td>6</td><td>80</td><td>AO</td><td>Angola</td><td>Angolan</td><td>20</td><td>31825295</td><td>50</td><td>160</td></tr><tr><td>91</td><td>The Valley</td><td>AIA</td><td>7</td><td>60</td><td>AI</td><td>Anguilla</td><td>Anguillan</td><td>40</td><td>14869</td><td>10</td><td>10</td></tr><tr><td>14200000</td><td>McMurdo Station</td><td>ATA</td><td>8</td><td>null</td><td>AQ</td><td>Antarctica</td><td>Antarctic</td><td>30</td><td>1106</td><td>40</td><td>null</td></tr><tr><td>442</td><td>St. John's</td><td>ATG</td><td>9</td><td>60</td><td>AG</td><td>Antigua and Barbuda</td><td>Antiguan or Barbudan</td><td>40</td><td>97118</td><td>10</td><td>10</td></tr><tr><td>2780400</td><td>Buenos Aires</td><td>ARG</td><td>10</td><td>40</td><td>AR</td><td>Argentina</td><td>Argentine</td><td>40</td><td>44780677</td><td>10</td><td>10</td></tr></tbody></table></div>"
      ]
     },
     "metadata": {
      "application/vnd.databricks.v1+output": {
       "addedWidgets": {},
       "aggData": [],
       "aggError": "",
       "aggOverflow": false,
       "aggSchema": [],
       "aggSeriesLimitReached": false,
       "aggType": "",
       "arguments": {},
       "columnCustomDisplayInfos": {},
       "data": [
        [
         652230,
         "Kabul",
         "AFG",
         1,
         null,
         "AF",
         "Afghanistan",
         "Afghan",
         30,
         38041754,
         30,
         30
        ],
        [
         28748,
         "Tirana",
         "ALB",
         2,
         null,
         "AL",
         "Albania",
         "Albanian",
         20,
         2880917,
         20,
         70
        ],
        [
         2381741,
         "Algiers",
         "DZA",
         3,
         null,
         "DZ",
         "Algeria",
         "Algerian",
         20,
         43053054,
         50,
         40
        ],
        [
         199,
         "Pago Pago",
         "ASM",
         4,
         null,
         "AS",
         "American Samoa",
         "American Samoan",
         30,
         55312,
         40,
         20
        ],
        [
         468,
         "Andorra la Vella",
         "AND",
         5,
         null,
         "AD",
         "Andorra",
         "Andorran",
         20,
         77142,
         20,
         70
        ],
        [
         1246700,
         "Luanda",
         "AGO",
         6,
         80,
         "AO",
         "Angola",
         "Angolan",
         20,
         31825295,
         50,
         160
        ],
        [
         91,
         "The Valley",
         "AIA",
         7,
         60,
         "AI",
         "Anguilla",
         "Anguillan",
         40,
         14869,
         10,
         10
        ],
        [
         14200000,
         "McMurdo Station",
         "ATA",
         8,
         null,
         "AQ",
         "Antarctica",
         "Antarctic",
         30,
         1106,
         40,
         null
        ],
        [
         442,
         "St. John's",
         "ATG",
         9,
         60,
         "AG",
         "Antigua and Barbuda",
         "Antiguan or Barbudan",
         40,
         97118,
         10,
         10
        ],
        [
         2780400,
         "Buenos Aires",
         "ARG",
         10,
         40,
         "AR",
         "Argentina",
         "Argentine",
         40,
         44780677,
         10,
         10
        ]
       ],
       "datasetInfos": [],
       "dbfsResultPath": null,
       "isJsonSchema": true,
       "metadata": {},
       "overflow": false,
       "plotOptions": {
        "customPlotOptions": {},
        "displayType": "table",
        "pivotAggregation": null,
        "pivotColumns": null,
        "xColumns": null,
        "yColumns": null
       },
       "removedWidgets": [],
       "schema": [
        {
         "metadata": "{}",
         "name": "AREA_KM2",
         "type": "\"long\""
        },
        {
         "metadata": "{}",
         "name": "CAPITAL",
         "type": "\"string\""
        },
        {
         "metadata": "{}",
         "name": "COUNTRY_CODE",
         "type": "\"string\""
        },
        {
         "metadata": "{}",
         "name": "COUNTRY_ID",
         "type": "\"long\""
        },
        {
         "metadata": "{}",
         "name": "INTERMEDIATE_REGION_ID",
         "type": "\"long\""
        },
        {
         "metadata": "{}",
         "name": "ISO_ALPHA2",
         "type": "\"string\""
        },
        {
         "metadata": "{}",
         "name": "NAME",
         "type": "\"string\""
        },
        {
         "metadata": "{}",
         "name": "NATIONALITY",
         "type": "\"string\""
        },
        {
         "metadata": "{}",
         "name": "ORGANIZATION_REGION_ID",
         "type": "\"long\""
        },
        {
         "metadata": "{}",
         "name": "POPULATION",
         "type": "\"long\""
        },
        {
         "metadata": "{}",
         "name": "REGION_ID",
         "type": "\"long\""
        },
        {
         "metadata": "{}",
         "name": "SUB_REGION_ID",
         "type": "\"long\""
        }
       ],
       "type": "table"
      }
     },
     "output_type": "display_data"
    }
   ],
   "source": [
    "# Visualizing the dataframe\n",
    "df_json_ml.display()"
   ]
  },
  {
   "cell_type": "code",
   "execution_count": 0,
   "metadata": {
    "application/vnd.databricks.v1+cell": {
     "cellMetadata": {
      "byteLimit": 2048000,
      "rowLimit": 10000
     },
     "inputWidgets": {},
     "nuid": "a4d236c9-9246-4c64-a6ef-a6614dc10f55",
     "showTitle": false,
     "title": ""
    }
   },
   "outputs": [],
   "source": [
    "#Reading the text file\n",
    "df_txt=spark.read.csv('dbfs:/FileStore/countries.txt', header=True, sep='\\t')"
   ]
  },
  {
   "cell_type": "code",
   "execution_count": 0,
   "metadata": {
    "application/vnd.databricks.v1+cell": {
     "cellMetadata": {
      "byteLimit": 2048000,
      "rowLimit": 10000
     },
     "inputWidgets": {},
     "nuid": "f4aa5e2f-225c-41a6-a650-99d5e03d051a",
     "showTitle": false,
     "title": ""
    }
   },
   "outputs": [
    {
     "output_type": "display_data",
     "data": {
      "text/html": [
       "<style scoped>\n",
       "  .table-result-container {\n",
       "    max-height: 300px;\n",
       "    overflow: auto;\n",
       "  }\n",
       "  table, th, td {\n",
       "    border: 1px solid black;\n",
       "    border-collapse: collapse;\n",
       "  }\n",
       "  th, td {\n",
       "    padding: 5px;\n",
       "  }\n",
       "  th {\n",
       "    text-align: left;\n",
       "  }\n",
       "</style><div class='table-result-container'><table class='table-result'><thead style='background-color: white'><tr><th>COUNTRY_ID</th><th>NAME</th><th>NATIONALITY</th><th>COUNTRY_CODE</th><th>ISO_ALPHA2</th><th>CAPITAL</th><th>POPULATION</th><th>AREA_KM2</th><th>REGION_ID</th><th>SUB_REGION_ID</th><th>INTERMEDIATE_REGION_ID</th><th>ORGANIZATION_REGION_ID</th></tr></thead><tbody><tr><td>1</td><td>Afghanistan</td><td>Afghan</td><td>AFG</td><td>AF</td><td>Kabul</td><td>38041754</td><td>652230</td><td>30</td><td>30</td><td>null</td><td>30</td></tr><tr><td>2</td><td>Albania</td><td>Albanian</td><td>ALB</td><td>AL</td><td>Tirana</td><td>2880917</td><td>28748</td><td>20</td><td>70</td><td>null</td><td>20</td></tr><tr><td>3</td><td>Algeria</td><td>Algerian</td><td>DZA</td><td>DZ</td><td>Algiers</td><td>43053054</td><td>2381741</td><td>50</td><td>40</td><td>null</td><td>20</td></tr><tr><td>4</td><td>American Samoa</td><td>American Samoan</td><td>ASM</td><td>AS</td><td>Pago Pago</td><td>55312</td><td>199</td><td>40</td><td>20</td><td>null</td><td>30</td></tr><tr><td>5</td><td>Andorra</td><td>Andorran</td><td>AND</td><td>AD</td><td>Andorra la Vella</td><td>77142</td><td>468</td><td>20</td><td>70</td><td>null</td><td>20</td></tr><tr><td>6</td><td>Angola</td><td>Angolan</td><td>AGO</td><td>AO</td><td>Luanda</td><td>31825295</td><td>1246700</td><td>50</td><td>160</td><td>80</td><td>20</td></tr><tr><td>7</td><td>Anguilla</td><td>Anguillan</td><td>AIA</td><td>AI</td><td>The Valley</td><td>14869</td><td>91</td><td>10</td><td>10</td><td>60</td><td>40</td></tr><tr><td>8</td><td>Antarctica</td><td>Antarctic</td><td>ATA</td><td>AQ</td><td>McMurdo Station</td><td>1106</td><td>14200000</td><td>40</td><td>null</td><td>null</td><td>30</td></tr><tr><td>9</td><td>Antigua and Barbuda</td><td>Antiguan or Barbudan</td><td>ATG</td><td>AG</td><td>St. John's</td><td>97118</td><td>442</td><td>10</td><td>10</td><td>60</td><td>40</td></tr><tr><td>10</td><td>Argentina</td><td>Argentine</td><td>ARG</td><td>AR</td><td>Buenos Aires</td><td>44780677</td><td>2780400</td><td>10</td><td>10</td><td>40</td><td>40</td></tr></tbody></table></div>"
      ]
     },
     "metadata": {
      "application/vnd.databricks.v1+output": {
       "addedWidgets": {},
       "aggData": [],
       "aggError": "",
       "aggOverflow": false,
       "aggSchema": [],
       "aggSeriesLimitReached": false,
       "aggType": "",
       "arguments": {},
       "columnCustomDisplayInfos": {},
       "data": [
        [
         "1",
         "Afghanistan",
         "Afghan",
         "AFG",
         "AF",
         "Kabul",
         "38041754",
         "652230",
         "30",
         "30",
         null,
         "30"
        ],
        [
         "2",
         "Albania",
         "Albanian",
         "ALB",
         "AL",
         "Tirana",
         "2880917",
         "28748",
         "20",
         "70",
         null,
         "20"
        ],
        [
         "3",
         "Algeria",
         "Algerian",
         "DZA",
         "DZ",
         "Algiers",
         "43053054",
         "2381741",
         "50",
         "40",
         null,
         "20"
        ],
        [
         "4",
         "American Samoa",
         "American Samoan",
         "ASM",
         "AS",
         "Pago Pago",
         "55312",
         "199",
         "40",
         "20",
         null,
         "30"
        ],
        [
         "5",
         "Andorra",
         "Andorran",
         "AND",
         "AD",
         "Andorra la Vella",
         "77142",
         "468",
         "20",
         "70",
         null,
         "20"
        ],
        [
         "6",
         "Angola",
         "Angolan",
         "AGO",
         "AO",
         "Luanda",
         "31825295",
         "1246700",
         "50",
         "160",
         "80",
         "20"
        ],
        [
         "7",
         "Anguilla",
         "Anguillan",
         "AIA",
         "AI",
         "The Valley",
         "14869",
         "91",
         "10",
         "10",
         "60",
         "40"
        ],
        [
         "8",
         "Antarctica",
         "Antarctic",
         "ATA",
         "AQ",
         "McMurdo Station",
         "1106",
         "14200000",
         "40",
         null,
         null,
         "30"
        ],
        [
         "9",
         "Antigua and Barbuda",
         "Antiguan or Barbudan",
         "ATG",
         "AG",
         "St. John's",
         "97118",
         "442",
         "10",
         "10",
         "60",
         "40"
        ],
        [
         "10",
         "Argentina",
         "Argentine",
         "ARG",
         "AR",
         "Buenos Aires",
         "44780677",
         "2780400",
         "10",
         "10",
         "40",
         "40"
        ]
       ],
       "datasetInfos": [],
       "dbfsResultPath": null,
       "isJsonSchema": true,
       "metadata": {},
       "overflow": false,
       "plotOptions": {
        "customPlotOptions": {},
        "displayType": "table",
        "pivotAggregation": null,
        "pivotColumns": null,
        "xColumns": null,
        "yColumns": null
       },
       "removedWidgets": [],
       "schema": [
        {
         "metadata": "{}",
         "name": "COUNTRY_ID",
         "type": "\"string\""
        },
        {
         "metadata": "{}",
         "name": "NAME",
         "type": "\"string\""
        },
        {
         "metadata": "{}",
         "name": "NATIONALITY",
         "type": "\"string\""
        },
        {
         "metadata": "{}",
         "name": "COUNTRY_CODE",
         "type": "\"string\""
        },
        {
         "metadata": "{}",
         "name": "ISO_ALPHA2",
         "type": "\"string\""
        },
        {
         "metadata": "{}",
         "name": "CAPITAL",
         "type": "\"string\""
        },
        {
         "metadata": "{}",
         "name": "POPULATION",
         "type": "\"string\""
        },
        {
         "metadata": "{}",
         "name": "AREA_KM2",
         "type": "\"string\""
        },
        {
         "metadata": "{}",
         "name": "REGION_ID",
         "type": "\"string\""
        },
        {
         "metadata": "{}",
         "name": "SUB_REGION_ID",
         "type": "\"string\""
        },
        {
         "metadata": "{}",
         "name": "INTERMEDIATE_REGION_ID",
         "type": "\"string\""
        },
        {
         "metadata": "{}",
         "name": "ORGANIZATION_REGION_ID",
         "type": "\"string\""
        }
       ],
       "type": "table"
      }
     },
     "output_type": "display_data"
    }
   ],
   "source": [
    "# Visualizing the dataframe\n",
    "df_txt.display()"
   ]
  },
  {
   "cell_type": "code",
   "execution_count": 0,
   "metadata": {
    "application/vnd.databricks.v1+cell": {
     "cellMetadata": {
      "byteLimit": 2048000,
      "rowLimit": 10000
     },
     "inputWidgets": {},
     "nuid": "5c8fcea9-82be-466b-bdbf-e701b02b4fa9",
     "showTitle": false,
     "title": ""
    }
   },
   "outputs": [
    {
     "output_type": "stream",
     "name": "stdout",
     "output_type": "stream",
     "text": [
      "Out[102]: [('COUNTRY_ID', 'string'),\n ('NAME', 'string'),\n ('NATIONALITY', 'string'),\n ('COUNTRY_CODE', 'string'),\n ('ISO_ALPHA2', 'string'),\n ('CAPITAL', 'string'),\n ('POPULATION', 'string'),\n ('AREA_KM2', 'string'),\n ('REGION_ID', 'string'),\n ('SUB_REGION_ID', 'string'),\n ('INTERMEDIATE_REGION_ID', 'string'),\n ('ORGANIZATION_REGION_ID', 'string')]"
     ]
    }
   ],
   "source": [
    "#Checking the data types\n",
    "df.dtypes"
   ]
  },
  {
   "cell_type": "code",
   "execution_count": 0,
   "metadata": {
    "application/vnd.databricks.v1+cell": {
     "cellMetadata": {
      "byteLimit": 2048000,
      "rowLimit": 10000
     },
     "inputWidgets": {},
     "nuid": "ab6821e4-3b57-4a09-992d-aada165e5ff9",
     "showTitle": false,
     "title": ""
    }
   },
   "outputs": [],
   "source": [
    "#Using StructType and StructField to define the dataframe structure / changing the data types\n",
    "from pyspark.sql.types import  StructType,StructField, IntegerType, StringType, DoubleType"
   ]
  },
  {
   "cell_type": "code",
   "execution_count": 0,
   "metadata": {
    "application/vnd.databricks.v1+cell": {
     "cellMetadata": {
      "byteLimit": 2048000,
      "rowLimit": 10000
     },
     "inputWidgets": {},
     "nuid": "a2725cdc-5ee4-45fd-8cee-62a81fa219ac",
     "showTitle": false,
     "title": ""
    }
   },
   "outputs": [],
   "source": [
    "col_structure= StructType([StructField('COUNTRY_ID', IntegerType(), False),StructField('NAME', StringType(),False),StructField('NATIONALITY', StringType(),False),StructField('COUNTRY_CODE', StringType(),False),StructField('ISO_ALPHA2', StringType(),False),StructField('CAPITAL', StringType(),False),StructField('POPULATION', DoubleType(),False),StructField('AREA_KM2', IntegerType(),False),StructField('REGION_ID', IntegerType(),False),StructField('SUB_REGION_ID', IntegerType(),False),StructField('INTERMEDIATE_REGION_ID', IntegerType(),False),StructField('ORGANISATION_REGION_ID', IntegerType(),False)])"
   ]
  },
  {
   "cell_type": "code",
   "execution_count": 0,
   "metadata": {
    "application/vnd.databricks.v1+cell": {
     "cellMetadata": {
      "byteLimit": 2048000,
      "rowLimit": 10000
     },
     "inputWidgets": {},
     "nuid": "befaf24e-0332-4fd8-87cc-ea0bd57e6ca9",
     "showTitle": false,
     "title": ""
    }
   },
   "outputs": [],
   "source": [
    "df_new=spark.read.csv(\"dbfs:/FileStore/countries.csv\",header=True,schema=col_structure)"
   ]
  },
  {
   "cell_type": "code",
   "execution_count": 0,
   "metadata": {
    "application/vnd.databricks.v1+cell": {
     "cellMetadata": {
      "byteLimit": 2048000,
      "rowLimit": 10000
     },
     "inputWidgets": {},
     "nuid": "b2b5cac6-4b5d-4ba8-9d45-74642431ce1a",
     "showTitle": false,
     "title": ""
    }
   },
   "outputs": [
    {
     "output_type": "display_data",
     "data": {
      "text/html": [
       "<style scoped>\n",
       "  .table-result-container {\n",
       "    max-height: 300px;\n",
       "    overflow: auto;\n",
       "  }\n",
       "  table, th, td {\n",
       "    border: 1px solid black;\n",
       "    border-collapse: collapse;\n",
       "  }\n",
       "  th, td {\n",
       "    padding: 5px;\n",
       "  }\n",
       "  th {\n",
       "    text-align: left;\n",
       "  }\n",
       "</style><div class='table-result-container'><table class='table-result'><thead style='background-color: white'><tr><th>COUNTRY_ID</th><th>NAME</th><th>NATIONALITY</th><th>COUNTRY_CODE</th><th>ISO_ALPHA2</th><th>CAPITAL</th><th>POPULATION</th><th>AREA_KM2</th><th>REGION_ID</th><th>SUB_REGION_ID</th><th>INTERMEDIATE_REGION_ID</th><th>ORGANISATION_REGION_ID</th></tr></thead><tbody><tr><td>1</td><td>Afghanistan</td><td>Afghan</td><td>AFG</td><td>AF</td><td>Kabul</td><td>3.8041754E7</td><td>652230</td><td>30</td><td>30</td><td>null</td><td>30</td></tr><tr><td>2</td><td>Albania</td><td>Albanian</td><td>ALB</td><td>AL</td><td>Tirana</td><td>2880917.0</td><td>28748</td><td>20</td><td>70</td><td>null</td><td>20</td></tr><tr><td>3</td><td>Algeria</td><td>Algerian</td><td>DZA</td><td>DZ</td><td>Algiers</td><td>4.3053054E7</td><td>2381741</td><td>50</td><td>40</td><td>null</td><td>20</td></tr><tr><td>4</td><td>American Samoa</td><td>American Samoan</td><td>ASM</td><td>AS</td><td>Pago Pago</td><td>55312.0</td><td>199</td><td>40</td><td>20</td><td>null</td><td>30</td></tr><tr><td>5</td><td>Andorra</td><td>Andorran</td><td>AND</td><td>AD</td><td>Andorra la Vella</td><td>77142.0</td><td>468</td><td>20</td><td>70</td><td>null</td><td>20</td></tr><tr><td>6</td><td>Angola</td><td>Angolan</td><td>AGO</td><td>AO</td><td>Luanda</td><td>3.1825295E7</td><td>1246700</td><td>50</td><td>160</td><td>80</td><td>20</td></tr><tr><td>7</td><td>Anguilla</td><td>Anguillan</td><td>AIA</td><td>AI</td><td>The Valley</td><td>14869.0</td><td>91</td><td>10</td><td>10</td><td>60</td><td>40</td></tr><tr><td>8</td><td>Antarctica</td><td>Antarctic</td><td>ATA</td><td>AQ</td><td>McMurdo Station</td><td>1106.0</td><td>14200000</td><td>40</td><td>null</td><td>null</td><td>30</td></tr><tr><td>9</td><td>Antigua and Barbuda</td><td>Antiguan or Barbudan</td><td>ATG</td><td>AG</td><td>St. John's</td><td>97118.0</td><td>442</td><td>10</td><td>10</td><td>60</td><td>40</td></tr><tr><td>10</td><td>Argentina</td><td>Argentine</td><td>ARG</td><td>AR</td><td>Buenos Aires</td><td>4.4780677E7</td><td>2780400</td><td>10</td><td>10</td><td>40</td><td>40</td></tr></tbody></table></div>"
      ]
     },
     "metadata": {
      "application/vnd.databricks.v1+output": {
       "addedWidgets": {},
       "aggData": [],
       "aggError": "",
       "aggOverflow": false,
       "aggSchema": [],
       "aggSeriesLimitReached": false,
       "aggType": "",
       "arguments": {},
       "columnCustomDisplayInfos": {},
       "data": [
        [
         1,
         "Afghanistan",
         "Afghan",
         "AFG",
         "AF",
         "Kabul",
         3.8041754E7,
         652230,
         30,
         30,
         null,
         30
        ],
        [
         2,
         "Albania",
         "Albanian",
         "ALB",
         "AL",
         "Tirana",
         2880917.0,
         28748,
         20,
         70,
         null,
         20
        ],
        [
         3,
         "Algeria",
         "Algerian",
         "DZA",
         "DZ",
         "Algiers",
         4.3053054E7,
         2381741,
         50,
         40,
         null,
         20
        ],
        [
         4,
         "American Samoa",
         "American Samoan",
         "ASM",
         "AS",
         "Pago Pago",
         55312.0,
         199,
         40,
         20,
         null,
         30
        ],
        [
         5,
         "Andorra",
         "Andorran",
         "AND",
         "AD",
         "Andorra la Vella",
         77142.0,
         468,
         20,
         70,
         null,
         20
        ],
        [
         6,
         "Angola",
         "Angolan",
         "AGO",
         "AO",
         "Luanda",
         3.1825295E7,
         1246700,
         50,
         160,
         80,
         20
        ],
        [
         7,
         "Anguilla",
         "Anguillan",
         "AIA",
         "AI",
         "The Valley",
         14869.0,
         91,
         10,
         10,
         60,
         40
        ],
        [
         8,
         "Antarctica",
         "Antarctic",
         "ATA",
         "AQ",
         "McMurdo Station",
         1106.0,
         14200000,
         40,
         null,
         null,
         30
        ],
        [
         9,
         "Antigua and Barbuda",
         "Antiguan or Barbudan",
         "ATG",
         "AG",
         "St. John's",
         97118.0,
         442,
         10,
         10,
         60,
         40
        ],
        [
         10,
         "Argentina",
         "Argentine",
         "ARG",
         "AR",
         "Buenos Aires",
         4.4780677E7,
         2780400,
         10,
         10,
         40,
         40
        ]
       ],
       "datasetInfos": [],
       "dbfsResultPath": null,
       "isJsonSchema": true,
       "metadata": {},
       "overflow": false,
       "plotOptions": {
        "customPlotOptions": {},
        "displayType": "table",
        "pivotAggregation": null,
        "pivotColumns": null,
        "xColumns": null,
        "yColumns": null
       },
       "removedWidgets": [],
       "schema": [
        {
         "metadata": "{}",
         "name": "COUNTRY_ID",
         "type": "\"integer\""
        },
        {
         "metadata": "{}",
         "name": "NAME",
         "type": "\"string\""
        },
        {
         "metadata": "{}",
         "name": "NATIONALITY",
         "type": "\"string\""
        },
        {
         "metadata": "{}",
         "name": "COUNTRY_CODE",
         "type": "\"string\""
        },
        {
         "metadata": "{}",
         "name": "ISO_ALPHA2",
         "type": "\"string\""
        },
        {
         "metadata": "{}",
         "name": "CAPITAL",
         "type": "\"string\""
        },
        {
         "metadata": "{}",
         "name": "POPULATION",
         "type": "\"double\""
        },
        {
         "metadata": "{}",
         "name": "AREA_KM2",
         "type": "\"integer\""
        },
        {
         "metadata": "{}",
         "name": "REGION_ID",
         "type": "\"integer\""
        },
        {
         "metadata": "{}",
         "name": "SUB_REGION_ID",
         "type": "\"integer\""
        },
        {
         "metadata": "{}",
         "name": "INTERMEDIATE_REGION_ID",
         "type": "\"integer\""
        },
        {
         "metadata": "{}",
         "name": "ORGANISATION_REGION_ID",
         "type": "\"integer\""
        }
       ],
       "type": "table"
      }
     },
     "output_type": "display_data"
    }
   ],
   "source": [
    "df_new.display()"
   ]
  },
  {
   "cell_type": "code",
   "execution_count": 0,
   "metadata": {
    "application/vnd.databricks.v1+cell": {
     "cellMetadata": {
      "byteLimit": 2048000,
      "rowLimit": 10000
     },
     "inputWidgets": {},
     "nuid": "8562c138-6614-43ee-924e-2edfffe9468e",
     "showTitle": false,
     "title": ""
    }
   },
   "outputs": [
    {
     "output_type": "display_data",
     "data": {
      "text/html": [
       "<style scoped>\n",
       "  .table-result-container {\n",
       "    max-height: 300px;\n",
       "    overflow: auto;\n",
       "  }\n",
       "  table, th, td {\n",
       "    border: 1px solid black;\n",
       "    border-collapse: collapse;\n",
       "  }\n",
       "  th, td {\n",
       "    padding: 5px;\n",
       "  }\n",
       "  th {\n",
       "    text-align: left;\n",
       "  }\n",
       "</style><div class='table-result-container'><table class='table-result'><thead style='background-color: white'><tr><th>Name</th><th>Nationality</th><th>Population</th></tr></thead><tbody><tr><td>Afghanistan</td><td>Afghan</td><td>38041754</td></tr><tr><td>Albania</td><td>Albanian</td><td>2880917</td></tr><tr><td>Algeria</td><td>Algerian</td><td>43053054</td></tr><tr><td>American Samoa</td><td>American Samoan</td><td>55312</td></tr><tr><td>Andorra</td><td>Andorran</td><td>77142</td></tr><tr><td>Angola</td><td>Angolan</td><td>31825295</td></tr><tr><td>Anguilla</td><td>Anguillan</td><td>14869</td></tr><tr><td>Antarctica</td><td>Antarctic</td><td>1106</td></tr><tr><td>Antigua and Barbuda</td><td>Antiguan or Barbudan</td><td>97118</td></tr><tr><td>Argentina</td><td>Argentine</td><td>44780677</td></tr></tbody></table></div>"
      ]
     },
     "metadata": {
      "application/vnd.databricks.v1+output": {
       "addedWidgets": {},
       "aggData": [],
       "aggError": "",
       "aggOverflow": false,
       "aggSchema": [],
       "aggSeriesLimitReached": false,
       "aggType": "",
       "arguments": {},
       "columnCustomDisplayInfos": {},
       "data": [
        [
         "Afghanistan",
         "Afghan",
         "38041754"
        ],
        [
         "Albania",
         "Albanian",
         "2880917"
        ],
        [
         "Algeria",
         "Algerian",
         "43053054"
        ],
        [
         "American Samoa",
         "American Samoan",
         "55312"
        ],
        [
         "Andorra",
         "Andorran",
         "77142"
        ],
        [
         "Angola",
         "Angolan",
         "31825295"
        ],
        [
         "Anguilla",
         "Anguillan",
         "14869"
        ],
        [
         "Antarctica",
         "Antarctic",
         "1106"
        ],
        [
         "Antigua and Barbuda",
         "Antiguan or Barbudan",
         "97118"
        ],
        [
         "Argentina",
         "Argentine",
         "44780677"
        ]
       ],
       "datasetInfos": [],
       "dbfsResultPath": null,
       "isJsonSchema": true,
       "metadata": {},
       "overflow": false,
       "plotOptions": {
        "customPlotOptions": {},
        "displayType": "table",
        "pivotAggregation": null,
        "pivotColumns": null,
        "xColumns": null,
        "yColumns": null
       },
       "removedWidgets": [],
       "schema": [
        {
         "metadata": "{}",
         "name": "Name",
         "type": "\"string\""
        },
        {
         "metadata": "{}",
         "name": "Nationality",
         "type": "\"string\""
        },
        {
         "metadata": "{}",
         "name": "Population",
         "type": "\"string\""
        }
       ],
       "type": "table"
      }
     },
     "output_type": "display_data"
    }
   ],
   "source": [
    "#Selecting the columns name \n",
    "df.select('Name','Nationality','Population').display()"
   ]
  },
  {
   "cell_type": "code",
   "execution_count": 0,
   "metadata": {
    "application/vnd.databricks.v1+cell": {
     "cellMetadata": {
      "byteLimit": 2048000,
      "rowLimit": 10000
     },
     "inputWidgets": {},
     "nuid": "b3f25bd7-2fc8-4eda-ae76-0b29299a5172",
     "showTitle": false,
     "title": ""
    }
   },
   "outputs": [],
   "source": [
    "from pyspark.sql.functions import col"
   ]
  },
  {
   "cell_type": "code",
   "execution_count": 0,
   "metadata": {
    "application/vnd.databricks.v1+cell": {
     "cellMetadata": {
      "byteLimit": 2048000,
      "rowLimit": 10000
     },
     "inputWidgets": {},
     "nuid": "3418cf23-e4b2-4920-b710-a03b8e8c8cfd",
     "showTitle": false,
     "title": ""
    }
   },
   "outputs": [
    {
     "output_type": "display_data",
     "data": {
      "text/html": [
       "<style scoped>\n",
       "  .table-result-container {\n",
       "    max-height: 300px;\n",
       "    overflow: auto;\n",
       "  }\n",
       "  table, th, td {\n",
       "    border: 1px solid black;\n",
       "    border-collapse: collapse;\n",
       "  }\n",
       "  th, td {\n",
       "    padding: 5px;\n",
       "  }\n",
       "  th {\n",
       "    text-align: left;\n",
       "  }\n",
       "</style><div class='table-result-container'><table class='table-result'><thead style='background-color: white'><tr><th>Name</th><th>Nationality</th><th>Country_code</th><th>Population</th></tr></thead><tbody><tr><td>Afghanistan</td><td>Afghan</td><td>AFG</td><td>38041754</td></tr><tr><td>Albania</td><td>Albanian</td><td>ALB</td><td>2880917</td></tr><tr><td>Algeria</td><td>Algerian</td><td>DZA</td><td>43053054</td></tr><tr><td>American Samoa</td><td>American Samoan</td><td>ASM</td><td>55312</td></tr><tr><td>Andorra</td><td>Andorran</td><td>AND</td><td>77142</td></tr><tr><td>Angola</td><td>Angolan</td><td>AGO</td><td>31825295</td></tr><tr><td>Anguilla</td><td>Anguillan</td><td>AIA</td><td>14869</td></tr><tr><td>Antarctica</td><td>Antarctic</td><td>ATA</td><td>1106</td></tr><tr><td>Antigua and Barbuda</td><td>Antiguan or Barbudan</td><td>ATG</td><td>97118</td></tr><tr><td>Argentina</td><td>Argentine</td><td>ARG</td><td>44780677</td></tr></tbody></table></div>"
      ]
     },
     "metadata": {
      "application/vnd.databricks.v1+output": {
       "addedWidgets": {},
       "aggData": [],
       "aggError": "",
       "aggOverflow": false,
       "aggSchema": [],
       "aggSeriesLimitReached": false,
       "aggType": "",
       "arguments": {},
       "columnCustomDisplayInfos": {},
       "data": [
        [
         "Afghanistan",
         "Afghan",
         "AFG",
         "38041754"
        ],
        [
         "Albania",
         "Albanian",
         "ALB",
         "2880917"
        ],
        [
         "Algeria",
         "Algerian",
         "DZA",
         "43053054"
        ],
        [
         "American Samoa",
         "American Samoan",
         "ASM",
         "55312"
        ],
        [
         "Andorra",
         "Andorran",
         "AND",
         "77142"
        ],
        [
         "Angola",
         "Angolan",
         "AGO",
         "31825295"
        ],
        [
         "Anguilla",
         "Anguillan",
         "AIA",
         "14869"
        ],
        [
         "Antarctica",
         "Antarctic",
         "ATA",
         "1106"
        ],
        [
         "Antigua and Barbuda",
         "Antiguan or Barbudan",
         "ATG",
         "97118"
        ],
        [
         "Argentina",
         "Argentine",
         "ARG",
         "44780677"
        ]
       ],
       "datasetInfos": [],
       "dbfsResultPath": null,
       "isJsonSchema": true,
       "metadata": {},
       "overflow": false,
       "plotOptions": {
        "customPlotOptions": {},
        "displayType": "table",
        "pivotAggregation": null,
        "pivotColumns": null,
        "xColumns": null,
        "yColumns": null
       },
       "removedWidgets": [],
       "schema": [
        {
         "metadata": "{}",
         "name": "Name",
         "type": "\"string\""
        },
        {
         "metadata": "{}",
         "name": "Nationality",
         "type": "\"string\""
        },
        {
         "metadata": "{}",
         "name": "Country_code",
         "type": "\"string\""
        },
        {
         "metadata": "{}",
         "name": "Population",
         "type": "\"string\""
        }
       ],
       "type": "table"
      }
     },
     "output_type": "display_data"
    }
   ],
   "source": [
    "#Selcting the column using the col function (Alternate apporach)\n",
    "df.select(col('Name'),col('Nationality'),col('Country_code'),col('Population')).display()"
   ]
  },
  {
   "cell_type": "code",
   "execution_count": 0,
   "metadata": {
    "application/vnd.databricks.v1+cell": {
     "cellMetadata": {
      "byteLimit": 2048000,
      "rowLimit": 10000
     },
     "inputWidgets": {},
     "nuid": "ae2b43a6-cf78-49b1-9d78-15a8488b13bc",
     "showTitle": false,
     "title": ""
    }
   },
   "outputs": [
    {
     "output_type": "display_data",
     "data": {
      "text/html": [
       "<style scoped>\n",
       "  .table-result-container {\n",
       "    max-height: 300px;\n",
       "    overflow: auto;\n",
       "  }\n",
       "  table, th, td {\n",
       "    border: 1px solid black;\n",
       "    border-collapse: collapse;\n",
       "  }\n",
       "  th, td {\n",
       "    padding: 5px;\n",
       "  }\n",
       "  th {\n",
       "    text-align: left;\n",
       "  }\n",
       "</style><div class='table-result-container'><table class='table-result'><thead style='background-color: white'><tr><th>New_Name</th><th>New_Nation</th><th>New_Population</th></tr></thead><tbody><tr><td>Afghanistan</td><td>Afghan</td><td>38041754</td></tr><tr><td>Albania</td><td>Albanian</td><td>2880917</td></tr><tr><td>Algeria</td><td>Algerian</td><td>43053054</td></tr><tr><td>American Samoa</td><td>American Samoan</td><td>55312</td></tr><tr><td>Andorra</td><td>Andorran</td><td>77142</td></tr><tr><td>Angola</td><td>Angolan</td><td>31825295</td></tr><tr><td>Anguilla</td><td>Anguillan</td><td>14869</td></tr><tr><td>Antarctica</td><td>Antarctic</td><td>1106</td></tr><tr><td>Antigua and Barbuda</td><td>Antiguan or Barbudan</td><td>97118</td></tr><tr><td>Argentina</td><td>Argentine</td><td>44780677</td></tr></tbody></table></div>"
      ]
     },
     "metadata": {
      "application/vnd.databricks.v1+output": {
       "addedWidgets": {},
       "aggData": [],
       "aggError": "",
       "aggOverflow": false,
       "aggSchema": [],
       "aggSeriesLimitReached": false,
       "aggType": "",
       "arguments": {},
       "columnCustomDisplayInfos": {},
       "data": [
        [
         "Afghanistan",
         "Afghan",
         "38041754"
        ],
        [
         "Albania",
         "Albanian",
         "2880917"
        ],
        [
         "Algeria",
         "Algerian",
         "43053054"
        ],
        [
         "American Samoa",
         "American Samoan",
         "55312"
        ],
        [
         "Andorra",
         "Andorran",
         "77142"
        ],
        [
         "Angola",
         "Angolan",
         "31825295"
        ],
        [
         "Anguilla",
         "Anguillan",
         "14869"
        ],
        [
         "Antarctica",
         "Antarctic",
         "1106"
        ],
        [
         "Antigua and Barbuda",
         "Antiguan or Barbudan",
         "97118"
        ],
        [
         "Argentina",
         "Argentine",
         "44780677"
        ]
       ],
       "datasetInfos": [],
       "dbfsResultPath": null,
       "isJsonSchema": true,
       "metadata": {},
       "overflow": false,
       "plotOptions": {
        "customPlotOptions": {},
        "displayType": "table",
        "pivotAggregation": null,
        "pivotColumns": null,
        "xColumns": null,
        "yColumns": null
       },
       "removedWidgets": [],
       "schema": [
        {
         "metadata": "{}",
         "name": "New_Name",
         "type": "\"string\""
        },
        {
         "metadata": "{}",
         "name": "New_Nation",
         "type": "\"string\""
        },
        {
         "metadata": "{}",
         "name": "New_Population",
         "type": "\"string\""
        }
       ],
       "type": "table"
      }
     },
     "output_type": "display_data"
    }
   ],
   "source": [
    "# Renaming the column name \n",
    "df.select(df['Name'].alias('New_Name'), df['Nationality'].alias('New_Nation'), df['Population'].alias('New_Population')).display()"
   ]
  },
  {
   "cell_type": "code",
   "execution_count": 0,
   "metadata": {
    "application/vnd.databricks.v1+cell": {
     "cellMetadata": {
      "byteLimit": 2048000,
      "rowLimit": 10000
     },
     "inputWidgets": {},
     "nuid": "258d373e-d847-4e7a-a7e0-d14c9e1fb61f",
     "showTitle": false,
     "title": ""
    }
   },
   "outputs": [
    {
     "output_type": "display_data",
     "data": {
      "text/html": [
       "<style scoped>\n",
       "  .table-result-container {\n",
       "    max-height: 300px;\n",
       "    overflow: auto;\n",
       "  }\n",
       "  table, th, td {\n",
       "    border: 1px solid black;\n",
       "    border-collapse: collapse;\n",
       "  }\n",
       "  th, td {\n",
       "    padding: 5px;\n",
       "  }\n",
       "  th {\n",
       "    text-align: left;\n",
       "  }\n",
       "</style><div class='table-result-container'><table class='table-result'><thead style='background-color: white'><tr><th>New_Name</th><th>New_Nationality</th><th>New_Population</th></tr></thead><tbody><tr><td>Afghanistan</td><td>Afghan</td><td>38041754</td></tr><tr><td>Albania</td><td>Albanian</td><td>2880917</td></tr><tr><td>Algeria</td><td>Algerian</td><td>43053054</td></tr><tr><td>American Samoa</td><td>American Samoan</td><td>55312</td></tr><tr><td>Andorra</td><td>Andorran</td><td>77142</td></tr><tr><td>Angola</td><td>Angolan</td><td>31825295</td></tr><tr><td>Anguilla</td><td>Anguillan</td><td>14869</td></tr><tr><td>Antarctica</td><td>Antarctic</td><td>1106</td></tr><tr><td>Antigua and Barbuda</td><td>Antiguan or Barbudan</td><td>97118</td></tr><tr><td>Argentina</td><td>Argentine</td><td>44780677</td></tr></tbody></table></div>"
      ]
     },
     "metadata": {
      "application/vnd.databricks.v1+output": {
       "addedWidgets": {},
       "aggData": [],
       "aggError": "",
       "aggOverflow": false,
       "aggSchema": [],
       "aggSeriesLimitReached": false,
       "aggType": "",
       "arguments": {},
       "columnCustomDisplayInfos": {},
       "data": [
        [
         "Afghanistan",
         "Afghan",
         "38041754"
        ],
        [
         "Albania",
         "Albanian",
         "2880917"
        ],
        [
         "Algeria",
         "Algerian",
         "43053054"
        ],
        [
         "American Samoa",
         "American Samoan",
         "55312"
        ],
        [
         "Andorra",
         "Andorran",
         "77142"
        ],
        [
         "Angola",
         "Angolan",
         "31825295"
        ],
        [
         "Anguilla",
         "Anguillan",
         "14869"
        ],
        [
         "Antarctica",
         "Antarctic",
         "1106"
        ],
        [
         "Antigua and Barbuda",
         "Antiguan or Barbudan",
         "97118"
        ],
        [
         "Argentina",
         "Argentine",
         "44780677"
        ]
       ],
       "datasetInfos": [],
       "dbfsResultPath": null,
       "isJsonSchema": true,
       "metadata": {},
       "overflow": false,
       "plotOptions": {
        "customPlotOptions": {},
        "displayType": "table",
        "pivotAggregation": null,
        "pivotColumns": null,
        "xColumns": null,
        "yColumns": null
       },
       "removedWidgets": [],
       "schema": [
        {
         "metadata": "{}",
         "name": "New_Name",
         "type": "\"string\""
        },
        {
         "metadata": "{}",
         "name": "New_Nationality",
         "type": "\"string\""
        },
        {
         "metadata": "{}",
         "name": "New_Population",
         "type": "\"string\""
        }
       ],
       "type": "table"
      }
     },
     "output_type": "display_data"
    }
   ],
   "source": [
    "# Renaming the column name (Alternate method)\n",
    "df.select('Name','Nationality','Population').withColumnRenamed('Name','New_Name').withColumnRenamed('Nationality','New_Nationality').withColumnRenamed('Population','New_Population').display()"
   ]
  },
  {
   "cell_type": "code",
   "execution_count": 0,
   "metadata": {
    "application/vnd.databricks.v1+cell": {
     "cellMetadata": {
      "byteLimit": 2048000,
      "rowLimit": 10000
     },
     "inputWidgets": {},
     "nuid": "5d14365a-cfb7-4896-bd43-a7c29f05fdba",
     "showTitle": false,
     "title": ""
    }
   },
   "outputs": [
    {
     "output_type": "display_data",
     "data": {
      "text/html": [
       "<style scoped>\n",
       "  .table-result-container {\n",
       "    max-height: 300px;\n",
       "    overflow: auto;\n",
       "  }\n",
       "  table, th, td {\n",
       "    border: 1px solid black;\n",
       "    border-collapse: collapse;\n",
       "  }\n",
       "  th, td {\n",
       "    padding: 5px;\n",
       "  }\n",
       "  th {\n",
       "    text-align: left;\n",
       "  }\n",
       "</style><div class='table-result-container'><table class='table-result'><thead style='background-color: white'><tr><th>COUNTRY_ID</th><th>New_Name</th><th>NATIONALITY</th><th>COUNTRY_CODE</th><th>ISO_ALPHA2</th><th>CAPITAL</th><th>POPULATION</th><th>AREA_KM2</th><th>REGION_ID</th><th>SUB_REGION_ID</th><th>INTERMEDIATE_REGION_ID</th><th>ORGANIZATION_REGION_ID</th></tr></thead><tbody><tr><td>1</td><td>Afghanistan</td><td>Afghan</td><td>AFG</td><td>AF</td><td>Kabul</td><td>38041754</td><td>652230</td><td>30</td><td>30</td><td>null</td><td>30</td></tr><tr><td>2</td><td>Albania</td><td>Albanian</td><td>ALB</td><td>AL</td><td>Tirana</td><td>2880917</td><td>28748</td><td>20</td><td>70</td><td>null</td><td>20</td></tr><tr><td>3</td><td>Algeria</td><td>Algerian</td><td>DZA</td><td>DZ</td><td>Algiers</td><td>43053054</td><td>2381741</td><td>50</td><td>40</td><td>null</td><td>20</td></tr><tr><td>4</td><td>American Samoa</td><td>American Samoan</td><td>ASM</td><td>AS</td><td>Pago Pago</td><td>55312</td><td>199</td><td>40</td><td>20</td><td>null</td><td>30</td></tr><tr><td>5</td><td>Andorra</td><td>Andorran</td><td>AND</td><td>AD</td><td>Andorra la Vella</td><td>77142</td><td>468</td><td>20</td><td>70</td><td>null</td><td>20</td></tr><tr><td>6</td><td>Angola</td><td>Angolan</td><td>AGO</td><td>AO</td><td>Luanda</td><td>31825295</td><td>1246700</td><td>50</td><td>160</td><td>80</td><td>20</td></tr><tr><td>7</td><td>Anguilla</td><td>Anguillan</td><td>AIA</td><td>AI</td><td>The Valley</td><td>14869</td><td>91</td><td>10</td><td>10</td><td>60</td><td>40</td></tr><tr><td>8</td><td>Antarctica</td><td>Antarctic</td><td>ATA</td><td>AQ</td><td>McMurdo Station</td><td>1106</td><td>14200000</td><td>40</td><td>null</td><td>null</td><td>30</td></tr><tr><td>9</td><td>Antigua and Barbuda</td><td>Antiguan or Barbudan</td><td>ATG</td><td>AG</td><td>St. John's</td><td>97118</td><td>442</td><td>10</td><td>10</td><td>60</td><td>40</td></tr><tr><td>10</td><td>Argentina</td><td>Argentine</td><td>ARG</td><td>AR</td><td>Buenos Aires</td><td>44780677</td><td>2780400</td><td>10</td><td>10</td><td>40</td><td>40</td></tr></tbody></table></div>"
      ]
     },
     "metadata": {
      "application/vnd.databricks.v1+output": {
       "addedWidgets": {},
       "aggData": [],
       "aggError": "",
       "aggOverflow": false,
       "aggSchema": [],
       "aggSeriesLimitReached": false,
       "aggType": "",
       "arguments": {},
       "columnCustomDisplayInfos": {},
       "data": [
        [
         "1",
         "Afghanistan",
         "Afghan",
         "AFG",
         "AF",
         "Kabul",
         "38041754",
         "652230",
         "30",
         "30",
         null,
         "30"
        ],
        [
         "2",
         "Albania",
         "Albanian",
         "ALB",
         "AL",
         "Tirana",
         "2880917",
         "28748",
         "20",
         "70",
         null,
         "20"
        ],
        [
         "3",
         "Algeria",
         "Algerian",
         "DZA",
         "DZ",
         "Algiers",
         "43053054",
         "2381741",
         "50",
         "40",
         null,
         "20"
        ],
        [
         "4",
         "American Samoa",
         "American Samoan",
         "ASM",
         "AS",
         "Pago Pago",
         "55312",
         "199",
         "40",
         "20",
         null,
         "30"
        ],
        [
         "5",
         "Andorra",
         "Andorran",
         "AND",
         "AD",
         "Andorra la Vella",
         "77142",
         "468",
         "20",
         "70",
         null,
         "20"
        ],
        [
         "6",
         "Angola",
         "Angolan",
         "AGO",
         "AO",
         "Luanda",
         "31825295",
         "1246700",
         "50",
         "160",
         "80",
         "20"
        ],
        [
         "7",
         "Anguilla",
         "Anguillan",
         "AIA",
         "AI",
         "The Valley",
         "14869",
         "91",
         "10",
         "10",
         "60",
         "40"
        ],
        [
         "8",
         "Antarctica",
         "Antarctic",
         "ATA",
         "AQ",
         "McMurdo Station",
         "1106",
         "14200000",
         "40",
         null,
         null,
         "30"
        ],
        [
         "9",
         "Antigua and Barbuda",
         "Antiguan or Barbudan",
         "ATG",
         "AG",
         "St. John's",
         "97118",
         "442",
         "10",
         "10",
         "60",
         "40"
        ],
        [
         "10",
         "Argentina",
         "Argentine",
         "ARG",
         "AR",
         "Buenos Aires",
         "44780677",
         "2780400",
         "10",
         "10",
         "40",
         "40"
        ]
       ],
       "datasetInfos": [],
       "dbfsResultPath": null,
       "isJsonSchema": true,
       "metadata": {},
       "overflow": false,
       "plotOptions": {
        "customPlotOptions": {},
        "displayType": "table",
        "pivotAggregation": null,
        "pivotColumns": null,
        "xColumns": null,
        "yColumns": null
       },
       "removedWidgets": [],
       "schema": [
        {
         "metadata": "{}",
         "name": "COUNTRY_ID",
         "type": "\"string\""
        },
        {
         "metadata": "{}",
         "name": "New_Name",
         "type": "\"string\""
        },
        {
         "metadata": "{}",
         "name": "NATIONALITY",
         "type": "\"string\""
        },
        {
         "metadata": "{}",
         "name": "COUNTRY_CODE",
         "type": "\"string\""
        },
        {
         "metadata": "{}",
         "name": "ISO_ALPHA2",
         "type": "\"string\""
        },
        {
         "metadata": "{}",
         "name": "CAPITAL",
         "type": "\"string\""
        },
        {
         "metadata": "{}",
         "name": "POPULATION",
         "type": "\"string\""
        },
        {
         "metadata": "{}",
         "name": "AREA_KM2",
         "type": "\"string\""
        },
        {
         "metadata": "{}",
         "name": "REGION_ID",
         "type": "\"string\""
        },
        {
         "metadata": "{}",
         "name": "SUB_REGION_ID",
         "type": "\"string\""
        },
        {
         "metadata": "{}",
         "name": "INTERMEDIATE_REGION_ID",
         "type": "\"string\""
        },
        {
         "metadata": "{}",
         "name": "ORGANIZATION_REGION_ID",
         "type": "\"string\""
        }
       ],
       "type": "table"
      }
     },
     "output_type": "display_data"
    }
   ],
   "source": [
    "#Retaining the whole dataframe by changing the column name\n",
    "df_new=df.withColumnRenamed('Name','New_Name')\n",
    "df_new.display()"
   ]
  },
  {
   "cell_type": "code",
   "execution_count": 0,
   "metadata": {
    "application/vnd.databricks.v1+cell": {
     "cellMetadata": {
      "byteLimit": 2048000,
      "rowLimit": 10000
     },
     "inputWidgets": {},
     "nuid": "6529ee10-1cfc-45f1-959e-0ad629eba2ba",
     "showTitle": false,
     "title": ""
    }
   },
   "outputs": [],
   "source": [
    "from pyspark.sql.functions import current_date"
   ]
  },
  {
   "cell_type": "code",
   "execution_count": 0,
   "metadata": {
    "application/vnd.databricks.v1+cell": {
     "cellMetadata": {
      "byteLimit": 2048000,
      "rowLimit": 10000
     },
     "inputWidgets": {},
     "nuid": "3156a501-58f9-429a-b7a4-4f9ce7599db6",
     "showTitle": false,
     "title": ""
    }
   },
   "outputs": [],
   "source": [
    "#creating the new column\n",
    "df=df.withColumn('Current_date', current_date())"
   ]
  },
  {
   "cell_type": "code",
   "execution_count": 0,
   "metadata": {
    "application/vnd.databricks.v1+cell": {
     "cellMetadata": {
      "byteLimit": 2048000,
      "rowLimit": 10000
     },
     "inputWidgets": {},
     "nuid": "752884fc-f27c-4682-a769-bc709d12c918",
     "showTitle": false,
     "title": ""
    }
   },
   "outputs": [
    {
     "output_type": "display_data",
     "data": {
      "text/html": [
       "<style scoped>\n",
       "  .table-result-container {\n",
       "    max-height: 300px;\n",
       "    overflow: auto;\n",
       "  }\n",
       "  table, th, td {\n",
       "    border: 1px solid black;\n",
       "    border-collapse: collapse;\n",
       "  }\n",
       "  th, td {\n",
       "    padding: 5px;\n",
       "  }\n",
       "  th {\n",
       "    text-align: left;\n",
       "  }\n",
       "</style><div class='table-result-container'><table class='table-result'><thead style='background-color: white'><tr><th>COUNTRY_ID</th><th>NAME</th><th>NATIONALITY</th><th>COUNTRY_CODE</th><th>ISO_ALPHA2</th><th>CAPITAL</th><th>POPULATION</th><th>AREA_KM2</th><th>REGION_ID</th><th>SUB_REGION_ID</th><th>INTERMEDIATE_REGION_ID</th><th>ORGANIZATION_REGION_ID</th><th>Current_date</th></tr></thead><tbody><tr><td>1</td><td>Afghanistan</td><td>Afghan</td><td>AFG</td><td>AF</td><td>Kabul</td><td>38041754</td><td>652230</td><td>30</td><td>30</td><td>null</td><td>30</td><td>2023-07-19</td></tr><tr><td>2</td><td>Albania</td><td>Albanian</td><td>ALB</td><td>AL</td><td>Tirana</td><td>2880917</td><td>28748</td><td>20</td><td>70</td><td>null</td><td>20</td><td>2023-07-19</td></tr><tr><td>3</td><td>Algeria</td><td>Algerian</td><td>DZA</td><td>DZ</td><td>Algiers</td><td>43053054</td><td>2381741</td><td>50</td><td>40</td><td>null</td><td>20</td><td>2023-07-19</td></tr><tr><td>4</td><td>American Samoa</td><td>American Samoan</td><td>ASM</td><td>AS</td><td>Pago Pago</td><td>55312</td><td>199</td><td>40</td><td>20</td><td>null</td><td>30</td><td>2023-07-19</td></tr><tr><td>5</td><td>Andorra</td><td>Andorran</td><td>AND</td><td>AD</td><td>Andorra la Vella</td><td>77142</td><td>468</td><td>20</td><td>70</td><td>null</td><td>20</td><td>2023-07-19</td></tr><tr><td>6</td><td>Angola</td><td>Angolan</td><td>AGO</td><td>AO</td><td>Luanda</td><td>31825295</td><td>1246700</td><td>50</td><td>160</td><td>80</td><td>20</td><td>2023-07-19</td></tr><tr><td>7</td><td>Anguilla</td><td>Anguillan</td><td>AIA</td><td>AI</td><td>The Valley</td><td>14869</td><td>91</td><td>10</td><td>10</td><td>60</td><td>40</td><td>2023-07-19</td></tr><tr><td>8</td><td>Antarctica</td><td>Antarctic</td><td>ATA</td><td>AQ</td><td>McMurdo Station</td><td>1106</td><td>14200000</td><td>40</td><td>null</td><td>null</td><td>30</td><td>2023-07-19</td></tr><tr><td>9</td><td>Antigua and Barbuda</td><td>Antiguan or Barbudan</td><td>ATG</td><td>AG</td><td>St. John's</td><td>97118</td><td>442</td><td>10</td><td>10</td><td>60</td><td>40</td><td>2023-07-19</td></tr><tr><td>10</td><td>Argentina</td><td>Argentine</td><td>ARG</td><td>AR</td><td>Buenos Aires</td><td>44780677</td><td>2780400</td><td>10</td><td>10</td><td>40</td><td>40</td><td>2023-07-19</td></tr></tbody></table></div>"
      ]
     },
     "metadata": {
      "application/vnd.databricks.v1+output": {
       "addedWidgets": {},
       "aggData": [],
       "aggError": "",
       "aggOverflow": false,
       "aggSchema": [],
       "aggSeriesLimitReached": false,
       "aggType": "",
       "arguments": {},
       "columnCustomDisplayInfos": {},
       "data": [
        [
         "1",
         "Afghanistan",
         "Afghan",
         "AFG",
         "AF",
         "Kabul",
         "38041754",
         "652230",
         "30",
         "30",
         null,
         "30",
         "2023-07-19"
        ],
        [
         "2",
         "Albania",
         "Albanian",
         "ALB",
         "AL",
         "Tirana",
         "2880917",
         "28748",
         "20",
         "70",
         null,
         "20",
         "2023-07-19"
        ],
        [
         "3",
         "Algeria",
         "Algerian",
         "DZA",
         "DZ",
         "Algiers",
         "43053054",
         "2381741",
         "50",
         "40",
         null,
         "20",
         "2023-07-19"
        ],
        [
         "4",
         "American Samoa",
         "American Samoan",
         "ASM",
         "AS",
         "Pago Pago",
         "55312",
         "199",
         "40",
         "20",
         null,
         "30",
         "2023-07-19"
        ],
        [
         "5",
         "Andorra",
         "Andorran",
         "AND",
         "AD",
         "Andorra la Vella",
         "77142",
         "468",
         "20",
         "70",
         null,
         "20",
         "2023-07-19"
        ],
        [
         "6",
         "Angola",
         "Angolan",
         "AGO",
         "AO",
         "Luanda",
         "31825295",
         "1246700",
         "50",
         "160",
         "80",
         "20",
         "2023-07-19"
        ],
        [
         "7",
         "Anguilla",
         "Anguillan",
         "AIA",
         "AI",
         "The Valley",
         "14869",
         "91",
         "10",
         "10",
         "60",
         "40",
         "2023-07-19"
        ],
        [
         "8",
         "Antarctica",
         "Antarctic",
         "ATA",
         "AQ",
         "McMurdo Station",
         "1106",
         "14200000",
         "40",
         null,
         null,
         "30",
         "2023-07-19"
        ],
        [
         "9",
         "Antigua and Barbuda",
         "Antiguan or Barbudan",
         "ATG",
         "AG",
         "St. John's",
         "97118",
         "442",
         "10",
         "10",
         "60",
         "40",
         "2023-07-19"
        ],
        [
         "10",
         "Argentina",
         "Argentine",
         "ARG",
         "AR",
         "Buenos Aires",
         "44780677",
         "2780400",
         "10",
         "10",
         "40",
         "40",
         "2023-07-19"
        ]
       ],
       "datasetInfos": [],
       "dbfsResultPath": null,
       "isJsonSchema": true,
       "metadata": {},
       "overflow": false,
       "plotOptions": {
        "customPlotOptions": {},
        "displayType": "table",
        "pivotAggregation": null,
        "pivotColumns": null,
        "xColumns": null,
        "yColumns": null
       },
       "removedWidgets": [],
       "schema": [
        {
         "metadata": "{}",
         "name": "COUNTRY_ID",
         "type": "\"string\""
        },
        {
         "metadata": "{}",
         "name": "NAME",
         "type": "\"string\""
        },
        {
         "metadata": "{}",
         "name": "NATIONALITY",
         "type": "\"string\""
        },
        {
         "metadata": "{}",
         "name": "COUNTRY_CODE",
         "type": "\"string\""
        },
        {
         "metadata": "{}",
         "name": "ISO_ALPHA2",
         "type": "\"string\""
        },
        {
         "metadata": "{}",
         "name": "CAPITAL",
         "type": "\"string\""
        },
        {
         "metadata": "{}",
         "name": "POPULATION",
         "type": "\"string\""
        },
        {
         "metadata": "{}",
         "name": "AREA_KM2",
         "type": "\"string\""
        },
        {
         "metadata": "{}",
         "name": "REGION_ID",
         "type": "\"string\""
        },
        {
         "metadata": "{}",
         "name": "SUB_REGION_ID",
         "type": "\"string\""
        },
        {
         "metadata": "{}",
         "name": "INTERMEDIATE_REGION_ID",
         "type": "\"string\""
        },
        {
         "metadata": "{}",
         "name": "ORGANIZATION_REGION_ID",
         "type": "\"string\""
        },
        {
         "metadata": "{}",
         "name": "Current_date",
         "type": "\"date\""
        }
       ],
       "type": "table"
      }
     },
     "output_type": "display_data"
    }
   ],
   "source": [
    "df.display()"
   ]
  },
  {
   "cell_type": "code",
   "execution_count": 0,
   "metadata": {
    "application/vnd.databricks.v1+cell": {
     "cellMetadata": {
      "byteLimit": 2048000,
      "rowLimit": 10000
     },
     "inputWidgets": {},
     "nuid": "0d08aa2e-b4cf-4e4b-8cf3-1b2b4bb62e58",
     "showTitle": false,
     "title": ""
    }
   },
   "outputs": [],
   "source": [
    "from pyspark.sql.functions import lit"
   ]
  },
  {
   "cell_type": "code",
   "execution_count": 0,
   "metadata": {
    "application/vnd.databricks.v1+cell": {
     "cellMetadata": {
      "byteLimit": 2048000,
      "rowLimit": 10000
     },
     "inputWidgets": {},
     "nuid": "99e97d30-5c44-478f-bf68-e35472a58894",
     "showTitle": false,
     "title": ""
    }
   },
   "outputs": [],
   "source": [
    "# Adding literal/Constant to the dataframe\n",
    "df=df.withColumn('Updated_by',lit('Chhamanshu'))"
   ]
  },
  {
   "cell_type": "code",
   "execution_count": 0,
   "metadata": {
    "application/vnd.databricks.v1+cell": {
     "cellMetadata": {
      "byteLimit": 2048000,
      "rowLimit": 10000
     },
     "inputWidgets": {},
     "nuid": "a12325b7-04bc-49f5-80dd-8ec7cc0c5713",
     "showTitle": false,
     "title": ""
    }
   },
   "outputs": [
    {
     "output_type": "display_data",
     "data": {
      "text/html": [
       "<style scoped>\n",
       "  .table-result-container {\n",
       "    max-height: 300px;\n",
       "    overflow: auto;\n",
       "  }\n",
       "  table, th, td {\n",
       "    border: 1px solid black;\n",
       "    border-collapse: collapse;\n",
       "  }\n",
       "  th, td {\n",
       "    padding: 5px;\n",
       "  }\n",
       "  th {\n",
       "    text-align: left;\n",
       "  }\n",
       "</style><div class='table-result-container'><table class='table-result'><thead style='background-color: white'><tr><th>COUNTRY_ID</th><th>NAME</th><th>NATIONALITY</th><th>COUNTRY_CODE</th><th>ISO_ALPHA2</th><th>CAPITAL</th><th>POPULATION</th><th>AREA_KM2</th><th>REGION_ID</th><th>SUB_REGION_ID</th><th>INTERMEDIATE_REGION_ID</th><th>ORGANIZATION_REGION_ID</th><th>Current_date</th><th>Updated_by</th></tr></thead><tbody><tr><td>1</td><td>Afghanistan</td><td>Afghan</td><td>AFG</td><td>AF</td><td>Kabul</td><td>38041754</td><td>652230</td><td>30</td><td>30</td><td>null</td><td>30</td><td>2023-07-19</td><td>Chhamanshu</td></tr><tr><td>2</td><td>Albania</td><td>Albanian</td><td>ALB</td><td>AL</td><td>Tirana</td><td>2880917</td><td>28748</td><td>20</td><td>70</td><td>null</td><td>20</td><td>2023-07-19</td><td>Chhamanshu</td></tr><tr><td>3</td><td>Algeria</td><td>Algerian</td><td>DZA</td><td>DZ</td><td>Algiers</td><td>43053054</td><td>2381741</td><td>50</td><td>40</td><td>null</td><td>20</td><td>2023-07-19</td><td>Chhamanshu</td></tr><tr><td>4</td><td>American Samoa</td><td>American Samoan</td><td>ASM</td><td>AS</td><td>Pago Pago</td><td>55312</td><td>199</td><td>40</td><td>20</td><td>null</td><td>30</td><td>2023-07-19</td><td>Chhamanshu</td></tr><tr><td>5</td><td>Andorra</td><td>Andorran</td><td>AND</td><td>AD</td><td>Andorra la Vella</td><td>77142</td><td>468</td><td>20</td><td>70</td><td>null</td><td>20</td><td>2023-07-19</td><td>Chhamanshu</td></tr><tr><td>6</td><td>Angola</td><td>Angolan</td><td>AGO</td><td>AO</td><td>Luanda</td><td>31825295</td><td>1246700</td><td>50</td><td>160</td><td>80</td><td>20</td><td>2023-07-19</td><td>Chhamanshu</td></tr><tr><td>7</td><td>Anguilla</td><td>Anguillan</td><td>AIA</td><td>AI</td><td>The Valley</td><td>14869</td><td>91</td><td>10</td><td>10</td><td>60</td><td>40</td><td>2023-07-19</td><td>Chhamanshu</td></tr><tr><td>8</td><td>Antarctica</td><td>Antarctic</td><td>ATA</td><td>AQ</td><td>McMurdo Station</td><td>1106</td><td>14200000</td><td>40</td><td>null</td><td>null</td><td>30</td><td>2023-07-19</td><td>Chhamanshu</td></tr><tr><td>9</td><td>Antigua and Barbuda</td><td>Antiguan or Barbudan</td><td>ATG</td><td>AG</td><td>St. John's</td><td>97118</td><td>442</td><td>10</td><td>10</td><td>60</td><td>40</td><td>2023-07-19</td><td>Chhamanshu</td></tr><tr><td>10</td><td>Argentina</td><td>Argentine</td><td>ARG</td><td>AR</td><td>Buenos Aires</td><td>44780677</td><td>2780400</td><td>10</td><td>10</td><td>40</td><td>40</td><td>2023-07-19</td><td>Chhamanshu</td></tr></tbody></table></div>"
      ]
     },
     "metadata": {
      "application/vnd.databricks.v1+output": {
       "addedWidgets": {},
       "aggData": [],
       "aggError": "",
       "aggOverflow": false,
       "aggSchema": [],
       "aggSeriesLimitReached": false,
       "aggType": "",
       "arguments": {},
       "columnCustomDisplayInfos": {},
       "data": [
        [
         "1",
         "Afghanistan",
         "Afghan",
         "AFG",
         "AF",
         "Kabul",
         "38041754",
         "652230",
         "30",
         "30",
         null,
         "30",
         "2023-07-19",
         "Chhamanshu"
        ],
        [
         "2",
         "Albania",
         "Albanian",
         "ALB",
         "AL",
         "Tirana",
         "2880917",
         "28748",
         "20",
         "70",
         null,
         "20",
         "2023-07-19",
         "Chhamanshu"
        ],
        [
         "3",
         "Algeria",
         "Algerian",
         "DZA",
         "DZ",
         "Algiers",
         "43053054",
         "2381741",
         "50",
         "40",
         null,
         "20",
         "2023-07-19",
         "Chhamanshu"
        ],
        [
         "4",
         "American Samoa",
         "American Samoan",
         "ASM",
         "AS",
         "Pago Pago",
         "55312",
         "199",
         "40",
         "20",
         null,
         "30",
         "2023-07-19",
         "Chhamanshu"
        ],
        [
         "5",
         "Andorra",
         "Andorran",
         "AND",
         "AD",
         "Andorra la Vella",
         "77142",
         "468",
         "20",
         "70",
         null,
         "20",
         "2023-07-19",
         "Chhamanshu"
        ],
        [
         "6",
         "Angola",
         "Angolan",
         "AGO",
         "AO",
         "Luanda",
         "31825295",
         "1246700",
         "50",
         "160",
         "80",
         "20",
         "2023-07-19",
         "Chhamanshu"
        ],
        [
         "7",
         "Anguilla",
         "Anguillan",
         "AIA",
         "AI",
         "The Valley",
         "14869",
         "91",
         "10",
         "10",
         "60",
         "40",
         "2023-07-19",
         "Chhamanshu"
        ],
        [
         "8",
         "Antarctica",
         "Antarctic",
         "ATA",
         "AQ",
         "McMurdo Station",
         "1106",
         "14200000",
         "40",
         null,
         null,
         "30",
         "2023-07-19",
         "Chhamanshu"
        ],
        [
         "9",
         "Antigua and Barbuda",
         "Antiguan or Barbudan",
         "ATG",
         "AG",
         "St. John's",
         "97118",
         "442",
         "10",
         "10",
         "60",
         "40",
         "2023-07-19",
         "Chhamanshu"
        ],
        [
         "10",
         "Argentina",
         "Argentine",
         "ARG",
         "AR",
         "Buenos Aires",
         "44780677",
         "2780400",
         "10",
         "10",
         "40",
         "40",
         "2023-07-19",
         "Chhamanshu"
        ]
       ],
       "datasetInfos": [],
       "dbfsResultPath": null,
       "isJsonSchema": true,
       "metadata": {},
       "overflow": false,
       "plotOptions": {
        "customPlotOptions": {},
        "displayType": "table",
        "pivotAggregation": null,
        "pivotColumns": null,
        "xColumns": null,
        "yColumns": null
       },
       "removedWidgets": [],
       "schema": [
        {
         "metadata": "{}",
         "name": "COUNTRY_ID",
         "type": "\"string\""
        },
        {
         "metadata": "{}",
         "name": "NAME",
         "type": "\"string\""
        },
        {
         "metadata": "{}",
         "name": "NATIONALITY",
         "type": "\"string\""
        },
        {
         "metadata": "{}",
         "name": "COUNTRY_CODE",
         "type": "\"string\""
        },
        {
         "metadata": "{}",
         "name": "ISO_ALPHA2",
         "type": "\"string\""
        },
        {
         "metadata": "{}",
         "name": "CAPITAL",
         "type": "\"string\""
        },
        {
         "metadata": "{}",
         "name": "POPULATION",
         "type": "\"string\""
        },
        {
         "metadata": "{}",
         "name": "AREA_KM2",
         "type": "\"string\""
        },
        {
         "metadata": "{}",
         "name": "REGION_ID",
         "type": "\"string\""
        },
        {
         "metadata": "{}",
         "name": "SUB_REGION_ID",
         "type": "\"string\""
        },
        {
         "metadata": "{}",
         "name": "INTERMEDIATE_REGION_ID",
         "type": "\"string\""
        },
        {
         "metadata": "{}",
         "name": "ORGANIZATION_REGION_ID",
         "type": "\"string\""
        },
        {
         "metadata": "{}",
         "name": "Current_date",
         "type": "\"date\""
        },
        {
         "metadata": "{}",
         "name": "Updated_by",
         "type": "\"string\""
        }
       ],
       "type": "table"
      }
     },
     "output_type": "display_data"
    }
   ],
   "source": [
    "df.display()"
   ]
  },
  {
   "cell_type": "code",
   "execution_count": 0,
   "metadata": {
    "application/vnd.databricks.v1+cell": {
     "cellMetadata": {
      "byteLimit": 2048000,
      "rowLimit": 10000
     },
     "inputWidgets": {},
     "nuid": "1f2ce6b3-5d2a-486f-85bc-8ffcfe83bc31",
     "showTitle": false,
     "title": ""
    }
   },
   "outputs": [
    {
     "output_type": "stream",
     "name": "stdout",
     "output_type": "stream",
     "text": [
      "Out[119]: [('COUNTRY_ID', 'string'),\n ('NAME', 'string'),\n ('NATIONALITY', 'string'),\n ('COUNTRY_CODE', 'string'),\n ('ISO_ALPHA2', 'string'),\n ('CAPITAL', 'string'),\n ('POPULATION', 'string'),\n ('AREA_KM2', 'string'),\n ('REGION_ID', 'string'),\n ('SUB_REGION_ID', 'string'),\n ('INTERMEDIATE_REGION_ID', 'string'),\n ('ORGANIZATION_REGION_ID', 'string'),\n ('Current_date', 'date'),\n ('Updated_by', 'string')]"
     ]
    }
   ],
   "source": [
    "df.dtypes"
   ]
  },
  {
   "cell_type": "code",
   "execution_count": 0,
   "metadata": {
    "application/vnd.databricks.v1+cell": {
     "cellMetadata": {
      "byteLimit": 2048000,
      "rowLimit": 10000
     },
     "inputWidgets": {},
     "nuid": "3eba0fd5-a42d-4aa7-a573-a0794255c8c3",
     "showTitle": false,
     "title": ""
    }
   },
   "outputs": [
    {
     "output_type": "stream",
     "name": "stdout",
     "output_type": "stream",
     "text": [
      "root\n |-- COUNTRY_ID: string (nullable = true)\n |-- NAME: string (nullable = true)\n |-- NATIONALITY: string (nullable = true)\n |-- COUNTRY_CODE: string (nullable = true)\n |-- ISO_ALPHA2: string (nullable = true)\n |-- CAPITAL: string (nullable = true)\n |-- POPULATION: string (nullable = true)\n |-- AREA_KM2: string (nullable = true)\n |-- REGION_ID: string (nullable = true)\n |-- SUB_REGION_ID: string (nullable = true)\n |-- INTERMEDIATE_REGION_ID: string (nullable = true)\n |-- ORGANIZATION_REGION_ID: string (nullable = true)\n |-- Current_date: date (nullable = false)\n |-- Updated_by: string (nullable = false)\n\n"
     ]
    }
   ],
   "source": [
    "# Display the schema of Dataframe\n",
    "df.printSchema()"
   ]
  },
  {
   "cell_type": "code",
   "execution_count": 0,
   "metadata": {
    "application/vnd.databricks.v1+cell": {
     "cellMetadata": {
      "byteLimit": 2048000,
      "rowLimit": 10000
     },
     "inputWidgets": {},
     "nuid": "f72690bc-e0bf-4b64-a30d-008e87e40e9f",
     "showTitle": false,
     "title": ""
    }
   },
   "outputs": [],
   "source": [
    "from pyspark.sql.functions import asc , desc "
   ]
  },
  {
   "cell_type": "code",
   "execution_count": 0,
   "metadata": {
    "application/vnd.databricks.v1+cell": {
     "cellMetadata": {
      "byteLimit": 2048000,
      "rowLimit": 10000
     },
     "inputWidgets": {},
     "nuid": "6346349d-d400-48cd-a937-564b2f9c5c97",
     "showTitle": false,
     "title": ""
    }
   },
   "outputs": [
    {
     "output_type": "display_data",
     "data": {
      "text/html": [
       "<style scoped>\n",
       "  .table-result-container {\n",
       "    max-height: 300px;\n",
       "    overflow: auto;\n",
       "  }\n",
       "  table, th, td {\n",
       "    border: 1px solid black;\n",
       "    border-collapse: collapse;\n",
       "  }\n",
       "  th, td {\n",
       "    padding: 5px;\n",
       "  }\n",
       "  th {\n",
       "    text-align: left;\n",
       "  }\n",
       "</style><div class='table-result-container'><table class='table-result'><thead style='background-color: white'><tr><th>COUNTRY_ID</th><th>NAME</th><th>NATIONALITY</th><th>COUNTRY_CODE</th><th>ISO_ALPHA2</th><th>CAPITAL</th><th>POPULATION</th><th>AREA_KM2</th><th>REGION_ID</th><th>SUB_REGION_ID</th><th>INTERMEDIATE_REGION_ID</th><th>ORGANIZATION_REGION_ID</th><th>Current_date</th><th>Updated_by</th></tr></thead><tbody><tr><td>8</td><td>Antarctica</td><td>Antarctic</td><td>ATA</td><td>AQ</td><td>McMurdo Station</td><td>1106</td><td>14200000</td><td>40</td><td>null</td><td>null</td><td>30</td><td>2023-07-19</td><td>Chhamanshu</td></tr><tr><td>7</td><td>Anguilla</td><td>Anguillan</td><td>AIA</td><td>AI</td><td>The Valley</td><td>14869</td><td>91</td><td>10</td><td>10</td><td>60</td><td>40</td><td>2023-07-19</td><td>Chhamanshu</td></tr><tr><td>2</td><td>Albania</td><td>Albanian</td><td>ALB</td><td>AL</td><td>Tirana</td><td>2880917</td><td>28748</td><td>20</td><td>70</td><td>null</td><td>20</td><td>2023-07-19</td><td>Chhamanshu</td></tr><tr><td>6</td><td>Angola</td><td>Angolan</td><td>AGO</td><td>AO</td><td>Luanda</td><td>31825295</td><td>1246700</td><td>50</td><td>160</td><td>80</td><td>20</td><td>2023-07-19</td><td>Chhamanshu</td></tr><tr><td>1</td><td>Afghanistan</td><td>Afghan</td><td>AFG</td><td>AF</td><td>Kabul</td><td>38041754</td><td>652230</td><td>30</td><td>30</td><td>null</td><td>30</td><td>2023-07-19</td><td>Chhamanshu</td></tr><tr><td>3</td><td>Algeria</td><td>Algerian</td><td>DZA</td><td>DZ</td><td>Algiers</td><td>43053054</td><td>2381741</td><td>50</td><td>40</td><td>null</td><td>20</td><td>2023-07-19</td><td>Chhamanshu</td></tr><tr><td>10</td><td>Argentina</td><td>Argentine</td><td>ARG</td><td>AR</td><td>Buenos Aires</td><td>44780677</td><td>2780400</td><td>10</td><td>10</td><td>40</td><td>40</td><td>2023-07-19</td><td>Chhamanshu</td></tr><tr><td>4</td><td>American Samoa</td><td>American Samoan</td><td>ASM</td><td>AS</td><td>Pago Pago</td><td>55312</td><td>199</td><td>40</td><td>20</td><td>null</td><td>30</td><td>2023-07-19</td><td>Chhamanshu</td></tr><tr><td>5</td><td>Andorra</td><td>Andorran</td><td>AND</td><td>AD</td><td>Andorra la Vella</td><td>77142</td><td>468</td><td>20</td><td>70</td><td>null</td><td>20</td><td>2023-07-19</td><td>Chhamanshu</td></tr><tr><td>9</td><td>Antigua and Barbuda</td><td>Antiguan or Barbudan</td><td>ATG</td><td>AG</td><td>St. John's</td><td>97118</td><td>442</td><td>10</td><td>10</td><td>60</td><td>40</td><td>2023-07-19</td><td>Chhamanshu</td></tr></tbody></table></div>"
      ]
     },
     "metadata": {
      "application/vnd.databricks.v1+output": {
       "addedWidgets": {},
       "aggData": [],
       "aggError": "",
       "aggOverflow": false,
       "aggSchema": [],
       "aggSeriesLimitReached": false,
       "aggType": "",
       "arguments": {},
       "columnCustomDisplayInfos": {},
       "data": [
        [
         "8",
         "Antarctica",
         "Antarctic",
         "ATA",
         "AQ",
         "McMurdo Station",
         "1106",
         "14200000",
         "40",
         null,
         null,
         "30",
         "2023-07-19",
         "Chhamanshu"
        ],
        [
         "7",
         "Anguilla",
         "Anguillan",
         "AIA",
         "AI",
         "The Valley",
         "14869",
         "91",
         "10",
         "10",
         "60",
         "40",
         "2023-07-19",
         "Chhamanshu"
        ],
        [
         "2",
         "Albania",
         "Albanian",
         "ALB",
         "AL",
         "Tirana",
         "2880917",
         "28748",
         "20",
         "70",
         null,
         "20",
         "2023-07-19",
         "Chhamanshu"
        ],
        [
         "6",
         "Angola",
         "Angolan",
         "AGO",
         "AO",
         "Luanda",
         "31825295",
         "1246700",
         "50",
         "160",
         "80",
         "20",
         "2023-07-19",
         "Chhamanshu"
        ],
        [
         "1",
         "Afghanistan",
         "Afghan",
         "AFG",
         "AF",
         "Kabul",
         "38041754",
         "652230",
         "30",
         "30",
         null,
         "30",
         "2023-07-19",
         "Chhamanshu"
        ],
        [
         "3",
         "Algeria",
         "Algerian",
         "DZA",
         "DZ",
         "Algiers",
         "43053054",
         "2381741",
         "50",
         "40",
         null,
         "20",
         "2023-07-19",
         "Chhamanshu"
        ],
        [
         "10",
         "Argentina",
         "Argentine",
         "ARG",
         "AR",
         "Buenos Aires",
         "44780677",
         "2780400",
         "10",
         "10",
         "40",
         "40",
         "2023-07-19",
         "Chhamanshu"
        ],
        [
         "4",
         "American Samoa",
         "American Samoan",
         "ASM",
         "AS",
         "Pago Pago",
         "55312",
         "199",
         "40",
         "20",
         null,
         "30",
         "2023-07-19",
         "Chhamanshu"
        ],
        [
         "5",
         "Andorra",
         "Andorran",
         "AND",
         "AD",
         "Andorra la Vella",
         "77142",
         "468",
         "20",
         "70",
         null,
         "20",
         "2023-07-19",
         "Chhamanshu"
        ],
        [
         "9",
         "Antigua and Barbuda",
         "Antiguan or Barbudan",
         "ATG",
         "AG",
         "St. John's",
         "97118",
         "442",
         "10",
         "10",
         "60",
         "40",
         "2023-07-19",
         "Chhamanshu"
        ]
       ],
       "datasetInfos": [],
       "dbfsResultPath": null,
       "isJsonSchema": true,
       "metadata": {},
       "overflow": false,
       "plotOptions": {
        "customPlotOptions": {},
        "displayType": "table",
        "pivotAggregation": null,
        "pivotColumns": null,
        "xColumns": null,
        "yColumns": null
       },
       "removedWidgets": [],
       "schema": [
        {
         "metadata": "{}",
         "name": "COUNTRY_ID",
         "type": "\"string\""
        },
        {
         "metadata": "{}",
         "name": "NAME",
         "type": "\"string\""
        },
        {
         "metadata": "{}",
         "name": "NATIONALITY",
         "type": "\"string\""
        },
        {
         "metadata": "{}",
         "name": "COUNTRY_CODE",
         "type": "\"string\""
        },
        {
         "metadata": "{}",
         "name": "ISO_ALPHA2",
         "type": "\"string\""
        },
        {
         "metadata": "{}",
         "name": "CAPITAL",
         "type": "\"string\""
        },
        {
         "metadata": "{}",
         "name": "POPULATION",
         "type": "\"string\""
        },
        {
         "metadata": "{}",
         "name": "AREA_KM2",
         "type": "\"string\""
        },
        {
         "metadata": "{}",
         "name": "REGION_ID",
         "type": "\"string\""
        },
        {
         "metadata": "{}",
         "name": "SUB_REGION_ID",
         "type": "\"string\""
        },
        {
         "metadata": "{}",
         "name": "INTERMEDIATE_REGION_ID",
         "type": "\"string\""
        },
        {
         "metadata": "{}",
         "name": "ORGANIZATION_REGION_ID",
         "type": "\"string\""
        },
        {
         "metadata": "{}",
         "name": "Current_date",
         "type": "\"date\""
        },
        {
         "metadata": "{}",
         "name": "Updated_by",
         "type": "\"string\""
        }
       ],
       "type": "table"
      }
     },
     "output_type": "display_data"
    }
   ],
   "source": [
    "#Sorting the dataframe\n",
    "df.sort(df['Population'].asc()).display()"
   ]
  },
  {
   "cell_type": "code",
   "execution_count": 0,
   "metadata": {
    "application/vnd.databricks.v1+cell": {
     "cellMetadata": {
      "byteLimit": 2048000,
      "rowLimit": 10000
     },
     "inputWidgets": {},
     "nuid": "4f83ac28-f960-4481-abe9-657a5e88aca4",
     "showTitle": false,
     "title": ""
    }
   },
   "outputs": [],
   "source": [
    "from pyspark.sql.functions import *"
   ]
  },
  {
   "cell_type": "code",
   "execution_count": 0,
   "metadata": {
    "application/vnd.databricks.v1+cell": {
     "cellMetadata": {
      "byteLimit": 2048000,
      "rowLimit": 10000
     },
     "inputWidgets": {},
     "nuid": "4863393f-589e-46a7-9012-1d502a641272",
     "showTitle": false,
     "title": ""
    }
   },
   "outputs": [
    {
     "output_type": "display_data",
     "data": {
      "text/html": [
       "<style scoped>\n",
       "  .table-result-container {\n",
       "    max-height: 300px;\n",
       "    overflow: auto;\n",
       "  }\n",
       "  table, th, td {\n",
       "    border: 1px solid black;\n",
       "    border-collapse: collapse;\n",
       "  }\n",
       "  th, td {\n",
       "    padding: 5px;\n",
       "  }\n",
       "  th {\n",
       "    text-align: left;\n",
       "  }\n",
       "</style><div class='table-result-container'><table class='table-result'><thead style='background-color: white'><tr><th>upper(Name)</th></tr></thead><tbody><tr><td>AFGHANISTAN</td></tr><tr><td>ALBANIA</td></tr><tr><td>ALGERIA</td></tr><tr><td>AMERICAN SAMOA</td></tr><tr><td>ANDORRA</td></tr><tr><td>ANGOLA</td></tr><tr><td>ANGUILLA</td></tr><tr><td>ANTARCTICA</td></tr><tr><td>ANTIGUA AND BARBUDA</td></tr><tr><td>ARGENTINA</td></tr></tbody></table></div>"
      ]
     },
     "metadata": {
      "application/vnd.databricks.v1+output": {
       "addedWidgets": {},
       "aggData": [],
       "aggError": "",
       "aggOverflow": false,
       "aggSchema": [],
       "aggSeriesLimitReached": false,
       "aggType": "",
       "arguments": {},
       "columnCustomDisplayInfos": {},
       "data": [
        [
         "AFGHANISTAN"
        ],
        [
         "ALBANIA"
        ],
        [
         "ALGERIA"
        ],
        [
         "AMERICAN SAMOA"
        ],
        [
         "ANDORRA"
        ],
        [
         "ANGOLA"
        ],
        [
         "ANGUILLA"
        ],
        [
         "ANTARCTICA"
        ],
        [
         "ANTIGUA AND BARBUDA"
        ],
        [
         "ARGENTINA"
        ]
       ],
       "datasetInfos": [],
       "dbfsResultPath": null,
       "isJsonSchema": true,
       "metadata": {},
       "overflow": false,
       "plotOptions": {
        "customPlotOptions": {},
        "displayType": "table",
        "pivotAggregation": null,
        "pivotColumns": null,
        "xColumns": null,
        "yColumns": null
       },
       "removedWidgets": [],
       "schema": [
        {
         "metadata": "{}",
         "name": "upper(Name)",
         "type": "\"string\""
        }
       ],
       "type": "table"
      }
     },
     "output_type": "display_data"
    }
   ],
   "source": [
    "#Converting the string to upper case\n",
    "df.select(upper('Name')).display()"
   ]
  },
  {
   "cell_type": "code",
   "execution_count": 0,
   "metadata": {
    "application/vnd.databricks.v1+cell": {
     "cellMetadata": {
      "byteLimit": 2048000,
      "rowLimit": 10000
     },
     "inputWidgets": {},
     "nuid": "0ea99cbd-0ed5-42c6-bed8-486696a73fcc",
     "showTitle": false,
     "title": ""
    }
   },
   "outputs": [],
   "source": [
    "df=df.withColumn('Date_time',current_timestamp())"
   ]
  },
  {
   "cell_type": "code",
   "execution_count": 0,
   "metadata": {
    "application/vnd.databricks.v1+cell": {
     "cellMetadata": {
      "byteLimit": 2048000,
      "rowLimit": 10000
     },
     "inputWidgets": {},
     "nuid": "0d4c4f3b-0100-4ffc-8b1a-d7878c1032fb",
     "showTitle": false,
     "title": ""
    }
   },
   "outputs": [],
   "source": [
    "df=df.withColumn('Year',year('Date_time'))"
   ]
  },
  {
   "cell_type": "code",
   "execution_count": 0,
   "metadata": {
    "application/vnd.databricks.v1+cell": {
     "cellMetadata": {
      "byteLimit": 2048000,
      "rowLimit": 10000
     },
     "inputWidgets": {},
     "nuid": "17219be5-189e-475e-aecb-68730f68c099",
     "showTitle": false,
     "title": ""
    }
   },
   "outputs": [],
   "source": [
    "df=df.withColumn('Month',month('Date_time'))"
   ]
  },
  {
   "cell_type": "code",
   "execution_count": 0,
   "metadata": {
    "application/vnd.databricks.v1+cell": {
     "cellMetadata": {
      "byteLimit": 2048000,
      "rowLimit": 10000
     },
     "inputWidgets": {},
     "nuid": "a527d677-39f2-4306-b690-68caf5d64ad3",
     "showTitle": false,
     "title": ""
    }
   },
   "outputs": [],
   "source": [
    "df=df.withColumn('Weekofyear',weekofyear('Date_time'))"
   ]
  },
  {
   "cell_type": "code",
   "execution_count": 0,
   "metadata": {
    "application/vnd.databricks.v1+cell": {
     "cellMetadata": {
      "byteLimit": 2048000,
      "rowLimit": 10000
     },
     "inputWidgets": {},
     "nuid": "67733847-c0dc-46f9-b95f-a678fa298a71",
     "showTitle": false,
     "title": ""
    }
   },
   "outputs": [],
   "source": [
    "df=df.withColumn('date_litreal',lit('29-06-2023'))"
   ]
  },
  {
   "cell_type": "code",
   "execution_count": 0,
   "metadata": {
    "application/vnd.databricks.v1+cell": {
     "cellMetadata": {
      "byteLimit": 2048000,
      "rowLimit": 10000
     },
     "inputWidgets": {},
     "nuid": "03c5efa3-6b1f-4f0f-96f1-78c6c57af298",
     "showTitle": false,
     "title": ""
    }
   },
   "outputs": [],
   "source": [
    "df=df.withColumn('Date',to_date(df['date_litreal'],'dd-MM-yyyy'))"
   ]
  },
  {
   "cell_type": "code",
   "execution_count": 0,
   "metadata": {
    "application/vnd.databricks.v1+cell": {
     "cellMetadata": {
      "byteLimit": 2048000,
      "rowLimit": 10000
     },
     "inputWidgets": {},
     "nuid": "2d7cb033-dc2d-4671-9352-90dc599baef3",
     "showTitle": false,
     "title": ""
    }
   },
   "outputs": [
    {
     "output_type": "display_data",
     "data": {
      "text/html": [
       "<style scoped>\n",
       "  .table-result-container {\n",
       "    max-height: 300px;\n",
       "    overflow: auto;\n",
       "  }\n",
       "  table, th, td {\n",
       "    border: 1px solid black;\n",
       "    border-collapse: collapse;\n",
       "  }\n",
       "  th, td {\n",
       "    padding: 5px;\n",
       "  }\n",
       "  th {\n",
       "    text-align: left;\n",
       "  }\n",
       "</style><div class='table-result-container'><table class='table-result'><thead style='background-color: white'><tr><th>COUNTRY_ID</th><th>NAME</th><th>NATIONALITY</th><th>COUNTRY_CODE</th><th>ISO_ALPHA2</th><th>CAPITAL</th><th>POPULATION</th><th>AREA_KM2</th><th>REGION_ID</th><th>SUB_REGION_ID</th><th>INTERMEDIATE_REGION_ID</th><th>ORGANIZATION_REGION_ID</th><th>Current_date</th><th>Updated_by</th><th>Date_time</th><th>Year</th><th>Month</th><th>Weekofyear</th><th>date_litreal</th><th>Date</th></tr></thead><tbody><tr><td>1</td><td>Afghanistan</td><td>Afghan</td><td>AFG</td><td>AF</td><td>Kabul</td><td>38041754</td><td>652230</td><td>30</td><td>30</td><td>null</td><td>30</td><td>2023-07-19</td><td>Chhamanshu</td><td>2023-07-19T10:21:12.871+0000</td><td>2023</td><td>7</td><td>29</td><td>29-06-2023</td><td>2023-06-29</td></tr><tr><td>2</td><td>Albania</td><td>Albanian</td><td>ALB</td><td>AL</td><td>Tirana</td><td>2880917</td><td>28748</td><td>20</td><td>70</td><td>null</td><td>20</td><td>2023-07-19</td><td>Chhamanshu</td><td>2023-07-19T10:21:12.871+0000</td><td>2023</td><td>7</td><td>29</td><td>29-06-2023</td><td>2023-06-29</td></tr><tr><td>3</td><td>Algeria</td><td>Algerian</td><td>DZA</td><td>DZ</td><td>Algiers</td><td>43053054</td><td>2381741</td><td>50</td><td>40</td><td>null</td><td>20</td><td>2023-07-19</td><td>Chhamanshu</td><td>2023-07-19T10:21:12.871+0000</td><td>2023</td><td>7</td><td>29</td><td>29-06-2023</td><td>2023-06-29</td></tr><tr><td>4</td><td>American Samoa</td><td>American Samoan</td><td>ASM</td><td>AS</td><td>Pago Pago</td><td>55312</td><td>199</td><td>40</td><td>20</td><td>null</td><td>30</td><td>2023-07-19</td><td>Chhamanshu</td><td>2023-07-19T10:21:12.871+0000</td><td>2023</td><td>7</td><td>29</td><td>29-06-2023</td><td>2023-06-29</td></tr><tr><td>5</td><td>Andorra</td><td>Andorran</td><td>AND</td><td>AD</td><td>Andorra la Vella</td><td>77142</td><td>468</td><td>20</td><td>70</td><td>null</td><td>20</td><td>2023-07-19</td><td>Chhamanshu</td><td>2023-07-19T10:21:12.871+0000</td><td>2023</td><td>7</td><td>29</td><td>29-06-2023</td><td>2023-06-29</td></tr><tr><td>6</td><td>Angola</td><td>Angolan</td><td>AGO</td><td>AO</td><td>Luanda</td><td>31825295</td><td>1246700</td><td>50</td><td>160</td><td>80</td><td>20</td><td>2023-07-19</td><td>Chhamanshu</td><td>2023-07-19T10:21:12.871+0000</td><td>2023</td><td>7</td><td>29</td><td>29-06-2023</td><td>2023-06-29</td></tr><tr><td>7</td><td>Anguilla</td><td>Anguillan</td><td>AIA</td><td>AI</td><td>The Valley</td><td>14869</td><td>91</td><td>10</td><td>10</td><td>60</td><td>40</td><td>2023-07-19</td><td>Chhamanshu</td><td>2023-07-19T10:21:12.871+0000</td><td>2023</td><td>7</td><td>29</td><td>29-06-2023</td><td>2023-06-29</td></tr><tr><td>8</td><td>Antarctica</td><td>Antarctic</td><td>ATA</td><td>AQ</td><td>McMurdo Station</td><td>1106</td><td>14200000</td><td>40</td><td>null</td><td>null</td><td>30</td><td>2023-07-19</td><td>Chhamanshu</td><td>2023-07-19T10:21:12.871+0000</td><td>2023</td><td>7</td><td>29</td><td>29-06-2023</td><td>2023-06-29</td></tr><tr><td>9</td><td>Antigua and Barbuda</td><td>Antiguan or Barbudan</td><td>ATG</td><td>AG</td><td>St. John's</td><td>97118</td><td>442</td><td>10</td><td>10</td><td>60</td><td>40</td><td>2023-07-19</td><td>Chhamanshu</td><td>2023-07-19T10:21:12.871+0000</td><td>2023</td><td>7</td><td>29</td><td>29-06-2023</td><td>2023-06-29</td></tr><tr><td>10</td><td>Argentina</td><td>Argentine</td><td>ARG</td><td>AR</td><td>Buenos Aires</td><td>44780677</td><td>2780400</td><td>10</td><td>10</td><td>40</td><td>40</td><td>2023-07-19</td><td>Chhamanshu</td><td>2023-07-19T10:21:12.871+0000</td><td>2023</td><td>7</td><td>29</td><td>29-06-2023</td><td>2023-06-29</td></tr></tbody></table></div>"
      ]
     },
     "metadata": {
      "application/vnd.databricks.v1+output": {
       "addedWidgets": {},
       "aggData": [],
       "aggError": "",
       "aggOverflow": false,
       "aggSchema": [],
       "aggSeriesLimitReached": false,
       "aggType": "",
       "arguments": {},
       "columnCustomDisplayInfos": {},
       "data": [
        [
         "1",
         "Afghanistan",
         "Afghan",
         "AFG",
         "AF",
         "Kabul",
         "38041754",
         "652230",
         "30",
         "30",
         null,
         "30",
         "2023-07-19",
         "Chhamanshu",
         "2023-07-19T10:21:12.871+0000",
         2023,
         7,
         29,
         "29-06-2023",
         "2023-06-29"
        ],
        [
         "2",
         "Albania",
         "Albanian",
         "ALB",
         "AL",
         "Tirana",
         "2880917",
         "28748",
         "20",
         "70",
         null,
         "20",
         "2023-07-19",
         "Chhamanshu",
         "2023-07-19T10:21:12.871+0000",
         2023,
         7,
         29,
         "29-06-2023",
         "2023-06-29"
        ],
        [
         "3",
         "Algeria",
         "Algerian",
         "DZA",
         "DZ",
         "Algiers",
         "43053054",
         "2381741",
         "50",
         "40",
         null,
         "20",
         "2023-07-19",
         "Chhamanshu",
         "2023-07-19T10:21:12.871+0000",
         2023,
         7,
         29,
         "29-06-2023",
         "2023-06-29"
        ],
        [
         "4",
         "American Samoa",
         "American Samoan",
         "ASM",
         "AS",
         "Pago Pago",
         "55312",
         "199",
         "40",
         "20",
         null,
         "30",
         "2023-07-19",
         "Chhamanshu",
         "2023-07-19T10:21:12.871+0000",
         2023,
         7,
         29,
         "29-06-2023",
         "2023-06-29"
        ],
        [
         "5",
         "Andorra",
         "Andorran",
         "AND",
         "AD",
         "Andorra la Vella",
         "77142",
         "468",
         "20",
         "70",
         null,
         "20",
         "2023-07-19",
         "Chhamanshu",
         "2023-07-19T10:21:12.871+0000",
         2023,
         7,
         29,
         "29-06-2023",
         "2023-06-29"
        ],
        [
         "6",
         "Angola",
         "Angolan",
         "AGO",
         "AO",
         "Luanda",
         "31825295",
         "1246700",
         "50",
         "160",
         "80",
         "20",
         "2023-07-19",
         "Chhamanshu",
         "2023-07-19T10:21:12.871+0000",
         2023,
         7,
         29,
         "29-06-2023",
         "2023-06-29"
        ],
        [
         "7",
         "Anguilla",
         "Anguillan",
         "AIA",
         "AI",
         "The Valley",
         "14869",
         "91",
         "10",
         "10",
         "60",
         "40",
         "2023-07-19",
         "Chhamanshu",
         "2023-07-19T10:21:12.871+0000",
         2023,
         7,
         29,
         "29-06-2023",
         "2023-06-29"
        ],
        [
         "8",
         "Antarctica",
         "Antarctic",
         "ATA",
         "AQ",
         "McMurdo Station",
         "1106",
         "14200000",
         "40",
         null,
         null,
         "30",
         "2023-07-19",
         "Chhamanshu",
         "2023-07-19T10:21:12.871+0000",
         2023,
         7,
         29,
         "29-06-2023",
         "2023-06-29"
        ],
        [
         "9",
         "Antigua and Barbuda",
         "Antiguan or Barbudan",
         "ATG",
         "AG",
         "St. John's",
         "97118",
         "442",
         "10",
         "10",
         "60",
         "40",
         "2023-07-19",
         "Chhamanshu",
         "2023-07-19T10:21:12.871+0000",
         2023,
         7,
         29,
         "29-06-2023",
         "2023-06-29"
        ],
        [
         "10",
         "Argentina",
         "Argentine",
         "ARG",
         "AR",
         "Buenos Aires",
         "44780677",
         "2780400",
         "10",
         "10",
         "40",
         "40",
         "2023-07-19",
         "Chhamanshu",
         "2023-07-19T10:21:12.871+0000",
         2023,
         7,
         29,
         "29-06-2023",
         "2023-06-29"
        ]
       ],
       "datasetInfos": [],
       "dbfsResultPath": null,
       "isJsonSchema": true,
       "metadata": {},
       "overflow": false,
       "plotOptions": {
        "customPlotOptions": {},
        "displayType": "table",
        "pivotAggregation": null,
        "pivotColumns": null,
        "xColumns": null,
        "yColumns": null
       },
       "removedWidgets": [],
       "schema": [
        {
         "metadata": "{}",
         "name": "COUNTRY_ID",
         "type": "\"string\""
        },
        {
         "metadata": "{}",
         "name": "NAME",
         "type": "\"string\""
        },
        {
         "metadata": "{}",
         "name": "NATIONALITY",
         "type": "\"string\""
        },
        {
         "metadata": "{}",
         "name": "COUNTRY_CODE",
         "type": "\"string\""
        },
        {
         "metadata": "{}",
         "name": "ISO_ALPHA2",
         "type": "\"string\""
        },
        {
         "metadata": "{}",
         "name": "CAPITAL",
         "type": "\"string\""
        },
        {
         "metadata": "{}",
         "name": "POPULATION",
         "type": "\"string\""
        },
        {
         "metadata": "{}",
         "name": "AREA_KM2",
         "type": "\"string\""
        },
        {
         "metadata": "{}",
         "name": "REGION_ID",
         "type": "\"string\""
        },
        {
         "metadata": "{}",
         "name": "SUB_REGION_ID",
         "type": "\"string\""
        },
        {
         "metadata": "{}",
         "name": "INTERMEDIATE_REGION_ID",
         "type": "\"string\""
        },
        {
         "metadata": "{}",
         "name": "ORGANIZATION_REGION_ID",
         "type": "\"string\""
        },
        {
         "metadata": "{}",
         "name": "Current_date",
         "type": "\"date\""
        },
        {
         "metadata": "{}",
         "name": "Updated_by",
         "type": "\"string\""
        },
        {
         "metadata": "{}",
         "name": "Date_time",
         "type": "\"timestamp\""
        },
        {
         "metadata": "{}",
         "name": "Year",
         "type": "\"integer\""
        },
        {
         "metadata": "{}",
         "name": "Month",
         "type": "\"integer\""
        },
        {
         "metadata": "{}",
         "name": "Weekofyear",
         "type": "\"integer\""
        },
        {
         "metadata": "{}",
         "name": "date_litreal",
         "type": "\"string\""
        },
        {
         "metadata": "{}",
         "name": "Date",
         "type": "\"date\""
        }
       ],
       "type": "table"
      }
     },
     "output_type": "display_data"
    }
   ],
   "source": [
    "df.display()"
   ]
  },
  {
   "cell_type": "code",
   "execution_count": 0,
   "metadata": {
    "application/vnd.databricks.v1+cell": {
     "cellMetadata": {
      "byteLimit": 2048000,
      "rowLimit": 10000
     },
     "inputWidgets": {},
     "nuid": "2f2f3f39-618d-44d2-85cb-51ed0840fdbc",
     "showTitle": false,
     "title": ""
    }
   },
   "outputs": [
    {
     "output_type": "display_data",
     "data": {
      "text/html": [
       "<style scoped>\n",
       "  .table-result-container {\n",
       "    max-height: 300px;\n",
       "    overflow: auto;\n",
       "  }\n",
       "  table, th, td {\n",
       "    border: 1px solid black;\n",
       "    border-collapse: collapse;\n",
       "  }\n",
       "  th, td {\n",
       "    padding: 5px;\n",
       "  }\n",
       "  th {\n",
       "    text-align: left;\n",
       "  }\n",
       "</style><div class='table-result-container'><table class='table-result'><thead style='background-color: white'><tr><th>COUNTRY_ID</th><th>NAME</th><th>NATIONALITY</th><th>COUNTRY_CODE</th><th>ISO_ALPHA2</th><th>CAPITAL</th><th>POPULATION</th><th>AREA_KM2</th><th>REGION_ID</th><th>SUB_REGION_ID</th><th>INTERMEDIATE_REGION_ID</th><th>ORGANIZATION_REGION_ID</th><th>Current_date</th><th>Updated_by</th><th>Date_time</th><th>Year</th><th>Month</th><th>Weekofyear</th><th>date_litreal</th><th>Date</th></tr></thead><tbody><tr><td>1</td><td>Afghanistan</td><td>Afghan</td><td>AFG</td><td>AF</td><td>Kabul</td><td>38041754</td><td>652230</td><td>30</td><td>30</td><td>null</td><td>30</td><td>2023-07-19</td><td>Chhamanshu</td><td>2023-07-19T10:21:13.091+0000</td><td>2023</td><td>7</td><td>29</td><td>29-06-2023</td><td>2023-06-29</td></tr><tr><td>2</td><td>Albania</td><td>Albanian</td><td>ALB</td><td>AL</td><td>Tirana</td><td>2880917</td><td>28748</td><td>20</td><td>70</td><td>null</td><td>20</td><td>2023-07-19</td><td>Chhamanshu</td><td>2023-07-19T10:21:13.091+0000</td><td>2023</td><td>7</td><td>29</td><td>29-06-2023</td><td>2023-06-29</td></tr><tr><td>3</td><td>Algeria</td><td>Algerian</td><td>DZA</td><td>DZ</td><td>Algiers</td><td>43053054</td><td>2381741</td><td>50</td><td>40</td><td>null</td><td>20</td><td>2023-07-19</td><td>Chhamanshu</td><td>2023-07-19T10:21:13.091+0000</td><td>2023</td><td>7</td><td>29</td><td>29-06-2023</td><td>2023-06-29</td></tr><tr><td>6</td><td>Angola</td><td>Angolan</td><td>AGO</td><td>AO</td><td>Luanda</td><td>31825295</td><td>1246700</td><td>50</td><td>160</td><td>80</td><td>20</td><td>2023-07-19</td><td>Chhamanshu</td><td>2023-07-19T10:21:13.091+0000</td><td>2023</td><td>7</td><td>29</td><td>29-06-2023</td><td>2023-06-29</td></tr><tr><td>10</td><td>Argentina</td><td>Argentine</td><td>ARG</td><td>AR</td><td>Buenos Aires</td><td>44780677</td><td>2780400</td><td>10</td><td>10</td><td>40</td><td>40</td><td>2023-07-19</td><td>Chhamanshu</td><td>2023-07-19T10:21:13.091+0000</td><td>2023</td><td>7</td><td>29</td><td>29-06-2023</td><td>2023-06-29</td></tr></tbody></table></div>"
      ]
     },
     "metadata": {
      "application/vnd.databricks.v1+output": {
       "addedWidgets": {},
       "aggData": [],
       "aggError": "",
       "aggOverflow": false,
       "aggSchema": [],
       "aggSeriesLimitReached": false,
       "aggType": "",
       "arguments": {},
       "columnCustomDisplayInfos": {},
       "data": [
        [
         "1",
         "Afghanistan",
         "Afghan",
         "AFG",
         "AF",
         "Kabul",
         "38041754",
         "652230",
         "30",
         "30",
         null,
         "30",
         "2023-07-19",
         "Chhamanshu",
         "2023-07-19T10:21:13.091+0000",
         2023,
         7,
         29,
         "29-06-2023",
         "2023-06-29"
        ],
        [
         "2",
         "Albania",
         "Albanian",
         "ALB",
         "AL",
         "Tirana",
         "2880917",
         "28748",
         "20",
         "70",
         null,
         "20",
         "2023-07-19",
         "Chhamanshu",
         "2023-07-19T10:21:13.091+0000",
         2023,
         7,
         29,
         "29-06-2023",
         "2023-06-29"
        ],
        [
         "3",
         "Algeria",
         "Algerian",
         "DZA",
         "DZ",
         "Algiers",
         "43053054",
         "2381741",
         "50",
         "40",
         null,
         "20",
         "2023-07-19",
         "Chhamanshu",
         "2023-07-19T10:21:13.091+0000",
         2023,
         7,
         29,
         "29-06-2023",
         "2023-06-29"
        ],
        [
         "6",
         "Angola",
         "Angolan",
         "AGO",
         "AO",
         "Luanda",
         "31825295",
         "1246700",
         "50",
         "160",
         "80",
         "20",
         "2023-07-19",
         "Chhamanshu",
         "2023-07-19T10:21:13.091+0000",
         2023,
         7,
         29,
         "29-06-2023",
         "2023-06-29"
        ],
        [
         "10",
         "Argentina",
         "Argentine",
         "ARG",
         "AR",
         "Buenos Aires",
         "44780677",
         "2780400",
         "10",
         "10",
         "40",
         "40",
         "2023-07-19",
         "Chhamanshu",
         "2023-07-19T10:21:13.091+0000",
         2023,
         7,
         29,
         "29-06-2023",
         "2023-06-29"
        ]
       ],
       "datasetInfos": [],
       "dbfsResultPath": null,
       "isJsonSchema": true,
       "metadata": {},
       "overflow": false,
       "plotOptions": {
        "customPlotOptions": {},
        "displayType": "table",
        "pivotAggregation": null,
        "pivotColumns": null,
        "xColumns": null,
        "yColumns": null
       },
       "removedWidgets": [],
       "schema": [
        {
         "metadata": "{}",
         "name": "COUNTRY_ID",
         "type": "\"string\""
        },
        {
         "metadata": "{}",
         "name": "NAME",
         "type": "\"string\""
        },
        {
         "metadata": "{}",
         "name": "NATIONALITY",
         "type": "\"string\""
        },
        {
         "metadata": "{}",
         "name": "COUNTRY_CODE",
         "type": "\"string\""
        },
        {
         "metadata": "{}",
         "name": "ISO_ALPHA2",
         "type": "\"string\""
        },
        {
         "metadata": "{}",
         "name": "CAPITAL",
         "type": "\"string\""
        },
        {
         "metadata": "{}",
         "name": "POPULATION",
         "type": "\"string\""
        },
        {
         "metadata": "{}",
         "name": "AREA_KM2",
         "type": "\"string\""
        },
        {
         "metadata": "{}",
         "name": "REGION_ID",
         "type": "\"string\""
        },
        {
         "metadata": "{}",
         "name": "SUB_REGION_ID",
         "type": "\"string\""
        },
        {
         "metadata": "{}",
         "name": "INTERMEDIATE_REGION_ID",
         "type": "\"string\""
        },
        {
         "metadata": "{}",
         "name": "ORGANIZATION_REGION_ID",
         "type": "\"string\""
        },
        {
         "metadata": "{}",
         "name": "Current_date",
         "type": "\"date\""
        },
        {
         "metadata": "{}",
         "name": "Updated_by",
         "type": "\"string\""
        },
        {
         "metadata": "{}",
         "name": "Date_time",
         "type": "\"timestamp\""
        },
        {
         "metadata": "{}",
         "name": "Year",
         "type": "\"integer\""
        },
        {
         "metadata": "{}",
         "name": "Month",
         "type": "\"integer\""
        },
        {
         "metadata": "{}",
         "name": "Weekofyear",
         "type": "\"integer\""
        },
        {
         "metadata": "{}",
         "name": "date_litreal",
         "type": "\"string\""
        },
        {
         "metadata": "{}",
         "name": "Date",
         "type": "\"date\""
        }
       ],
       "type": "table"
      }
     },
     "output_type": "display_data"
    }
   ],
   "source": [
    "# Filtering the dataframe\n",
    "df.filter(df['Population']>100000).display()"
   ]
  },
  {
   "cell_type": "code",
   "execution_count": 0,
   "metadata": {
    "application/vnd.databricks.v1+cell": {
     "cellMetadata": {
      "byteLimit": 2048000,
      "rowLimit": 10000
     },
     "inputWidgets": {},
     "nuid": "1b1c41ab-38e3-4023-a7a0-40603214d773",
     "showTitle": false,
     "title": ""
    }
   },
   "outputs": [
    {
     "output_type": "display_data",
     "data": {
      "text/html": [
       "<style scoped>\n",
       "  .table-result-container {\n",
       "    max-height: 300px;\n",
       "    overflow: auto;\n",
       "  }\n",
       "  table, th, td {\n",
       "    border: 1px solid black;\n",
       "    border-collapse: collapse;\n",
       "  }\n",
       "  th, td {\n",
       "    padding: 5px;\n",
       "  }\n",
       "  th {\n",
       "    text-align: left;\n",
       "  }\n",
       "</style><div class='table-result-container'><table class='table-result'><thead style='background-color: white'><tr><th>COUNTRY_ID</th><th>NAME</th><th>NATIONALITY</th><th>COUNTRY_CODE</th><th>ISO_ALPHA2</th><th>CAPITAL</th><th>POPULATION</th><th>AREA_KM2</th><th>REGION_ID</th><th>SUB_REGION_ID</th><th>INTERMEDIATE_REGION_ID</th><th>ORGANIZATION_REGION_ID</th><th>Current_date</th><th>Updated_by</th><th>Date_time</th><th>Year</th><th>Month</th><th>Weekofyear</th><th>date_litreal</th><th>Date</th></tr></thead><tbody><tr><td>2</td><td>Albania</td><td>Albanian</td><td>ALB</td><td>AL</td><td>Tirana</td><td>2880917</td><td>28748</td><td>20</td><td>70</td><td>null</td><td>20</td><td>2023-07-19</td><td>Chhamanshu</td><td>2023-07-19T10:21:13.370+0000</td><td>2023</td><td>7</td><td>29</td><td>29-06-2023</td><td>2023-06-29</td></tr></tbody></table></div>"
      ]
     },
     "metadata": {
      "application/vnd.databricks.v1+output": {
       "addedWidgets": {},
       "aggData": [],
       "aggError": "",
       "aggOverflow": false,
       "aggSchema": [],
       "aggSeriesLimitReached": false,
       "aggType": "",
       "arguments": {},
       "columnCustomDisplayInfos": {},
       "data": [
        [
         "2",
         "Albania",
         "Albanian",
         "ALB",
         "AL",
         "Tirana",
         "2880917",
         "28748",
         "20",
         "70",
         null,
         "20",
         "2023-07-19",
         "Chhamanshu",
         "2023-07-19T10:21:13.370+0000",
         2023,
         7,
         29,
         "29-06-2023",
         "2023-06-29"
        ]
       ],
       "datasetInfos": [],
       "dbfsResultPath": null,
       "isJsonSchema": true,
       "metadata": {},
       "overflow": false,
       "plotOptions": {
        "customPlotOptions": {},
        "displayType": "table",
        "pivotAggregation": null,
        "pivotColumns": null,
        "xColumns": null,
        "yColumns": null
       },
       "removedWidgets": [],
       "schema": [
        {
         "metadata": "{}",
         "name": "COUNTRY_ID",
         "type": "\"string\""
        },
        {
         "metadata": "{}",
         "name": "NAME",
         "type": "\"string\""
        },
        {
         "metadata": "{}",
         "name": "NATIONALITY",
         "type": "\"string\""
        },
        {
         "metadata": "{}",
         "name": "COUNTRY_CODE",
         "type": "\"string\""
        },
        {
         "metadata": "{}",
         "name": "ISO_ALPHA2",
         "type": "\"string\""
        },
        {
         "metadata": "{}",
         "name": "CAPITAL",
         "type": "\"string\""
        },
        {
         "metadata": "{}",
         "name": "POPULATION",
         "type": "\"string\""
        },
        {
         "metadata": "{}",
         "name": "AREA_KM2",
         "type": "\"string\""
        },
        {
         "metadata": "{}",
         "name": "REGION_ID",
         "type": "\"string\""
        },
        {
         "metadata": "{}",
         "name": "SUB_REGION_ID",
         "type": "\"string\""
        },
        {
         "metadata": "{}",
         "name": "INTERMEDIATE_REGION_ID",
         "type": "\"string\""
        },
        {
         "metadata": "{}",
         "name": "ORGANIZATION_REGION_ID",
         "type": "\"string\""
        },
        {
         "metadata": "{}",
         "name": "Current_date",
         "type": "\"date\""
        },
        {
         "metadata": "{}",
         "name": "Updated_by",
         "type": "\"string\""
        },
        {
         "metadata": "{}",
         "name": "Date_time",
         "type": "\"timestamp\""
        },
        {
         "metadata": "{}",
         "name": "Year",
         "type": "\"integer\""
        },
        {
         "metadata": "{}",
         "name": "Month",
         "type": "\"integer\""
        },
        {
         "metadata": "{}",
         "name": "Weekofyear",
         "type": "\"integer\""
        },
        {
         "metadata": "{}",
         "name": "date_litreal",
         "type": "\"string\""
        },
        {
         "metadata": "{}",
         "name": "Date",
         "type": "\"date\""
        }
       ],
       "type": "table"
      }
     },
     "output_type": "display_data"
    }
   ],
   "source": [
    "df.filter(df['Population']==2880917).display()"
   ]
  },
  {
   "cell_type": "code",
   "execution_count": 0,
   "metadata": {
    "application/vnd.databricks.v1+cell": {
     "cellMetadata": {
      "byteLimit": 2048000,
      "rowLimit": 10000
     },
     "inputWidgets": {},
     "nuid": "ef73a036-08f9-42ec-9519-a02e770ac707",
     "showTitle": false,
     "title": ""
    }
   },
   "outputs": [],
   "source": [
    "from pyspark.sql.functions import length"
   ]
  },
  {
   "cell_type": "code",
   "execution_count": 0,
   "metadata": {
    "application/vnd.databricks.v1+cell": {
     "cellMetadata": {
      "byteLimit": 2048000,
      "rowLimit": 10000
     },
     "inputWidgets": {},
     "nuid": "730da08e-180d-476a-bb42-5eec091d2ff9",
     "showTitle": false,
     "title": ""
    }
   },
   "outputs": [
    {
     "output_type": "display_data",
     "data": {
      "text/html": [
       "<style scoped>\n",
       "  .table-result-container {\n",
       "    max-height: 300px;\n",
       "    overflow: auto;\n",
       "  }\n",
       "  table, th, td {\n",
       "    border: 1px solid black;\n",
       "    border-collapse: collapse;\n",
       "  }\n",
       "  th, td {\n",
       "    padding: 5px;\n",
       "  }\n",
       "  th {\n",
       "    text-align: left;\n",
       "  }\n",
       "</style><div class='table-result-container'><table class='table-result'><thead style='background-color: white'><tr><th>COUNTRY_ID</th><th>NAME</th><th>NATIONALITY</th><th>COUNTRY_CODE</th><th>ISO_ALPHA2</th><th>CAPITAL</th><th>POPULATION</th><th>AREA_KM2</th><th>REGION_ID</th><th>SUB_REGION_ID</th><th>INTERMEDIATE_REGION_ID</th><th>ORGANIZATION_REGION_ID</th><th>Current_date</th><th>Updated_by</th><th>Date_time</th><th>Year</th><th>Month</th><th>Weekofyear</th><th>date_litreal</th><th>Date</th></tr></thead><tbody><tr><td>1</td><td>Afghanistan</td><td>Afghan</td><td>AFG</td><td>AF</td><td>Kabul</td><td>38041754</td><td>652230</td><td>30</td><td>30</td><td>null</td><td>30</td><td>2023-07-19</td><td>Chhamanshu</td><td>2023-07-19T10:21:13.678+0000</td><td>2023</td><td>7</td><td>29</td><td>29-06-2023</td><td>2023-06-29</td></tr><tr><td>4</td><td>American Samoa</td><td>American Samoan</td><td>ASM</td><td>AS</td><td>Pago Pago</td><td>55312</td><td>199</td><td>40</td><td>20</td><td>null</td><td>30</td><td>2023-07-19</td><td>Chhamanshu</td><td>2023-07-19T10:21:13.678+0000</td><td>2023</td><td>7</td><td>29</td><td>29-06-2023</td><td>2023-06-29</td></tr><tr><td>7</td><td>Anguilla</td><td>Anguillan</td><td>AIA</td><td>AI</td><td>The Valley</td><td>14869</td><td>91</td><td>10</td><td>10</td><td>60</td><td>40</td><td>2023-07-19</td><td>Chhamanshu</td><td>2023-07-19T10:21:13.678+0000</td><td>2023</td><td>7</td><td>29</td><td>29-06-2023</td><td>2023-06-29</td></tr><tr><td>8</td><td>Antarctica</td><td>Antarctic</td><td>ATA</td><td>AQ</td><td>McMurdo Station</td><td>1106</td><td>14200000</td><td>40</td><td>null</td><td>null</td><td>30</td><td>2023-07-19</td><td>Chhamanshu</td><td>2023-07-19T10:21:13.678+0000</td><td>2023</td><td>7</td><td>29</td><td>29-06-2023</td><td>2023-06-29</td></tr><tr><td>9</td><td>Antigua and Barbuda</td><td>Antiguan or Barbudan</td><td>ATG</td><td>AG</td><td>St. John's</td><td>97118</td><td>442</td><td>10</td><td>10</td><td>60</td><td>40</td><td>2023-07-19</td><td>Chhamanshu</td><td>2023-07-19T10:21:13.678+0000</td><td>2023</td><td>7</td><td>29</td><td>29-06-2023</td><td>2023-06-29</td></tr><tr><td>10</td><td>Argentina</td><td>Argentine</td><td>ARG</td><td>AR</td><td>Buenos Aires</td><td>44780677</td><td>2780400</td><td>10</td><td>10</td><td>40</td><td>40</td><td>2023-07-19</td><td>Chhamanshu</td><td>2023-07-19T10:21:13.678+0000</td><td>2023</td><td>7</td><td>29</td><td>29-06-2023</td><td>2023-06-29</td></tr></tbody></table></div>"
      ]
     },
     "metadata": {
      "application/vnd.databricks.v1+output": {
       "addedWidgets": {},
       "aggData": [],
       "aggError": "",
       "aggOverflow": false,
       "aggSchema": [],
       "aggSeriesLimitReached": false,
       "aggType": "",
       "arguments": {},
       "columnCustomDisplayInfos": {},
       "data": [
        [
         "1",
         "Afghanistan",
         "Afghan",
         "AFG",
         "AF",
         "Kabul",
         "38041754",
         "652230",
         "30",
         "30",
         null,
         "30",
         "2023-07-19",
         "Chhamanshu",
         "2023-07-19T10:21:13.678+0000",
         2023,
         7,
         29,
         "29-06-2023",
         "2023-06-29"
        ],
        [
         "4",
         "American Samoa",
         "American Samoan",
         "ASM",
         "AS",
         "Pago Pago",
         "55312",
         "199",
         "40",
         "20",
         null,
         "30",
         "2023-07-19",
         "Chhamanshu",
         "2023-07-19T10:21:13.678+0000",
         2023,
         7,
         29,
         "29-06-2023",
         "2023-06-29"
        ],
        [
         "7",
         "Anguilla",
         "Anguillan",
         "AIA",
         "AI",
         "The Valley",
         "14869",
         "91",
         "10",
         "10",
         "60",
         "40",
         "2023-07-19",
         "Chhamanshu",
         "2023-07-19T10:21:13.678+0000",
         2023,
         7,
         29,
         "29-06-2023",
         "2023-06-29"
        ],
        [
         "8",
         "Antarctica",
         "Antarctic",
         "ATA",
         "AQ",
         "McMurdo Station",
         "1106",
         "14200000",
         "40",
         null,
         null,
         "30",
         "2023-07-19",
         "Chhamanshu",
         "2023-07-19T10:21:13.678+0000",
         2023,
         7,
         29,
         "29-06-2023",
         "2023-06-29"
        ],
        [
         "9",
         "Antigua and Barbuda",
         "Antiguan or Barbudan",
         "ATG",
         "AG",
         "St. John's",
         "97118",
         "442",
         "10",
         "10",
         "60",
         "40",
         "2023-07-19",
         "Chhamanshu",
         "2023-07-19T10:21:13.678+0000",
         2023,
         7,
         29,
         "29-06-2023",
         "2023-06-29"
        ],
        [
         "10",
         "Argentina",
         "Argentine",
         "ARG",
         "AR",
         "Buenos Aires",
         "44780677",
         "2780400",
         "10",
         "10",
         "40",
         "40",
         "2023-07-19",
         "Chhamanshu",
         "2023-07-19T10:21:13.678+0000",
         2023,
         7,
         29,
         "29-06-2023",
         "2023-06-29"
        ]
       ],
       "datasetInfos": [],
       "dbfsResultPath": null,
       "isJsonSchema": true,
       "metadata": {},
       "overflow": false,
       "plotOptions": {
        "customPlotOptions": {},
        "displayType": "table",
        "pivotAggregation": null,
        "pivotColumns": null,
        "xColumns": null,
        "yColumns": null
       },
       "removedWidgets": [],
       "schema": [
        {
         "metadata": "{}",
         "name": "COUNTRY_ID",
         "type": "\"string\""
        },
        {
         "metadata": "{}",
         "name": "NAME",
         "type": "\"string\""
        },
        {
         "metadata": "{}",
         "name": "NATIONALITY",
         "type": "\"string\""
        },
        {
         "metadata": "{}",
         "name": "COUNTRY_CODE",
         "type": "\"string\""
        },
        {
         "metadata": "{}",
         "name": "ISO_ALPHA2",
         "type": "\"string\""
        },
        {
         "metadata": "{}",
         "name": "CAPITAL",
         "type": "\"string\""
        },
        {
         "metadata": "{}",
         "name": "POPULATION",
         "type": "\"string\""
        },
        {
         "metadata": "{}",
         "name": "AREA_KM2",
         "type": "\"string\""
        },
        {
         "metadata": "{}",
         "name": "REGION_ID",
         "type": "\"string\""
        },
        {
         "metadata": "{}",
         "name": "SUB_REGION_ID",
         "type": "\"string\""
        },
        {
         "metadata": "{}",
         "name": "INTERMEDIATE_REGION_ID",
         "type": "\"string\""
        },
        {
         "metadata": "{}",
         "name": "ORGANIZATION_REGION_ID",
         "type": "\"string\""
        },
        {
         "metadata": "{}",
         "name": "Current_date",
         "type": "\"date\""
        },
        {
         "metadata": "{}",
         "name": "Updated_by",
         "type": "\"string\""
        },
        {
         "metadata": "{}",
         "name": "Date_time",
         "type": "\"timestamp\""
        },
        {
         "metadata": "{}",
         "name": "Year",
         "type": "\"integer\""
        },
        {
         "metadata": "{}",
         "name": "Month",
         "type": "\"integer\""
        },
        {
         "metadata": "{}",
         "name": "Weekofyear",
         "type": "\"integer\""
        },
        {
         "metadata": "{}",
         "name": "date_litreal",
         "type": "\"string\""
        },
        {
         "metadata": "{}",
         "name": "Date",
         "type": "\"date\""
        }
       ],
       "type": "table"
      }
     },
     "output_type": "display_data"
    }
   ],
   "source": [
    "df.filter(length(df['Name'])>7).display()"
   ]
  },
  {
   "cell_type": "code",
   "execution_count": 0,
   "metadata": {
    "application/vnd.databricks.v1+cell": {
     "cellMetadata": {
      "byteLimit": 2048000,
      "rowLimit": 10000
     },
     "inputWidgets": {},
     "nuid": "200f3453-5637-4e77-8dc0-6f873bc0aa9c",
     "showTitle": false,
     "title": ""
    }
   },
   "outputs": [
    {
     "output_type": "display_data",
     "data": {
      "text/html": [
       "<style scoped>\n",
       "  .table-result-container {\n",
       "    max-height: 300px;\n",
       "    overflow: auto;\n",
       "  }\n",
       "  table, th, td {\n",
       "    border: 1px solid black;\n",
       "    border-collapse: collapse;\n",
       "  }\n",
       "  th, td {\n",
       "    padding: 5px;\n",
       "  }\n",
       "  th {\n",
       "    text-align: left;\n",
       "  }\n",
       "</style><div class='table-result-container'><table class='table-result'><thead style='background-color: white'><tr><th>COUNTRY_ID</th><th>NAME</th><th>NATIONALITY</th><th>COUNTRY_CODE</th><th>ISO_ALPHA2</th><th>CAPITAL</th><th>POPULATION</th><th>AREA_KM2</th><th>REGION_ID</th><th>SUB_REGION_ID</th><th>INTERMEDIATE_REGION_ID</th><th>ORGANIZATION_REGION_ID</th><th>Current_date</th><th>Updated_by</th><th>Date_time</th><th>Year</th><th>Month</th><th>Weekofyear</th><th>date_litreal</th><th>Date</th></tr></thead><tbody><tr><td>4</td><td>American Samoa</td><td>American Samoan</td><td>ASM</td><td>AS</td><td>Pago Pago</td><td>55312</td><td>199</td><td>40</td><td>20</td><td>null</td><td>30</td><td>2023-07-19</td><td>Chhamanshu</td><td>2023-07-19T10:21:13.897+0000</td><td>2023</td><td>7</td><td>29</td><td>29-06-2023</td><td>2023-06-29</td></tr><tr><td>5</td><td>Andorra</td><td>Andorran</td><td>AND</td><td>AD</td><td>Andorra la Vella</td><td>77142</td><td>468</td><td>20</td><td>70</td><td>null</td><td>20</td><td>2023-07-19</td><td>Chhamanshu</td><td>2023-07-19T10:21:13.897+0000</td><td>2023</td><td>7</td><td>29</td><td>29-06-2023</td><td>2023-06-29</td></tr><tr><td>7</td><td>Anguilla</td><td>Anguillan</td><td>AIA</td><td>AI</td><td>The Valley</td><td>14869</td><td>91</td><td>10</td><td>10</td><td>60</td><td>40</td><td>2023-07-19</td><td>Chhamanshu</td><td>2023-07-19T10:21:13.897+0000</td><td>2023</td><td>7</td><td>29</td><td>29-06-2023</td><td>2023-06-29</td></tr><tr><td>8</td><td>Antarctica</td><td>Antarctic</td><td>ATA</td><td>AQ</td><td>McMurdo Station</td><td>1106</td><td>14200000</td><td>40</td><td>null</td><td>null</td><td>30</td><td>2023-07-19</td><td>Chhamanshu</td><td>2023-07-19T10:21:13.897+0000</td><td>2023</td><td>7</td><td>29</td><td>29-06-2023</td><td>2023-06-29</td></tr><tr><td>9</td><td>Antigua and Barbuda</td><td>Antiguan or Barbudan</td><td>ATG</td><td>AG</td><td>St. John's</td><td>97118</td><td>442</td><td>10</td><td>10</td><td>60</td><td>40</td><td>2023-07-19</td><td>Chhamanshu</td><td>2023-07-19T10:21:13.897+0000</td><td>2023</td><td>7</td><td>29</td><td>29-06-2023</td><td>2023-06-29</td></tr><tr><td>10</td><td>Argentina</td><td>Argentine</td><td>ARG</td><td>AR</td><td>Buenos Aires</td><td>44780677</td><td>2780400</td><td>10</td><td>10</td><td>40</td><td>40</td><td>2023-07-19</td><td>Chhamanshu</td><td>2023-07-19T10:21:13.897+0000</td><td>2023</td><td>7</td><td>29</td><td>29-06-2023</td><td>2023-06-29</td></tr></tbody></table></div>"
      ]
     },
     "metadata": {
      "application/vnd.databricks.v1+output": {
       "addedWidgets": {},
       "aggData": [],
       "aggError": "",
       "aggOverflow": false,
       "aggSchema": [],
       "aggSeriesLimitReached": false,
       "aggType": "",
       "arguments": {},
       "columnCustomDisplayInfos": {},
       "data": [
        [
         "4",
         "American Samoa",
         "American Samoan",
         "ASM",
         "AS",
         "Pago Pago",
         "55312",
         "199",
         "40",
         "20",
         null,
         "30",
         "2023-07-19",
         "Chhamanshu",
         "2023-07-19T10:21:13.897+0000",
         2023,
         7,
         29,
         "29-06-2023",
         "2023-06-29"
        ],
        [
         "5",
         "Andorra",
         "Andorran",
         "AND",
         "AD",
         "Andorra la Vella",
         "77142",
         "468",
         "20",
         "70",
         null,
         "20",
         "2023-07-19",
         "Chhamanshu",
         "2023-07-19T10:21:13.897+0000",
         2023,
         7,
         29,
         "29-06-2023",
         "2023-06-29"
        ],
        [
         "7",
         "Anguilla",
         "Anguillan",
         "AIA",
         "AI",
         "The Valley",
         "14869",
         "91",
         "10",
         "10",
         "60",
         "40",
         "2023-07-19",
         "Chhamanshu",
         "2023-07-19T10:21:13.897+0000",
         2023,
         7,
         29,
         "29-06-2023",
         "2023-06-29"
        ],
        [
         "8",
         "Antarctica",
         "Antarctic",
         "ATA",
         "AQ",
         "McMurdo Station",
         "1106",
         "14200000",
         "40",
         null,
         null,
         "30",
         "2023-07-19",
         "Chhamanshu",
         "2023-07-19T10:21:13.897+0000",
         2023,
         7,
         29,
         "29-06-2023",
         "2023-06-29"
        ],
        [
         "9",
         "Antigua and Barbuda",
         "Antiguan or Barbudan",
         "ATG",
         "AG",
         "St. John's",
         "97118",
         "442",
         "10",
         "10",
         "60",
         "40",
         "2023-07-19",
         "Chhamanshu",
         "2023-07-19T10:21:13.897+0000",
         2023,
         7,
         29,
         "29-06-2023",
         "2023-06-29"
        ],
        [
         "10",
         "Argentina",
         "Argentine",
         "ARG",
         "AR",
         "Buenos Aires",
         "44780677",
         "2780400",
         "10",
         "10",
         "40",
         "40",
         "2023-07-19",
         "Chhamanshu",
         "2023-07-19T10:21:13.897+0000",
         2023,
         7,
         29,
         "29-06-2023",
         "2023-06-29"
        ]
       ],
       "datasetInfos": [],
       "dbfsResultPath": null,
       "isJsonSchema": true,
       "metadata": {},
       "overflow": false,
       "plotOptions": {
        "customPlotOptions": {},
        "displayType": "table",
        "pivotAggregation": null,
        "pivotColumns": null,
        "xColumns": null,
        "yColumns": null
       },
       "removedWidgets": [],
       "schema": [
        {
         "metadata": "{}",
         "name": "COUNTRY_ID",
         "type": "\"string\""
        },
        {
         "metadata": "{}",
         "name": "NAME",
         "type": "\"string\""
        },
        {
         "metadata": "{}",
         "name": "NATIONALITY",
         "type": "\"string\""
        },
        {
         "metadata": "{}",
         "name": "COUNTRY_CODE",
         "type": "\"string\""
        },
        {
         "metadata": "{}",
         "name": "ISO_ALPHA2",
         "type": "\"string\""
        },
        {
         "metadata": "{}",
         "name": "CAPITAL",
         "type": "\"string\""
        },
        {
         "metadata": "{}",
         "name": "POPULATION",
         "type": "\"string\""
        },
        {
         "metadata": "{}",
         "name": "AREA_KM2",
         "type": "\"string\""
        },
        {
         "metadata": "{}",
         "name": "REGION_ID",
         "type": "\"string\""
        },
        {
         "metadata": "{}",
         "name": "SUB_REGION_ID",
         "type": "\"string\""
        },
        {
         "metadata": "{}",
         "name": "INTERMEDIATE_REGION_ID",
         "type": "\"string\""
        },
        {
         "metadata": "{}",
         "name": "ORGANIZATION_REGION_ID",
         "type": "\"string\""
        },
        {
         "metadata": "{}",
         "name": "Current_date",
         "type": "\"date\""
        },
        {
         "metadata": "{}",
         "name": "Updated_by",
         "type": "\"string\""
        },
        {
         "metadata": "{}",
         "name": "Date_time",
         "type": "\"timestamp\""
        },
        {
         "metadata": "{}",
         "name": "Year",
         "type": "\"integer\""
        },
        {
         "metadata": "{}",
         "name": "Month",
         "type": "\"integer\""
        },
        {
         "metadata": "{}",
         "name": "Weekofyear",
         "type": "\"integer\""
        },
        {
         "metadata": "{}",
         "name": "date_litreal",
         "type": "\"string\""
        },
        {
         "metadata": "{}",
         "name": "Date",
         "type": "\"date\""
        }
       ],
       "type": "table"
      }
     },
     "output_type": "display_data"
    }
   ],
   "source": [
    "# & Operator Function\n",
    "df.filter((length(df['Name'])>4) & (length(df['Capital'])>7)).display() "
   ]
  },
  {
   "cell_type": "code",
   "execution_count": 0,
   "metadata": {
    "application/vnd.databricks.v1+cell": {
     "cellMetadata": {
      "byteLimit": 2048000,
      "rowLimit": 10000
     },
     "inputWidgets": {},
     "nuid": "daeab302-9572-4461-afdc-d4b5499e8342",
     "showTitle": false,
     "title": ""
    }
   },
   "outputs": [],
   "source": [
    "from pyspark.sql.functions import *"
   ]
  },
  {
   "cell_type": "code",
   "execution_count": 0,
   "metadata": {
    "application/vnd.databricks.v1+cell": {
     "cellMetadata": {
      "byteLimit": 2048000,
      "rowLimit": 10000
     },
     "inputWidgets": {},
     "nuid": "810e9007-346f-4d03-b1c7-c8015dbb8a00",
     "showTitle": false,
     "title": ""
    }
   },
   "outputs": [
    {
     "output_type": "display_data",
     "data": {
      "text/html": [
       "<style scoped>\n",
       "  .table-result-container {\n",
       "    max-height: 300px;\n",
       "    overflow: auto;\n",
       "  }\n",
       "  table, th, td {\n",
       "    border: 1px solid black;\n",
       "    border-collapse: collapse;\n",
       "  }\n",
       "  th, td {\n",
       "    padding: 5px;\n",
       "  }\n",
       "  th {\n",
       "    text-align: left;\n",
       "  }\n",
       "</style><div class='table-result-container'><table class='table-result'><thead style='background-color: white'><tr><th>COUNTRY_ID</th><th>NAME</th><th>NATIONALITY</th><th>COUNTRY_CODE</th><th>ISO_ALPHA2</th><th>CAPITAL</th><th>POPULATION</th><th>AREA_KM2</th><th>REGION_ID</th><th>SUB_REGION_ID</th><th>INTERMEDIATE_REGION_ID</th><th>ORGANIZATION_REGION_ID</th><th>Current_date</th><th>Updated_by</th><th>Date_time</th><th>Year</th><th>Month</th><th>Weekofyear</th><th>date_litreal</th><th>Date</th><th>Customized_col</th></tr></thead><tbody><tr><td>1</td><td>Afghanistan</td><td>Afghan</td><td>AFG</td><td>AF</td><td>Kabul</td><td>38041754</td><td>652230</td><td>30</td><td>30</td><td>null</td><td>30</td><td>2023-07-19</td><td>Chhamanshu</td><td>2023-07-19T10:21:14.195+0000</td><td>2023</td><td>7</td><td>29</td><td>29-06-2023</td><td>2023-06-29</td><td>Large</td></tr><tr><td>2</td><td>Albania</td><td>Albanian</td><td>ALB</td><td>AL</td><td>Tirana</td><td>2880917</td><td>28748</td><td>20</td><td>70</td><td>null</td><td>20</td><td>2023-07-19</td><td>Chhamanshu</td><td>2023-07-19T10:21:14.195+0000</td><td>2023</td><td>7</td><td>29</td><td>29-06-2023</td><td>2023-06-29</td><td>Small</td></tr><tr><td>3</td><td>Algeria</td><td>Algerian</td><td>DZA</td><td>DZ</td><td>Algiers</td><td>43053054</td><td>2381741</td><td>50</td><td>40</td><td>null</td><td>20</td><td>2023-07-19</td><td>Chhamanshu</td><td>2023-07-19T10:21:14.195+0000</td><td>2023</td><td>7</td><td>29</td><td>29-06-2023</td><td>2023-06-29</td><td>Large</td></tr><tr><td>4</td><td>American Samoa</td><td>American Samoan</td><td>ASM</td><td>AS</td><td>Pago Pago</td><td>55312</td><td>199</td><td>40</td><td>20</td><td>null</td><td>30</td><td>2023-07-19</td><td>Chhamanshu</td><td>2023-07-19T10:21:14.195+0000</td><td>2023</td><td>7</td><td>29</td><td>29-06-2023</td><td>2023-06-29</td><td>Small</td></tr><tr><td>5</td><td>Andorra</td><td>Andorran</td><td>AND</td><td>AD</td><td>Andorra la Vella</td><td>77142</td><td>468</td><td>20</td><td>70</td><td>null</td><td>20</td><td>2023-07-19</td><td>Chhamanshu</td><td>2023-07-19T10:21:14.195+0000</td><td>2023</td><td>7</td><td>29</td><td>29-06-2023</td><td>2023-06-29</td><td>Small</td></tr><tr><td>6</td><td>Angola</td><td>Angolan</td><td>AGO</td><td>AO</td><td>Luanda</td><td>31825295</td><td>1246700</td><td>50</td><td>160</td><td>80</td><td>20</td><td>2023-07-19</td><td>Chhamanshu</td><td>2023-07-19T10:21:14.195+0000</td><td>2023</td><td>7</td><td>29</td><td>29-06-2023</td><td>2023-06-29</td><td>Large</td></tr><tr><td>7</td><td>Anguilla</td><td>Anguillan</td><td>AIA</td><td>AI</td><td>The Valley</td><td>14869</td><td>91</td><td>10</td><td>10</td><td>60</td><td>40</td><td>2023-07-19</td><td>Chhamanshu</td><td>2023-07-19T10:21:14.195+0000</td><td>2023</td><td>7</td><td>29</td><td>29-06-2023</td><td>2023-06-29</td><td>Small</td></tr><tr><td>8</td><td>Antarctica</td><td>Antarctic</td><td>ATA</td><td>AQ</td><td>McMurdo Station</td><td>1106</td><td>14200000</td><td>40</td><td>null</td><td>null</td><td>30</td><td>2023-07-19</td><td>Chhamanshu</td><td>2023-07-19T10:21:14.195+0000</td><td>2023</td><td>7</td><td>29</td><td>29-06-2023</td><td>2023-06-29</td><td>Small</td></tr><tr><td>9</td><td>Antigua and Barbuda</td><td>Antiguan or Barbudan</td><td>ATG</td><td>AG</td><td>St. John's</td><td>97118</td><td>442</td><td>10</td><td>10</td><td>60</td><td>40</td><td>2023-07-19</td><td>Chhamanshu</td><td>2023-07-19T10:21:14.195+0000</td><td>2023</td><td>7</td><td>29</td><td>29-06-2023</td><td>2023-06-29</td><td>Small</td></tr><tr><td>10</td><td>Argentina</td><td>Argentine</td><td>ARG</td><td>AR</td><td>Buenos Aires</td><td>44780677</td><td>2780400</td><td>10</td><td>10</td><td>40</td><td>40</td><td>2023-07-19</td><td>Chhamanshu</td><td>2023-07-19T10:21:14.195+0000</td><td>2023</td><td>7</td><td>29</td><td>29-06-2023</td><td>2023-06-29</td><td>Large</td></tr></tbody></table></div>"
      ]
     },
     "metadata": {
      "application/vnd.databricks.v1+output": {
       "addedWidgets": {},
       "aggData": [],
       "aggError": "",
       "aggOverflow": false,
       "aggSchema": [],
       "aggSeriesLimitReached": false,
       "aggType": "",
       "arguments": {},
       "columnCustomDisplayInfos": {},
       "data": [
        [
         "1",
         "Afghanistan",
         "Afghan",
         "AFG",
         "AF",
         "Kabul",
         "38041754",
         "652230",
         "30",
         "30",
         null,
         "30",
         "2023-07-19",
         "Chhamanshu",
         "2023-07-19T10:21:14.195+0000",
         2023,
         7,
         29,
         "29-06-2023",
         "2023-06-29",
         "Large"
        ],
        [
         "2",
         "Albania",
         "Albanian",
         "ALB",
         "AL",
         "Tirana",
         "2880917",
         "28748",
         "20",
         "70",
         null,
         "20",
         "2023-07-19",
         "Chhamanshu",
         "2023-07-19T10:21:14.195+0000",
         2023,
         7,
         29,
         "29-06-2023",
         "2023-06-29",
         "Small"
        ],
        [
         "3",
         "Algeria",
         "Algerian",
         "DZA",
         "DZ",
         "Algiers",
         "43053054",
         "2381741",
         "50",
         "40",
         null,
         "20",
         "2023-07-19",
         "Chhamanshu",
         "2023-07-19T10:21:14.195+0000",
         2023,
         7,
         29,
         "29-06-2023",
         "2023-06-29",
         "Large"
        ],
        [
         "4",
         "American Samoa",
         "American Samoan",
         "ASM",
         "AS",
         "Pago Pago",
         "55312",
         "199",
         "40",
         "20",
         null,
         "30",
         "2023-07-19",
         "Chhamanshu",
         "2023-07-19T10:21:14.195+0000",
         2023,
         7,
         29,
         "29-06-2023",
         "2023-06-29",
         "Small"
        ],
        [
         "5",
         "Andorra",
         "Andorran",
         "AND",
         "AD",
         "Andorra la Vella",
         "77142",
         "468",
         "20",
         "70",
         null,
         "20",
         "2023-07-19",
         "Chhamanshu",
         "2023-07-19T10:21:14.195+0000",
         2023,
         7,
         29,
         "29-06-2023",
         "2023-06-29",
         "Small"
        ],
        [
         "6",
         "Angola",
         "Angolan",
         "AGO",
         "AO",
         "Luanda",
         "31825295",
         "1246700",
         "50",
         "160",
         "80",
         "20",
         "2023-07-19",
         "Chhamanshu",
         "2023-07-19T10:21:14.195+0000",
         2023,
         7,
         29,
         "29-06-2023",
         "2023-06-29",
         "Large"
        ],
        [
         "7",
         "Anguilla",
         "Anguillan",
         "AIA",
         "AI",
         "The Valley",
         "14869",
         "91",
         "10",
         "10",
         "60",
         "40",
         "2023-07-19",
         "Chhamanshu",
         "2023-07-19T10:21:14.195+0000",
         2023,
         7,
         29,
         "29-06-2023",
         "2023-06-29",
         "Small"
        ],
        [
         "8",
         "Antarctica",
         "Antarctic",
         "ATA",
         "AQ",
         "McMurdo Station",
         "1106",
         "14200000",
         "40",
         null,
         null,
         "30",
         "2023-07-19",
         "Chhamanshu",
         "2023-07-19T10:21:14.195+0000",
         2023,
         7,
         29,
         "29-06-2023",
         "2023-06-29",
         "Small"
        ],
        [
         "9",
         "Antigua and Barbuda",
         "Antiguan or Barbudan",
         "ATG",
         "AG",
         "St. John's",
         "97118",
         "442",
         "10",
         "10",
         "60",
         "40",
         "2023-07-19",
         "Chhamanshu",
         "2023-07-19T10:21:14.195+0000",
         2023,
         7,
         29,
         "29-06-2023",
         "2023-06-29",
         "Small"
        ],
        [
         "10",
         "Argentina",
         "Argentine",
         "ARG",
         "AR",
         "Buenos Aires",
         "44780677",
         "2780400",
         "10",
         "10",
         "40",
         "40",
         "2023-07-19",
         "Chhamanshu",
         "2023-07-19T10:21:14.195+0000",
         2023,
         7,
         29,
         "29-06-2023",
         "2023-06-29",
         "Large"
        ]
       ],
       "datasetInfos": [],
       "dbfsResultPath": null,
       "isJsonSchema": true,
       "metadata": {},
       "overflow": false,
       "plotOptions": {
        "customPlotOptions": {},
        "displayType": "table",
        "pivotAggregation": null,
        "pivotColumns": null,
        "xColumns": null,
        "yColumns": null
       },
       "removedWidgets": [],
       "schema": [
        {
         "metadata": "{}",
         "name": "COUNTRY_ID",
         "type": "\"string\""
        },
        {
         "metadata": "{}",
         "name": "NAME",
         "type": "\"string\""
        },
        {
         "metadata": "{}",
         "name": "NATIONALITY",
         "type": "\"string\""
        },
        {
         "metadata": "{}",
         "name": "COUNTRY_CODE",
         "type": "\"string\""
        },
        {
         "metadata": "{}",
         "name": "ISO_ALPHA2",
         "type": "\"string\""
        },
        {
         "metadata": "{}",
         "name": "CAPITAL",
         "type": "\"string\""
        },
        {
         "metadata": "{}",
         "name": "POPULATION",
         "type": "\"string\""
        },
        {
         "metadata": "{}",
         "name": "AREA_KM2",
         "type": "\"string\""
        },
        {
         "metadata": "{}",
         "name": "REGION_ID",
         "type": "\"string\""
        },
        {
         "metadata": "{}",
         "name": "SUB_REGION_ID",
         "type": "\"string\""
        },
        {
         "metadata": "{}",
         "name": "INTERMEDIATE_REGION_ID",
         "type": "\"string\""
        },
        {
         "metadata": "{}",
         "name": "ORGANIZATION_REGION_ID",
         "type": "\"string\""
        },
        {
         "metadata": "{}",
         "name": "Current_date",
         "type": "\"date\""
        },
        {
         "metadata": "{}",
         "name": "Updated_by",
         "type": "\"string\""
        },
        {
         "metadata": "{}",
         "name": "Date_time",
         "type": "\"timestamp\""
        },
        {
         "metadata": "{}",
         "name": "Year",
         "type": "\"integer\""
        },
        {
         "metadata": "{}",
         "name": "Month",
         "type": "\"integer\""
        },
        {
         "metadata": "{}",
         "name": "Weekofyear",
         "type": "\"integer\""
        },
        {
         "metadata": "{}",
         "name": "date_litreal",
         "type": "\"string\""
        },
        {
         "metadata": "{}",
         "name": "Date",
         "type": "\"date\""
        },
        {
         "metadata": "{}",
         "name": "Customized_col",
         "type": "\"string\""
        }
       ],
       "type": "table"
      }
     },
     "output_type": "display_data"
    }
   ],
   "source": [
    "#  creating the new column based on when condition\n",
    "df.withColumn('Customized_col', when(df['Population']>10000000, 'Large').when(df['Population']<10000000,'Small')).display() "
   ]
  },
  {
   "cell_type": "code",
   "execution_count": 0,
   "metadata": {
    "application/vnd.databricks.v1+cell": {
     "cellMetadata": {
      "byteLimit": 2048000,
      "rowLimit": 10000
     },
     "inputWidgets": {},
     "nuid": "092e67c0-6948-43cd-8bfb-84bc52005c8b",
     "showTitle": false,
     "title": ""
    }
   },
   "outputs": [
    {
     "output_type": "display_data",
     "data": {
      "text/html": [
       "<style scoped>\n",
       "  .table-result-container {\n",
       "    max-height: 300px;\n",
       "    overflow: auto;\n",
       "  }\n",
       "  table, th, td {\n",
       "    border: 1px solid black;\n",
       "    border-collapse: collapse;\n",
       "  }\n",
       "  th, td {\n",
       "    padding: 5px;\n",
       "  }\n",
       "  th {\n",
       "    text-align: left;\n",
       "  }\n",
       "</style><div class='table-result-container'><table class='table-result'><thead style='background-color: white'><tr><th>COUNTRY_ID</th><th>NAME</th><th>NATIONALITY</th><th>COUNTRY_CODE</th><th>ISO_ALPHA2</th><th>CAPITAL</th><th>POPULATION</th><th>AREA_KM2</th><th>REGION_ID</th><th>SUB_REGION_ID</th><th>INTERMEDIATE_REGION_ID</th><th>ORGANIZATION_REGION_ID</th><th>Current_date</th><th>Updated_by</th><th>Date_time</th><th>Year</th><th>Month</th><th>Weekofyear</th><th>date_litreal</th><th>Date</th></tr></thead><tbody><tr><td>1</td><td>Afghanistan</td><td>Afghan</td><td>AFG</td><td>AF</td><td>Kabul</td><td>38041754</td><td>652230</td><td>30</td><td>30</td><td>null</td><td>30</td><td>2023-07-19</td><td>Chhamanshu</td><td>2023-07-19T10:21:14.570+0000</td><td>2023</td><td>7</td><td>29</td><td>29-06-2023</td><td>2023-06-29</td></tr><tr><td>2</td><td>Albania</td><td>Albanian</td><td>ALB</td><td>AL</td><td>Tirana</td><td>2880917</td><td>28748</td><td>20</td><td>70</td><td>null</td><td>20</td><td>2023-07-19</td><td>Chhamanshu</td><td>2023-07-19T10:21:14.570+0000</td><td>2023</td><td>7</td><td>29</td><td>29-06-2023</td><td>2023-06-29</td></tr><tr><td>3</td><td>Algeria</td><td>Algerian</td><td>DZA</td><td>DZ</td><td>Algiers</td><td>43053054</td><td>2381741</td><td>50</td><td>40</td><td>null</td><td>20</td><td>2023-07-19</td><td>Chhamanshu</td><td>2023-07-19T10:21:14.570+0000</td><td>2023</td><td>7</td><td>29</td><td>29-06-2023</td><td>2023-06-29</td></tr><tr><td>4</td><td>American Samoa</td><td>American Samoan</td><td>ASM</td><td>AS</td><td>Pago Pago</td><td>55312</td><td>199</td><td>40</td><td>20</td><td>null</td><td>30</td><td>2023-07-19</td><td>Chhamanshu</td><td>2023-07-19T10:21:14.570+0000</td><td>2023</td><td>7</td><td>29</td><td>29-06-2023</td><td>2023-06-29</td></tr><tr><td>5</td><td>Andorra</td><td>Andorran</td><td>AND</td><td>AD</td><td>Andorra la Vella</td><td>77142</td><td>468</td><td>20</td><td>70</td><td>null</td><td>20</td><td>2023-07-19</td><td>Chhamanshu</td><td>2023-07-19T10:21:14.570+0000</td><td>2023</td><td>7</td><td>29</td><td>29-06-2023</td><td>2023-06-29</td></tr><tr><td>6</td><td>Angola</td><td>Angolan</td><td>AGO</td><td>AO</td><td>Luanda</td><td>31825295</td><td>1246700</td><td>50</td><td>160</td><td>80</td><td>20</td><td>2023-07-19</td><td>Chhamanshu</td><td>2023-07-19T10:21:14.570+0000</td><td>2023</td><td>7</td><td>29</td><td>29-06-2023</td><td>2023-06-29</td></tr><tr><td>7</td><td>Anguilla</td><td>Anguillan</td><td>AIA</td><td>AI</td><td>The Valley</td><td>14869</td><td>91</td><td>10</td><td>10</td><td>60</td><td>40</td><td>2023-07-19</td><td>Chhamanshu</td><td>2023-07-19T10:21:14.570+0000</td><td>2023</td><td>7</td><td>29</td><td>29-06-2023</td><td>2023-06-29</td></tr><tr><td>8</td><td>Antarctica</td><td>Antarctic</td><td>ATA</td><td>AQ</td><td>McMurdo Station</td><td>1106</td><td>14200000</td><td>40</td><td>null</td><td>null</td><td>30</td><td>2023-07-19</td><td>Chhamanshu</td><td>2023-07-19T10:21:14.570+0000</td><td>2023</td><td>7</td><td>29</td><td>29-06-2023</td><td>2023-06-29</td></tr><tr><td>9</td><td>Antigua and Barbuda</td><td>Antiguan or Barbudan</td><td>ATG</td><td>AG</td><td>St. John's</td><td>97118</td><td>442</td><td>10</td><td>10</td><td>60</td><td>40</td><td>2023-07-19</td><td>Chhamanshu</td><td>2023-07-19T10:21:14.570+0000</td><td>2023</td><td>7</td><td>29</td><td>29-06-2023</td><td>2023-06-29</td></tr><tr><td>10</td><td>Argentina</td><td>Argentine</td><td>ARG</td><td>AR</td><td>Buenos Aires</td><td>44780677</td><td>2780400</td><td>10</td><td>10</td><td>40</td><td>40</td><td>2023-07-19</td><td>Chhamanshu</td><td>2023-07-19T10:21:14.570+0000</td><td>2023</td><td>7</td><td>29</td><td>29-06-2023</td><td>2023-06-29</td></tr></tbody></table></div>"
      ]
     },
     "metadata": {
      "application/vnd.databricks.v1+output": {
       "addedWidgets": {},
       "aggData": [],
       "aggError": "",
       "aggOverflow": false,
       "aggSchema": [],
       "aggSeriesLimitReached": false,
       "aggType": "",
       "arguments": {},
       "columnCustomDisplayInfos": {},
       "data": [
        [
         "1",
         "Afghanistan",
         "Afghan",
         "AFG",
         "AF",
         "Kabul",
         "38041754",
         "652230",
         "30",
         "30",
         null,
         "30",
         "2023-07-19",
         "Chhamanshu",
         "2023-07-19T10:21:14.570+0000",
         2023,
         7,
         29,
         "29-06-2023",
         "2023-06-29"
        ],
        [
         "2",
         "Albania",
         "Albanian",
         "ALB",
         "AL",
         "Tirana",
         "2880917",
         "28748",
         "20",
         "70",
         null,
         "20",
         "2023-07-19",
         "Chhamanshu",
         "2023-07-19T10:21:14.570+0000",
         2023,
         7,
         29,
         "29-06-2023",
         "2023-06-29"
        ],
        [
         "3",
         "Algeria",
         "Algerian",
         "DZA",
         "DZ",
         "Algiers",
         "43053054",
         "2381741",
         "50",
         "40",
         null,
         "20",
         "2023-07-19",
         "Chhamanshu",
         "2023-07-19T10:21:14.570+0000",
         2023,
         7,
         29,
         "29-06-2023",
         "2023-06-29"
        ],
        [
         "4",
         "American Samoa",
         "American Samoan",
         "ASM",
         "AS",
         "Pago Pago",
         "55312",
         "199",
         "40",
         "20",
         null,
         "30",
         "2023-07-19",
         "Chhamanshu",
         "2023-07-19T10:21:14.570+0000",
         2023,
         7,
         29,
         "29-06-2023",
         "2023-06-29"
        ],
        [
         "5",
         "Andorra",
         "Andorran",
         "AND",
         "AD",
         "Andorra la Vella",
         "77142",
         "468",
         "20",
         "70",
         null,
         "20",
         "2023-07-19",
         "Chhamanshu",
         "2023-07-19T10:21:14.570+0000",
         2023,
         7,
         29,
         "29-06-2023",
         "2023-06-29"
        ],
        [
         "6",
         "Angola",
         "Angolan",
         "AGO",
         "AO",
         "Luanda",
         "31825295",
         "1246700",
         "50",
         "160",
         "80",
         "20",
         "2023-07-19",
         "Chhamanshu",
         "2023-07-19T10:21:14.570+0000",
         2023,
         7,
         29,
         "29-06-2023",
         "2023-06-29"
        ],
        [
         "7",
         "Anguilla",
         "Anguillan",
         "AIA",
         "AI",
         "The Valley",
         "14869",
         "91",
         "10",
         "10",
         "60",
         "40",
         "2023-07-19",
         "Chhamanshu",
         "2023-07-19T10:21:14.570+0000",
         2023,
         7,
         29,
         "29-06-2023",
         "2023-06-29"
        ],
        [
         "8",
         "Antarctica",
         "Antarctic",
         "ATA",
         "AQ",
         "McMurdo Station",
         "1106",
         "14200000",
         "40",
         null,
         null,
         "30",
         "2023-07-19",
         "Chhamanshu",
         "2023-07-19T10:21:14.570+0000",
         2023,
         7,
         29,
         "29-06-2023",
         "2023-06-29"
        ],
        [
         "9",
         "Antigua and Barbuda",
         "Antiguan or Barbudan",
         "ATG",
         "AG",
         "St. John's",
         "97118",
         "442",
         "10",
         "10",
         "60",
         "40",
         "2023-07-19",
         "Chhamanshu",
         "2023-07-19T10:21:14.570+0000",
         2023,
         7,
         29,
         "29-06-2023",
         "2023-06-29"
        ],
        [
         "10",
         "Argentina",
         "Argentine",
         "ARG",
         "AR",
         "Buenos Aires",
         "44780677",
         "2780400",
         "10",
         "10",
         "40",
         "40",
         "2023-07-19",
         "Chhamanshu",
         "2023-07-19T10:21:14.570+0000",
         2023,
         7,
         29,
         "29-06-2023",
         "2023-06-29"
        ]
       ],
       "datasetInfos": [],
       "dbfsResultPath": null,
       "isJsonSchema": true,
       "metadata": {},
       "overflow": false,
       "plotOptions": {
        "customPlotOptions": {},
        "displayType": "table",
        "pivotAggregation": null,
        "pivotColumns": null,
        "xColumns": null,
        "yColumns": null
       },
       "removedWidgets": [],
       "schema": [
        {
         "metadata": "{}",
         "name": "COUNTRY_ID",
         "type": "\"string\""
        },
        {
         "metadata": "{}",
         "name": "NAME",
         "type": "\"string\""
        },
        {
         "metadata": "{}",
         "name": "NATIONALITY",
         "type": "\"string\""
        },
        {
         "metadata": "{}",
         "name": "COUNTRY_CODE",
         "type": "\"string\""
        },
        {
         "metadata": "{}",
         "name": "ISO_ALPHA2",
         "type": "\"string\""
        },
        {
         "metadata": "{}",
         "name": "CAPITAL",
         "type": "\"string\""
        },
        {
         "metadata": "{}",
         "name": "POPULATION",
         "type": "\"string\""
        },
        {
         "metadata": "{}",
         "name": "AREA_KM2",
         "type": "\"string\""
        },
        {
         "metadata": "{}",
         "name": "REGION_ID",
         "type": "\"string\""
        },
        {
         "metadata": "{}",
         "name": "SUB_REGION_ID",
         "type": "\"string\""
        },
        {
         "metadata": "{}",
         "name": "INTERMEDIATE_REGION_ID",
         "type": "\"string\""
        },
        {
         "metadata": "{}",
         "name": "ORGANIZATION_REGION_ID",
         "type": "\"string\""
        },
        {
         "metadata": "{}",
         "name": "Current_date",
         "type": "\"date\""
        },
        {
         "metadata": "{}",
         "name": "Updated_by",
         "type": "\"string\""
        },
        {
         "metadata": "{}",
         "name": "Date_time",
         "type": "\"timestamp\""
        },
        {
         "metadata": "{}",
         "name": "Year",
         "type": "\"integer\""
        },
        {
         "metadata": "{}",
         "name": "Month",
         "type": "\"integer\""
        },
        {
         "metadata": "{}",
         "name": "Weekofyear",
         "type": "\"integer\""
        },
        {
         "metadata": "{}",
         "name": "date_litreal",
         "type": "\"string\""
        },
        {
         "metadata": "{}",
         "name": "Date",
         "type": "\"date\""
        }
       ],
       "type": "table"
      }
     },
     "output_type": "display_data"
    }
   ],
   "source": [
    "df.display()"
   ]
  },
  {
   "cell_type": "code",
   "execution_count": 0,
   "metadata": {
    "application/vnd.databricks.v1+cell": {
     "cellMetadata": {
      "byteLimit": 2048000,
      "rowLimit": 10000
     },
     "inputWidgets": {},
     "nuid": "f605eaa4-cdf3-41c6-8636-e7cda26a8e07",
     "showTitle": false,
     "title": ""
    }
   },
   "outputs": [
    {
     "output_type": "display_data",
     "data": {
      "text/html": [
       "<style scoped>\n",
       "  .table-result-container {\n",
       "    max-height: 300px;\n",
       "    overflow: auto;\n",
       "  }\n",
       "  table, th, td {\n",
       "    border: 1px solid black;\n",
       "    border-collapse: collapse;\n",
       "  }\n",
       "  th, td {\n",
       "    padding: 5px;\n",
       "  }\n",
       "  th {\n",
       "    text-align: left;\n",
       "  }\n",
       "</style><div class='table-result-container'><table class='table-result'><thead style='background-color: white'><tr><th>COUNTRY_ID</th><th>NAME</th><th>NATIONALITY</th><th>COUNTRY_CODE</th><th>ISO_ALPHA2</th><th>CAPITAL</th><th>POPULATION</th><th>AREA_KM2</th><th>REGION_ID</th><th>SUB_REGION_ID</th><th>INTERMEDIATE_REGION_ID</th><th>ORGANIZATION_REGION_ID</th><th>Current_date</th><th>Updated_by</th><th>Date_time</th><th>Year</th><th>Month</th><th>Weekofyear</th><th>date_litreal</th><th>Date</th><th>Customised_col</th></tr></thead><tbody><tr><td>1</td><td>Afghanistan</td><td>Afghan</td><td>AFG</td><td>AF</td><td>Kabul</td><td>38041754</td><td>652230</td><td>30</td><td>30</td><td>null</td><td>30</td><td>2023-07-19</td><td>Chhamanshu</td><td>2023-07-19T10:21:14.787+0000</td><td>2023</td><td>7</td><td>29</td><td>29-06-2023</td><td>2023-06-29</td><td>Large</td></tr><tr><td>2</td><td>Albania</td><td>Albanian</td><td>ALB</td><td>AL</td><td>Tirana</td><td>2880917</td><td>28748</td><td>20</td><td>70</td><td>null</td><td>20</td><td>2023-07-19</td><td>Chhamanshu</td><td>2023-07-19T10:21:14.787+0000</td><td>2023</td><td>7</td><td>29</td><td>29-06-2023</td><td>2023-06-29</td><td>Large</td></tr><tr><td>3</td><td>Algeria</td><td>Algerian</td><td>DZA</td><td>DZ</td><td>Algiers</td><td>43053054</td><td>2381741</td><td>50</td><td>40</td><td>null</td><td>20</td><td>2023-07-19</td><td>Chhamanshu</td><td>2023-07-19T10:21:14.787+0000</td><td>2023</td><td>7</td><td>29</td><td>29-06-2023</td><td>2023-06-29</td><td>Large</td></tr><tr><td>4</td><td>American Samoa</td><td>American Samoan</td><td>ASM</td><td>AS</td><td>Pago Pago</td><td>55312</td><td>199</td><td>40</td><td>20</td><td>null</td><td>30</td><td>2023-07-19</td><td>Chhamanshu</td><td>2023-07-19T10:21:14.787+0000</td><td>2023</td><td>7</td><td>29</td><td>29-06-2023</td><td>2023-06-29</td><td>Not Large</td></tr><tr><td>5</td><td>Andorra</td><td>Andorran</td><td>AND</td><td>AD</td><td>Andorra la Vella</td><td>77142</td><td>468</td><td>20</td><td>70</td><td>null</td><td>20</td><td>2023-07-19</td><td>Chhamanshu</td><td>2023-07-19T10:21:14.787+0000</td><td>2023</td><td>7</td><td>29</td><td>29-06-2023</td><td>2023-06-29</td><td>Not Large</td></tr><tr><td>6</td><td>Angola</td><td>Angolan</td><td>AGO</td><td>AO</td><td>Luanda</td><td>31825295</td><td>1246700</td><td>50</td><td>160</td><td>80</td><td>20</td><td>2023-07-19</td><td>Chhamanshu</td><td>2023-07-19T10:21:14.787+0000</td><td>2023</td><td>7</td><td>29</td><td>29-06-2023</td><td>2023-06-29</td><td>Large</td></tr><tr><td>7</td><td>Anguilla</td><td>Anguillan</td><td>AIA</td><td>AI</td><td>The Valley</td><td>14869</td><td>91</td><td>10</td><td>10</td><td>60</td><td>40</td><td>2023-07-19</td><td>Chhamanshu</td><td>2023-07-19T10:21:14.787+0000</td><td>2023</td><td>7</td><td>29</td><td>29-06-2023</td><td>2023-06-29</td><td>Not Large</td></tr><tr><td>8</td><td>Antarctica</td><td>Antarctic</td><td>ATA</td><td>AQ</td><td>McMurdo Station</td><td>1106</td><td>14200000</td><td>40</td><td>null</td><td>null</td><td>30</td><td>2023-07-19</td><td>Chhamanshu</td><td>2023-07-19T10:21:14.787+0000</td><td>2023</td><td>7</td><td>29</td><td>29-06-2023</td><td>2023-06-29</td><td>Not Large</td></tr><tr><td>9</td><td>Antigua and Barbuda</td><td>Antiguan or Barbudan</td><td>ATG</td><td>AG</td><td>St. John's</td><td>97118</td><td>442</td><td>10</td><td>10</td><td>60</td><td>40</td><td>2023-07-19</td><td>Chhamanshu</td><td>2023-07-19T10:21:14.787+0000</td><td>2023</td><td>7</td><td>29</td><td>29-06-2023</td><td>2023-06-29</td><td>Not Large</td></tr><tr><td>10</td><td>Argentina</td><td>Argentine</td><td>ARG</td><td>AR</td><td>Buenos Aires</td><td>44780677</td><td>2780400</td><td>10</td><td>10</td><td>40</td><td>40</td><td>2023-07-19</td><td>Chhamanshu</td><td>2023-07-19T10:21:14.787+0000</td><td>2023</td><td>7</td><td>29</td><td>29-06-2023</td><td>2023-06-29</td><td>Large</td></tr></tbody></table></div>"
      ]
     },
     "metadata": {
      "application/vnd.databricks.v1+output": {
       "addedWidgets": {},
       "aggData": [],
       "aggError": "",
       "aggOverflow": false,
       "aggSchema": [],
       "aggSeriesLimitReached": false,
       "aggType": "",
       "arguments": {},
       "columnCustomDisplayInfos": {},
       "data": [
        [
         "1",
         "Afghanistan",
         "Afghan",
         "AFG",
         "AF",
         "Kabul",
         "38041754",
         "652230",
         "30",
         "30",
         null,
         "30",
         "2023-07-19",
         "Chhamanshu",
         "2023-07-19T10:21:14.787+0000",
         2023,
         7,
         29,
         "29-06-2023",
         "2023-06-29",
         "Large"
        ],
        [
         "2",
         "Albania",
         "Albanian",
         "ALB",
         "AL",
         "Tirana",
         "2880917",
         "28748",
         "20",
         "70",
         null,
         "20",
         "2023-07-19",
         "Chhamanshu",
         "2023-07-19T10:21:14.787+0000",
         2023,
         7,
         29,
         "29-06-2023",
         "2023-06-29",
         "Large"
        ],
        [
         "3",
         "Algeria",
         "Algerian",
         "DZA",
         "DZ",
         "Algiers",
         "43053054",
         "2381741",
         "50",
         "40",
         null,
         "20",
         "2023-07-19",
         "Chhamanshu",
         "2023-07-19T10:21:14.787+0000",
         2023,
         7,
         29,
         "29-06-2023",
         "2023-06-29",
         "Large"
        ],
        [
         "4",
         "American Samoa",
         "American Samoan",
         "ASM",
         "AS",
         "Pago Pago",
         "55312",
         "199",
         "40",
         "20",
         null,
         "30",
         "2023-07-19",
         "Chhamanshu",
         "2023-07-19T10:21:14.787+0000",
         2023,
         7,
         29,
         "29-06-2023",
         "2023-06-29",
         "Not Large"
        ],
        [
         "5",
         "Andorra",
         "Andorran",
         "AND",
         "AD",
         "Andorra la Vella",
         "77142",
         "468",
         "20",
         "70",
         null,
         "20",
         "2023-07-19",
         "Chhamanshu",
         "2023-07-19T10:21:14.787+0000",
         2023,
         7,
         29,
         "29-06-2023",
         "2023-06-29",
         "Not Large"
        ],
        [
         "6",
         "Angola",
         "Angolan",
         "AGO",
         "AO",
         "Luanda",
         "31825295",
         "1246700",
         "50",
         "160",
         "80",
         "20",
         "2023-07-19",
         "Chhamanshu",
         "2023-07-19T10:21:14.787+0000",
         2023,
         7,
         29,
         "29-06-2023",
         "2023-06-29",
         "Large"
        ],
        [
         "7",
         "Anguilla",
         "Anguillan",
         "AIA",
         "AI",
         "The Valley",
         "14869",
         "91",
         "10",
         "10",
         "60",
         "40",
         "2023-07-19",
         "Chhamanshu",
         "2023-07-19T10:21:14.787+0000",
         2023,
         7,
         29,
         "29-06-2023",
         "2023-06-29",
         "Not Large"
        ],
        [
         "8",
         "Antarctica",
         "Antarctic",
         "ATA",
         "AQ",
         "McMurdo Station",
         "1106",
         "14200000",
         "40",
         null,
         null,
         "30",
         "2023-07-19",
         "Chhamanshu",
         "2023-07-19T10:21:14.787+0000",
         2023,
         7,
         29,
         "29-06-2023",
         "2023-06-29",
         "Not Large"
        ],
        [
         "9",
         "Antigua and Barbuda",
         "Antiguan or Barbudan",
         "ATG",
         "AG",
         "St. John's",
         "97118",
         "442",
         "10",
         "10",
         "60",
         "40",
         "2023-07-19",
         "Chhamanshu",
         "2023-07-19T10:21:14.787+0000",
         2023,
         7,
         29,
         "29-06-2023",
         "2023-06-29",
         "Not Large"
        ],
        [
         "10",
         "Argentina",
         "Argentine",
         "ARG",
         "AR",
         "Buenos Aires",
         "44780677",
         "2780400",
         "10",
         "10",
         "40",
         "40",
         "2023-07-19",
         "Chhamanshu",
         "2023-07-19T10:21:14.787+0000",
         2023,
         7,
         29,
         "29-06-2023",
         "2023-06-29",
         "Large"
        ]
       ],
       "datasetInfos": [],
       "dbfsResultPath": null,
       "isJsonSchema": true,
       "metadata": {},
       "overflow": false,
       "plotOptions": {
        "customPlotOptions": {},
        "displayType": "table",
        "pivotAggregation": null,
        "pivotColumns": null,
        "xColumns": null,
        "yColumns": null
       },
       "removedWidgets": [],
       "schema": [
        {
         "metadata": "{}",
         "name": "COUNTRY_ID",
         "type": "\"string\""
        },
        {
         "metadata": "{}",
         "name": "NAME",
         "type": "\"string\""
        },
        {
         "metadata": "{}",
         "name": "NATIONALITY",
         "type": "\"string\""
        },
        {
         "metadata": "{}",
         "name": "COUNTRY_CODE",
         "type": "\"string\""
        },
        {
         "metadata": "{}",
         "name": "ISO_ALPHA2",
         "type": "\"string\""
        },
        {
         "metadata": "{}",
         "name": "CAPITAL",
         "type": "\"string\""
        },
        {
         "metadata": "{}",
         "name": "POPULATION",
         "type": "\"string\""
        },
        {
         "metadata": "{}",
         "name": "AREA_KM2",
         "type": "\"string\""
        },
        {
         "metadata": "{}",
         "name": "REGION_ID",
         "type": "\"string\""
        },
        {
         "metadata": "{}",
         "name": "SUB_REGION_ID",
         "type": "\"string\""
        },
        {
         "metadata": "{}",
         "name": "INTERMEDIATE_REGION_ID",
         "type": "\"string\""
        },
        {
         "metadata": "{}",
         "name": "ORGANIZATION_REGION_ID",
         "type": "\"string\""
        },
        {
         "metadata": "{}",
         "name": "Current_date",
         "type": "\"date\""
        },
        {
         "metadata": "{}",
         "name": "Updated_by",
         "type": "\"string\""
        },
        {
         "metadata": "{}",
         "name": "Date_time",
         "type": "\"timestamp\""
        },
        {
         "metadata": "{}",
         "name": "Year",
         "type": "\"integer\""
        },
        {
         "metadata": "{}",
         "name": "Month",
         "type": "\"integer\""
        },
        {
         "metadata": "{}",
         "name": "Weekofyear",
         "type": "\"integer\""
        },
        {
         "metadata": "{}",
         "name": "date_litreal",
         "type": "\"string\""
        },
        {
         "metadata": "{}",
         "name": "Date",
         "type": "\"date\""
        },
        {
         "metadata": "{}",
         "name": "Customised_col",
         "type": "\"string\""
        }
       ],
       "type": "table"
      }
     },
     "output_type": "display_data"
    }
   ],
   "source": [
    "# if else logic using when condition\n",
    "df.withColumn('Customised_col', when(df['Population']>1000000, 'Large').otherwise('Not Large')).display()"
   ]
  },
  {
   "cell_type": "code",
   "execution_count": 0,
   "metadata": {
    "application/vnd.databricks.v1+cell": {
     "cellMetadata": {
      "byteLimit": 2048000,
      "rowLimit": 10000
     },
     "inputWidgets": {},
     "nuid": "43daaef0-16d1-4bb9-9233-d02d9ffa08a1",
     "showTitle": false,
     "title": ""
    }
   },
   "outputs": [
    {
     "output_type": "display_data",
     "data": {
      "text/html": [
       "<style scoped>\n",
       "  .table-result-container {\n",
       "    max-height: 300px;\n",
       "    overflow: auto;\n",
       "  }\n",
       "  table, th, td {\n",
       "    border: 1px solid black;\n",
       "    border-collapse: collapse;\n",
       "  }\n",
       "  th, td {\n",
       "    padding: 5px;\n",
       "  }\n",
       "  th {\n",
       "    text-align: left;\n",
       "  }\n",
       "</style><div class='table-result-container'><table class='table-result'><thead style='background-color: white'><tr><th>Tirm</th></tr></thead><tbody><tr><td>Af</td></tr><tr><td>Al</td></tr><tr><td>Al</td></tr><tr><td>Am</td></tr><tr><td>An</td></tr><tr><td>An</td></tr><tr><td>An</td></tr><tr><td>An</td></tr><tr><td>An</td></tr><tr><td>Ar</td></tr></tbody></table></div>"
      ]
     },
     "metadata": {
      "application/vnd.databricks.v1+output": {
       "addedWidgets": {},
       "aggData": [],
       "aggError": "",
       "aggOverflow": false,
       "aggSchema": [],
       "aggSeriesLimitReached": false,
       "aggType": "",
       "arguments": {},
       "columnCustomDisplayInfos": {},
       "data": [
        [
         "Af"
        ],
        [
         "Al"
        ],
        [
         "Al"
        ],
        [
         "Am"
        ],
        [
         "An"
        ],
        [
         "An"
        ],
        [
         "An"
        ],
        [
         "An"
        ],
        [
         "An"
        ],
        [
         "Ar"
        ]
       ],
       "datasetInfos": [],
       "dbfsResultPath": null,
       "isJsonSchema": true,
       "metadata": {},
       "overflow": false,
       "plotOptions": {
        "customPlotOptions": {},
        "displayType": "table",
        "pivotAggregation": null,
        "pivotColumns": null,
        "xColumns": null,
        "yColumns": null
       },
       "removedWidgets": [],
       "schema": [
        {
         "metadata": "{}",
         "name": "Tirm",
         "type": "\"string\""
        }
       ],
       "type": "table"
      }
     },
     "output_type": "display_data"
    }
   ],
   "source": [
    "# Trimming the field Name \n",
    "df.select(expr('left(Name,2) as Tirm')).display()"
   ]
  },
  {
   "cell_type": "code",
   "execution_count": 0,
   "metadata": {
    "application/vnd.databricks.v1+cell": {
     "cellMetadata": {
      "byteLimit": 2048000,
      "rowLimit": 10000
     },
     "inputWidgets": {},
     "nuid": "cc31c8e8-c500-4d1f-b157-875fa13752ab",
     "showTitle": false,
     "title": ""
    }
   },
   "outputs": [
    {
     "output_type": "display_data",
     "data": {
      "text/html": [
       "<style scoped>\n",
       "  .table-result-container {\n",
       "    max-height: 300px;\n",
       "    overflow: auto;\n",
       "  }\n",
       "  table, th, td {\n",
       "    border: 1px solid black;\n",
       "    border-collapse: collapse;\n",
       "  }\n",
       "  th, td {\n",
       "    padding: 5px;\n",
       "  }\n",
       "  th {\n",
       "    text-align: left;\n",
       "  }\n",
       "</style><div class='table-result-container'><table class='table-result'><thead style='background-color: white'><tr><th>COUNTRY_ID</th><th>NAME</th><th>NATIONALITY</th><th>COUNTRY_CODE</th><th>ISO_ALPHA2</th><th>CAPITAL</th><th>POPULATION</th><th>AREA_KM2</th><th>REGION_ID</th><th>SUB_REGION_ID</th><th>INTERMEDIATE_REGION_ID</th><th>ORGANIZATION_REGION_ID</th><th>Current_date</th><th>Updated_by</th><th>Date_time</th><th>Year</th><th>Month</th><th>Weekofyear</th><th>date_litreal</th><th>Date</th><th>Customized_Col</th></tr></thead><tbody><tr><td>1</td><td>Afghanistan</td><td>Afghan</td><td>AFG</td><td>AF</td><td>Kabul</td><td>38041754</td><td>652230</td><td>30</td><td>30</td><td>null</td><td>30</td><td>2023-07-19</td><td>Chhamanshu</td><td>2023-07-19T10:21:15.494+0000</td><td>2023</td><td>7</td><td>29</td><td>29-06-2023</td><td>2023-06-29</td><td>samll</td></tr><tr><td>2</td><td>Albania</td><td>Albanian</td><td>ALB</td><td>AL</td><td>Tirana</td><td>2880917</td><td>28748</td><td>20</td><td>70</td><td>null</td><td>20</td><td>2023-07-19</td><td>Chhamanshu</td><td>2023-07-19T10:21:15.494+0000</td><td>2023</td><td>7</td><td>29</td><td>29-06-2023</td><td>2023-06-29</td><td>samll</td></tr><tr><td>3</td><td>Algeria</td><td>Algerian</td><td>DZA</td><td>DZ</td><td>Algiers</td><td>43053054</td><td>2381741</td><td>50</td><td>40</td><td>null</td><td>20</td><td>2023-07-19</td><td>Chhamanshu</td><td>2023-07-19T10:21:15.494+0000</td><td>2023</td><td>7</td><td>29</td><td>29-06-2023</td><td>2023-06-29</td><td>samll</td></tr><tr><td>4</td><td>American Samoa</td><td>American Samoan</td><td>ASM</td><td>AS</td><td>Pago Pago</td><td>55312</td><td>199</td><td>40</td><td>20</td><td>null</td><td>30</td><td>2023-07-19</td><td>Chhamanshu</td><td>2023-07-19T10:21:15.494+0000</td><td>2023</td><td>7</td><td>29</td><td>29-06-2023</td><td>2023-06-29</td><td>very large</td></tr><tr><td>5</td><td>Andorra</td><td>Andorran</td><td>AND</td><td>AD</td><td>Andorra la Vella</td><td>77142</td><td>468</td><td>20</td><td>70</td><td>null</td><td>20</td><td>2023-07-19</td><td>Chhamanshu</td><td>2023-07-19T10:21:15.494+0000</td><td>2023</td><td>7</td><td>29</td><td>29-06-2023</td><td>2023-06-29</td><td>very large</td></tr><tr><td>6</td><td>Angola</td><td>Angolan</td><td>AGO</td><td>AO</td><td>Luanda</td><td>31825295</td><td>1246700</td><td>50</td><td>160</td><td>80</td><td>20</td><td>2023-07-19</td><td>Chhamanshu</td><td>2023-07-19T10:21:15.494+0000</td><td>2023</td><td>7</td><td>29</td><td>29-06-2023</td><td>2023-06-29</td><td>samll</td></tr><tr><td>7</td><td>Anguilla</td><td>Anguillan</td><td>AIA</td><td>AI</td><td>The Valley</td><td>14869</td><td>91</td><td>10</td><td>10</td><td>60</td><td>40</td><td>2023-07-19</td><td>Chhamanshu</td><td>2023-07-19T10:21:15.494+0000</td><td>2023</td><td>7</td><td>29</td><td>29-06-2023</td><td>2023-06-29</td><td>very large</td></tr><tr><td>8</td><td>Antarctica</td><td>Antarctic</td><td>ATA</td><td>AQ</td><td>McMurdo Station</td><td>1106</td><td>14200000</td><td>40</td><td>null</td><td>null</td><td>30</td><td>2023-07-19</td><td>Chhamanshu</td><td>2023-07-19T10:21:15.494+0000</td><td>2023</td><td>7</td><td>29</td><td>29-06-2023</td><td>2023-06-29</td><td>very large</td></tr><tr><td>9</td><td>Antigua and Barbuda</td><td>Antiguan or Barbudan</td><td>ATG</td><td>AG</td><td>St. John's</td><td>97118</td><td>442</td><td>10</td><td>10</td><td>60</td><td>40</td><td>2023-07-19</td><td>Chhamanshu</td><td>2023-07-19T10:21:15.494+0000</td><td>2023</td><td>7</td><td>29</td><td>29-06-2023</td><td>2023-06-29</td><td>very large</td></tr><tr><td>10</td><td>Argentina</td><td>Argentine</td><td>ARG</td><td>AR</td><td>Buenos Aires</td><td>44780677</td><td>2780400</td><td>10</td><td>10</td><td>40</td><td>40</td><td>2023-07-19</td><td>Chhamanshu</td><td>2023-07-19T10:21:15.494+0000</td><td>2023</td><td>7</td><td>29</td><td>29-06-2023</td><td>2023-06-29</td><td>samll</td></tr></tbody></table></div>"
      ]
     },
     "metadata": {
      "application/vnd.databricks.v1+output": {
       "addedWidgets": {},
       "aggData": [],
       "aggError": "",
       "aggOverflow": false,
       "aggSchema": [],
       "aggSeriesLimitReached": false,
       "aggType": "",
       "arguments": {},
       "columnCustomDisplayInfos": {},
       "data": [
        [
         "1",
         "Afghanistan",
         "Afghan",
         "AFG",
         "AF",
         "Kabul",
         "38041754",
         "652230",
         "30",
         "30",
         null,
         "30",
         "2023-07-19",
         "Chhamanshu",
         "2023-07-19T10:21:15.494+0000",
         2023,
         7,
         29,
         "29-06-2023",
         "2023-06-29",
         "samll"
        ],
        [
         "2",
         "Albania",
         "Albanian",
         "ALB",
         "AL",
         "Tirana",
         "2880917",
         "28748",
         "20",
         "70",
         null,
         "20",
         "2023-07-19",
         "Chhamanshu",
         "2023-07-19T10:21:15.494+0000",
         2023,
         7,
         29,
         "29-06-2023",
         "2023-06-29",
         "samll"
        ],
        [
         "3",
         "Algeria",
         "Algerian",
         "DZA",
         "DZ",
         "Algiers",
         "43053054",
         "2381741",
         "50",
         "40",
         null,
         "20",
         "2023-07-19",
         "Chhamanshu",
         "2023-07-19T10:21:15.494+0000",
         2023,
         7,
         29,
         "29-06-2023",
         "2023-06-29",
         "samll"
        ],
        [
         "4",
         "American Samoa",
         "American Samoan",
         "ASM",
         "AS",
         "Pago Pago",
         "55312",
         "199",
         "40",
         "20",
         null,
         "30",
         "2023-07-19",
         "Chhamanshu",
         "2023-07-19T10:21:15.494+0000",
         2023,
         7,
         29,
         "29-06-2023",
         "2023-06-29",
         "very large"
        ],
        [
         "5",
         "Andorra",
         "Andorran",
         "AND",
         "AD",
         "Andorra la Vella",
         "77142",
         "468",
         "20",
         "70",
         null,
         "20",
         "2023-07-19",
         "Chhamanshu",
         "2023-07-19T10:21:15.494+0000",
         2023,
         7,
         29,
         "29-06-2023",
         "2023-06-29",
         "very large"
        ],
        [
         "6",
         "Angola",
         "Angolan",
         "AGO",
         "AO",
         "Luanda",
         "31825295",
         "1246700",
         "50",
         "160",
         "80",
         "20",
         "2023-07-19",
         "Chhamanshu",
         "2023-07-19T10:21:15.494+0000",
         2023,
         7,
         29,
         "29-06-2023",
         "2023-06-29",
         "samll"
        ],
        [
         "7",
         "Anguilla",
         "Anguillan",
         "AIA",
         "AI",
         "The Valley",
         "14869",
         "91",
         "10",
         "10",
         "60",
         "40",
         "2023-07-19",
         "Chhamanshu",
         "2023-07-19T10:21:15.494+0000",
         2023,
         7,
         29,
         "29-06-2023",
         "2023-06-29",
         "very large"
        ],
        [
         "8",
         "Antarctica",
         "Antarctic",
         "ATA",
         "AQ",
         "McMurdo Station",
         "1106",
         "14200000",
         "40",
         null,
         null,
         "30",
         "2023-07-19",
         "Chhamanshu",
         "2023-07-19T10:21:15.494+0000",
         2023,
         7,
         29,
         "29-06-2023",
         "2023-06-29",
         "very large"
        ],
        [
         "9",
         "Antigua and Barbuda",
         "Antiguan or Barbudan",
         "ATG",
         "AG",
         "St. John's",
         "97118",
         "442",
         "10",
         "10",
         "60",
         "40",
         "2023-07-19",
         "Chhamanshu",
         "2023-07-19T10:21:15.494+0000",
         2023,
         7,
         29,
         "29-06-2023",
         "2023-06-29",
         "very large"
        ],
        [
         "10",
         "Argentina",
         "Argentine",
         "ARG",
         "AR",
         "Buenos Aires",
         "44780677",
         "2780400",
         "10",
         "10",
         "40",
         "40",
         "2023-07-19",
         "Chhamanshu",
         "2023-07-19T10:21:15.494+0000",
         2023,
         7,
         29,
         "29-06-2023",
         "2023-06-29",
         "samll"
        ]
       ],
       "datasetInfos": [],
       "dbfsResultPath": null,
       "isJsonSchema": true,
       "metadata": {},
       "overflow": false,
       "plotOptions": {
        "customPlotOptions": {},
        "displayType": "table",
        "pivotAggregation": null,
        "pivotColumns": null,
        "xColumns": null,
        "yColumns": null
       },
       "removedWidgets": [],
       "schema": [
        {
         "metadata": "{}",
         "name": "COUNTRY_ID",
         "type": "\"string\""
        },
        {
         "metadata": "{}",
         "name": "NAME",
         "type": "\"string\""
        },
        {
         "metadata": "{}",
         "name": "NATIONALITY",
         "type": "\"string\""
        },
        {
         "metadata": "{}",
         "name": "COUNTRY_CODE",
         "type": "\"string\""
        },
        {
         "metadata": "{}",
         "name": "ISO_ALPHA2",
         "type": "\"string\""
        },
        {
         "metadata": "{}",
         "name": "CAPITAL",
         "type": "\"string\""
        },
        {
         "metadata": "{}",
         "name": "POPULATION",
         "type": "\"string\""
        },
        {
         "metadata": "{}",
         "name": "AREA_KM2",
         "type": "\"string\""
        },
        {
         "metadata": "{}",
         "name": "REGION_ID",
         "type": "\"string\""
        },
        {
         "metadata": "{}",
         "name": "SUB_REGION_ID",
         "type": "\"string\""
        },
        {
         "metadata": "{}",
         "name": "INTERMEDIATE_REGION_ID",
         "type": "\"string\""
        },
        {
         "metadata": "{}",
         "name": "ORGANIZATION_REGION_ID",
         "type": "\"string\""
        },
        {
         "metadata": "{}",
         "name": "Current_date",
         "type": "\"date\""
        },
        {
         "metadata": "{}",
         "name": "Updated_by",
         "type": "\"string\""
        },
        {
         "metadata": "{}",
         "name": "Date_time",
         "type": "\"timestamp\""
        },
        {
         "metadata": "{}",
         "name": "Year",
         "type": "\"integer\""
        },
        {
         "metadata": "{}",
         "name": "Month",
         "type": "\"integer\""
        },
        {
         "metadata": "{}",
         "name": "Weekofyear",
         "type": "\"integer\""
        },
        {
         "metadata": "{}",
         "name": "date_litreal",
         "type": "\"string\""
        },
        {
         "metadata": "{}",
         "name": "Date",
         "type": "\"date\""
        },
        {
         "metadata": "{}",
         "name": "Customized_Col",
         "type": "\"string\""
        }
       ],
       "type": "table"
      }
     },
     "output_type": "display_data"
    }
   ],
   "source": [
    "#Case function in Pyspark\n",
    "df.withColumn('Customized_Col', expr(\"case when population>100000 then 'samll' when population>1000000 then 'medium' else 'very large' end \")).display() "
   ]
  },
  {
   "cell_type": "code",
   "execution_count": 0,
   "metadata": {
    "application/vnd.databricks.v1+cell": {
     "cellMetadata": {
      "byteLimit": 2048000,
      "rowLimit": 10000
     },
     "inputWidgets": {},
     "nuid": "e0607ab0-5a27-44a8-828e-f6d16a80b00c",
     "showTitle": false,
     "title": ""
    }
   },
   "outputs": [
    {
     "output_type": "display_data",
     "data": {
      "text/html": [
       "<style scoped>\n",
       "  .table-result-container {\n",
       "    max-height: 300px;\n",
       "    overflow: auto;\n",
       "  }\n",
       "  table, th, td {\n",
       "    border: 1px solid black;\n",
       "    border-collapse: collapse;\n",
       "  }\n",
       "  th, td {\n",
       "    padding: 5px;\n",
       "  }\n",
       "  th {\n",
       "    text-align: left;\n",
       "  }\n",
       "</style><div class='table-result-container'><table class='table-result'><thead style='background-color: white'><tr><th>COUNTRY_ID</th><th>NAME</th><th>NATIONALITY</th><th>COUNTRY_CODE</th><th>ISO_ALPHA2</th><th>CAPITAL</th><th>POPULATION</th><th>AREA_KM2</th><th>REGION_ID</th><th>SUB_REGION_ID</th><th>INTERMEDIATE_REGION_ID</th><th>ORGANIZATION_REGION_ID</th><th>Current_date</th><th>Updated_by</th><th>Date_time</th><th>Year</th><th>Month</th><th>Weekofyear</th><th>date_litreal</th></tr></thead><tbody><tr><td>1</td><td>Afghanistan</td><td>Afghan</td><td>AFG</td><td>AF</td><td>Kabul</td><td>38041754</td><td>652230</td><td>30</td><td>30</td><td>null</td><td>30</td><td>2023-07-19</td><td>Chhamanshu</td><td>2023-07-19T10:21:15.687+0000</td><td>2023</td><td>7</td><td>29</td><td>29-06-2023</td></tr><tr><td>2</td><td>Albania</td><td>Albanian</td><td>ALB</td><td>AL</td><td>Tirana</td><td>2880917</td><td>28748</td><td>20</td><td>70</td><td>null</td><td>20</td><td>2023-07-19</td><td>Chhamanshu</td><td>2023-07-19T10:21:15.687+0000</td><td>2023</td><td>7</td><td>29</td><td>29-06-2023</td></tr><tr><td>3</td><td>Algeria</td><td>Algerian</td><td>DZA</td><td>DZ</td><td>Algiers</td><td>43053054</td><td>2381741</td><td>50</td><td>40</td><td>null</td><td>20</td><td>2023-07-19</td><td>Chhamanshu</td><td>2023-07-19T10:21:15.687+0000</td><td>2023</td><td>7</td><td>29</td><td>29-06-2023</td></tr><tr><td>4</td><td>American Samoa</td><td>American Samoan</td><td>ASM</td><td>AS</td><td>Pago Pago</td><td>55312</td><td>199</td><td>40</td><td>20</td><td>null</td><td>30</td><td>2023-07-19</td><td>Chhamanshu</td><td>2023-07-19T10:21:15.687+0000</td><td>2023</td><td>7</td><td>29</td><td>29-06-2023</td></tr><tr><td>5</td><td>Andorra</td><td>Andorran</td><td>AND</td><td>AD</td><td>Andorra la Vella</td><td>77142</td><td>468</td><td>20</td><td>70</td><td>null</td><td>20</td><td>2023-07-19</td><td>Chhamanshu</td><td>2023-07-19T10:21:15.687+0000</td><td>2023</td><td>7</td><td>29</td><td>29-06-2023</td></tr><tr><td>6</td><td>Angola</td><td>Angolan</td><td>AGO</td><td>AO</td><td>Luanda</td><td>31825295</td><td>1246700</td><td>50</td><td>160</td><td>80</td><td>20</td><td>2023-07-19</td><td>Chhamanshu</td><td>2023-07-19T10:21:15.687+0000</td><td>2023</td><td>7</td><td>29</td><td>29-06-2023</td></tr><tr><td>7</td><td>Anguilla</td><td>Anguillan</td><td>AIA</td><td>AI</td><td>The Valley</td><td>14869</td><td>91</td><td>10</td><td>10</td><td>60</td><td>40</td><td>2023-07-19</td><td>Chhamanshu</td><td>2023-07-19T10:21:15.687+0000</td><td>2023</td><td>7</td><td>29</td><td>29-06-2023</td></tr><tr><td>8</td><td>Antarctica</td><td>Antarctic</td><td>ATA</td><td>AQ</td><td>McMurdo Station</td><td>1106</td><td>14200000</td><td>40</td><td>null</td><td>null</td><td>30</td><td>2023-07-19</td><td>Chhamanshu</td><td>2023-07-19T10:21:15.687+0000</td><td>2023</td><td>7</td><td>29</td><td>29-06-2023</td></tr><tr><td>9</td><td>Antigua and Barbuda</td><td>Antiguan or Barbudan</td><td>ATG</td><td>AG</td><td>St. John's</td><td>97118</td><td>442</td><td>10</td><td>10</td><td>60</td><td>40</td><td>2023-07-19</td><td>Chhamanshu</td><td>2023-07-19T10:21:15.687+0000</td><td>2023</td><td>7</td><td>29</td><td>29-06-2023</td></tr><tr><td>10</td><td>Argentina</td><td>Argentine</td><td>ARG</td><td>AR</td><td>Buenos Aires</td><td>44780677</td><td>2780400</td><td>10</td><td>10</td><td>40</td><td>40</td><td>2023-07-19</td><td>Chhamanshu</td><td>2023-07-19T10:21:15.687+0000</td><td>2023</td><td>7</td><td>29</td><td>29-06-2023</td></tr></tbody></table></div>"
      ]
     },
     "metadata": {
      "application/vnd.databricks.v1+output": {
       "addedWidgets": {},
       "aggData": [],
       "aggError": "",
       "aggOverflow": false,
       "aggSchema": [],
       "aggSeriesLimitReached": false,
       "aggType": "",
       "arguments": {},
       "columnCustomDisplayInfos": {},
       "data": [
        [
         "1",
         "Afghanistan",
         "Afghan",
         "AFG",
         "AF",
         "Kabul",
         "38041754",
         "652230",
         "30",
         "30",
         null,
         "30",
         "2023-07-19",
         "Chhamanshu",
         "2023-07-19T10:21:15.687+0000",
         2023,
         7,
         29,
         "29-06-2023"
        ],
        [
         "2",
         "Albania",
         "Albanian",
         "ALB",
         "AL",
         "Tirana",
         "2880917",
         "28748",
         "20",
         "70",
         null,
         "20",
         "2023-07-19",
         "Chhamanshu",
         "2023-07-19T10:21:15.687+0000",
         2023,
         7,
         29,
         "29-06-2023"
        ],
        [
         "3",
         "Algeria",
         "Algerian",
         "DZA",
         "DZ",
         "Algiers",
         "43053054",
         "2381741",
         "50",
         "40",
         null,
         "20",
         "2023-07-19",
         "Chhamanshu",
         "2023-07-19T10:21:15.687+0000",
         2023,
         7,
         29,
         "29-06-2023"
        ],
        [
         "4",
         "American Samoa",
         "American Samoan",
         "ASM",
         "AS",
         "Pago Pago",
         "55312",
         "199",
         "40",
         "20",
         null,
         "30",
         "2023-07-19",
         "Chhamanshu",
         "2023-07-19T10:21:15.687+0000",
         2023,
         7,
         29,
         "29-06-2023"
        ],
        [
         "5",
         "Andorra",
         "Andorran",
         "AND",
         "AD",
         "Andorra la Vella",
         "77142",
         "468",
         "20",
         "70",
         null,
         "20",
         "2023-07-19",
         "Chhamanshu",
         "2023-07-19T10:21:15.687+0000",
         2023,
         7,
         29,
         "29-06-2023"
        ],
        [
         "6",
         "Angola",
         "Angolan",
         "AGO",
         "AO",
         "Luanda",
         "31825295",
         "1246700",
         "50",
         "160",
         "80",
         "20",
         "2023-07-19",
         "Chhamanshu",
         "2023-07-19T10:21:15.687+0000",
         2023,
         7,
         29,
         "29-06-2023"
        ],
        [
         "7",
         "Anguilla",
         "Anguillan",
         "AIA",
         "AI",
         "The Valley",
         "14869",
         "91",
         "10",
         "10",
         "60",
         "40",
         "2023-07-19",
         "Chhamanshu",
         "2023-07-19T10:21:15.687+0000",
         2023,
         7,
         29,
         "29-06-2023"
        ],
        [
         "8",
         "Antarctica",
         "Antarctic",
         "ATA",
         "AQ",
         "McMurdo Station",
         "1106",
         "14200000",
         "40",
         null,
         null,
         "30",
         "2023-07-19",
         "Chhamanshu",
         "2023-07-19T10:21:15.687+0000",
         2023,
         7,
         29,
         "29-06-2023"
        ],
        [
         "9",
         "Antigua and Barbuda",
         "Antiguan or Barbudan",
         "ATG",
         "AG",
         "St. John's",
         "97118",
         "442",
         "10",
         "10",
         "60",
         "40",
         "2023-07-19",
         "Chhamanshu",
         "2023-07-19T10:21:15.687+0000",
         2023,
         7,
         29,
         "29-06-2023"
        ],
        [
         "10",
         "Argentina",
         "Argentine",
         "ARG",
         "AR",
         "Buenos Aires",
         "44780677",
         "2780400",
         "10",
         "10",
         "40",
         "40",
         "2023-07-19",
         "Chhamanshu",
         "2023-07-19T10:21:15.687+0000",
         2023,
         7,
         29,
         "29-06-2023"
        ]
       ],
       "datasetInfos": [],
       "dbfsResultPath": null,
       "isJsonSchema": true,
       "metadata": {},
       "overflow": false,
       "plotOptions": {
        "customPlotOptions": {},
        "displayType": "table",
        "pivotAggregation": null,
        "pivotColumns": null,
        "xColumns": null,
        "yColumns": null
       },
       "removedWidgets": [],
       "schema": [
        {
         "metadata": "{}",
         "name": "COUNTRY_ID",
         "type": "\"string\""
        },
        {
         "metadata": "{}",
         "name": "NAME",
         "type": "\"string\""
        },
        {
         "metadata": "{}",
         "name": "NATIONALITY",
         "type": "\"string\""
        },
        {
         "metadata": "{}",
         "name": "COUNTRY_CODE",
         "type": "\"string\""
        },
        {
         "metadata": "{}",
         "name": "ISO_ALPHA2",
         "type": "\"string\""
        },
        {
         "metadata": "{}",
         "name": "CAPITAL",
         "type": "\"string\""
        },
        {
         "metadata": "{}",
         "name": "POPULATION",
         "type": "\"string\""
        },
        {
         "metadata": "{}",
         "name": "AREA_KM2",
         "type": "\"string\""
        },
        {
         "metadata": "{}",
         "name": "REGION_ID",
         "type": "\"string\""
        },
        {
         "metadata": "{}",
         "name": "SUB_REGION_ID",
         "type": "\"string\""
        },
        {
         "metadata": "{}",
         "name": "INTERMEDIATE_REGION_ID",
         "type": "\"string\""
        },
        {
         "metadata": "{}",
         "name": "ORGANIZATION_REGION_ID",
         "type": "\"string\""
        },
        {
         "metadata": "{}",
         "name": "Current_date",
         "type": "\"date\""
        },
        {
         "metadata": "{}",
         "name": "Updated_by",
         "type": "\"string\""
        },
        {
         "metadata": "{}",
         "name": "Date_time",
         "type": "\"timestamp\""
        },
        {
         "metadata": "{}",
         "name": "Year",
         "type": "\"integer\""
        },
        {
         "metadata": "{}",
         "name": "Month",
         "type": "\"integer\""
        },
        {
         "metadata": "{}",
         "name": "Weekofyear",
         "type": "\"integer\""
        },
        {
         "metadata": "{}",
         "name": "date_litreal",
         "type": "\"string\""
        }
       ],
       "type": "table"
      }
     },
     "output_type": "display_data"
    }
   ],
   "source": [
    "# Dropping the column \n",
    "df.drop('Date').display()"
   ]
  },
  {
   "cell_type": "code",
   "execution_count": 0,
   "metadata": {
    "application/vnd.databricks.v1+cell": {
     "cellMetadata": {
      "byteLimit": 2048000,
      "rowLimit": 10000
     },
     "inputWidgets": {},
     "nuid": "6be5759b-b21b-4faf-9e7d-1f5293b17acb",
     "showTitle": false,
     "title": ""
    }
   },
   "outputs": [],
   "source": [
    "#Changing the datatype using cast method\n",
    "df1=df.withColumn('POPULATION',col('POPULATION').cast(DoubleType()))"
   ]
  },
  {
   "cell_type": "code",
   "execution_count": 0,
   "metadata": {
    "application/vnd.databricks.v1+cell": {
     "cellMetadata": {
      "byteLimit": 2048000,
      "rowLimit": 10000
     },
     "inputWidgets": {},
     "nuid": "c9651bad-108e-4fb6-b5ea-b298d24a4cc1",
     "showTitle": false,
     "title": ""
    }
   },
   "outputs": [
    {
     "output_type": "stream",
     "name": "stdout",
     "output_type": "stream",
     "text": [
      "Out[145]: [('COUNTRY_ID', 'string'),\n ('NAME', 'string'),\n ('NATIONALITY', 'string'),\n ('COUNTRY_CODE', 'string'),\n ('ISO_ALPHA2', 'string'),\n ('CAPITAL', 'string'),\n ('POPULATION', 'double'),\n ('AREA_KM2', 'string'),\n ('REGION_ID', 'string'),\n ('SUB_REGION_ID', 'string'),\n ('INTERMEDIATE_REGION_ID', 'string'),\n ('ORGANIZATION_REGION_ID', 'string'),\n ('Current_date', 'date'),\n ('Updated_by', 'string'),\n ('Date_time', 'timestamp'),\n ('Year', 'int'),\n ('Month', 'int'),\n ('Weekofyear', 'int'),\n ('date_litreal', 'string'),\n ('Date', 'date')]"
     ]
    }
   ],
   "source": [
    "df1.dtypes"
   ]
  },
  {
   "cell_type": "code",
   "execution_count": 0,
   "metadata": {
    "application/vnd.databricks.v1+cell": {
     "cellMetadata": {
      "byteLimit": 2048000,
      "rowLimit": 10000
     },
     "inputWidgets": {},
     "nuid": "ce9d1e24-6471-4bee-ae59-f3ad60003bb2",
     "showTitle": false,
     "title": ""
    }
   },
   "outputs": [
    {
     "output_type": "display_data",
     "data": {
      "text/html": [
       "<style scoped>\n",
       "  .table-result-container {\n",
       "    max-height: 300px;\n",
       "    overflow: auto;\n",
       "  }\n",
       "  table, th, td {\n",
       "    border: 1px solid black;\n",
       "    border-collapse: collapse;\n",
       "  }\n",
       "  th, td {\n",
       "    padding: 5px;\n",
       "  }\n",
       "  th {\n",
       "    text-align: left;\n",
       "  }\n",
       "</style><div class='table-result-container'><table class='table-result'><thead style='background-color: white'><tr><th>Region_id</th><th>sum(POPULATION)</th></tr></thead><tbody><tr><td>30</td><td>3.8041754E7</td></tr><tr><td>40</td><td>56418.0</td></tr><tr><td>20</td><td>2958059.0</td></tr><tr><td>10</td><td>4.4892664E7</td></tr><tr><td>50</td><td>7.4878349E7</td></tr></tbody></table></div>"
      ]
     },
     "metadata": {
      "application/vnd.databricks.v1+output": {
       "addedWidgets": {},
       "aggData": [],
       "aggError": "",
       "aggOverflow": false,
       "aggSchema": [],
       "aggSeriesLimitReached": false,
       "aggType": "",
       "arguments": {},
       "columnCustomDisplayInfos": {},
       "data": [
        [
         "30",
         3.8041754E7
        ],
        [
         "40",
         56418.0
        ],
        [
         "20",
         2958059.0
        ],
        [
         "10",
         4.4892664E7
        ],
        [
         "50",
         7.4878349E7
        ]
       ],
       "datasetInfos": [],
       "dbfsResultPath": null,
       "isJsonSchema": true,
       "metadata": {},
       "overflow": false,
       "plotOptions": {
        "customPlotOptions": {},
        "displayType": "table",
        "pivotAggregation": null,
        "pivotColumns": null,
        "xColumns": null,
        "yColumns": null
       },
       "removedWidgets": [],
       "schema": [
        {
         "metadata": "{}",
         "name": "Region_id",
         "type": "\"string\""
        },
        {
         "metadata": "{}",
         "name": "sum(POPULATION)",
         "type": "\"double\""
        }
       ],
       "type": "table"
      }
     },
     "output_type": "display_data"
    }
   ],
   "source": [
    "#groupBy in Pyspark\n",
    "df1.groupBy('Region_id').sum('POPULATION').display()"
   ]
  },
  {
   "cell_type": "code",
   "execution_count": 0,
   "metadata": {
    "application/vnd.databricks.v1+cell": {
     "cellMetadata": {
      "byteLimit": 2048000,
      "rowLimit": 10000
     },
     "inputWidgets": {},
     "nuid": "13051835-4939-4a59-871c-02b36e4b7b49",
     "showTitle": false,
     "title": ""
    }
   },
   "outputs": [
    {
     "output_type": "display_data",
     "data": {
      "text/html": [
       "<style scoped>\n",
       "  .table-result-container {\n",
       "    max-height: 300px;\n",
       "    overflow: auto;\n",
       "  }\n",
       "  table, th, td {\n",
       "    border: 1px solid black;\n",
       "    border-collapse: collapse;\n",
       "  }\n",
       "  th, td {\n",
       "    padding: 5px;\n",
       "  }\n",
       "  th {\n",
       "    text-align: left;\n",
       "  }\n",
       "</style><div class='table-result-container'><table class='table-result'><thead style='background-color: white'><tr><th>Region_id</th><th>sum(Population)</th><th>avg(Area_km2)</th></tr></thead><tbody><tr><td>30</td><td>3.8041754E7</td><td>652230.0</td></tr><tr><td>40</td><td>56418.0</td><td>7100099.5</td></tr><tr><td>20</td><td>2958059.0</td><td>14608.0</td></tr><tr><td>10</td><td>4.4892664E7</td><td>926977.6666666666</td></tr><tr><td>50</td><td>7.4878349E7</td><td>1814220.5</td></tr></tbody></table></div>"
      ]
     },
     "metadata": {
      "application/vnd.databricks.v1+output": {
       "addedWidgets": {},
       "aggData": [],
       "aggError": "",
       "aggOverflow": false,
       "aggSchema": [],
       "aggSeriesLimitReached": false,
       "aggType": "",
       "arguments": {},
       "columnCustomDisplayInfos": {},
       "data": [
        [
         "30",
         3.8041754E7,
         652230.0
        ],
        [
         "40",
         56418.0,
         7100099.5
        ],
        [
         "20",
         2958059.0,
         14608.0
        ],
        [
         "10",
         4.4892664E7,
         926977.6666666666
        ],
        [
         "50",
         7.4878349E7,
         1814220.5
        ]
       ],
       "datasetInfos": [],
       "dbfsResultPath": null,
       "isJsonSchema": true,
       "metadata": {},
       "overflow": false,
       "plotOptions": {
        "customPlotOptions": {},
        "displayType": "table",
        "pivotAggregation": null,
        "pivotColumns": null,
        "xColumns": null,
        "yColumns": null
       },
       "removedWidgets": [],
       "schema": [
        {
         "metadata": "{}",
         "name": "Region_id",
         "type": "\"string\""
        },
        {
         "metadata": "{}",
         "name": "sum(Population)",
         "type": "\"double\""
        },
        {
         "metadata": "{}",
         "name": "avg(Area_km2)",
         "type": "\"double\""
        }
       ],
       "type": "table"
      }
     },
     "output_type": "display_data"
    }
   ],
   "source": [
    "# groupBy using multiple field aggregation\n",
    "df1.groupBy('Region_id').agg(sum('Population'), avg('Area_km2')).display()"
   ]
  },
  {
   "cell_type": "code",
   "execution_count": 0,
   "metadata": {
    "application/vnd.databricks.v1+cell": {
     "cellMetadata": {
      "byteLimit": 2048000,
      "rowLimit": 10000
     },
     "inputWidgets": {},
     "nuid": "a92c5297-e1b3-4323-8328-8cd0ae1e4999",
     "showTitle": false,
     "title": ""
    }
   },
   "outputs": [
    {
     "output_type": "display_data",
     "data": {
      "text/html": [
       "<style scoped>\n",
       "  .table-result-container {\n",
       "    max-height: 300px;\n",
       "    overflow: auto;\n",
       "  }\n",
       "  table, th, td {\n",
       "    border: 1px solid black;\n",
       "    border-collapse: collapse;\n",
       "  }\n",
       "  th, td {\n",
       "    padding: 5px;\n",
       "  }\n",
       "  th {\n",
       "    text-align: left;\n",
       "  }\n",
       "</style><div class='table-result-container'><table class='table-result'><thead style='background-color: white'><tr><th>Region_id</th><th>sub_region_id</th><th>10</th><th>20</th><th>30</th><th>40</th><th>50</th></tr></thead><tbody><tr><td>50</td><td>160</td><td>null</td><td>null</td><td>null</td><td>null</td><td>3.1825295E7</td></tr><tr><td>20</td><td>70</td><td>null</td><td>2958059.0</td><td>null</td><td>null</td><td>null</td></tr><tr><td>40</td><td>20</td><td>null</td><td>null</td><td>null</td><td>55312.0</td><td>null</td></tr><tr><td>40</td><td>null</td><td>null</td><td>null</td><td>null</td><td>1106.0</td><td>null</td></tr><tr><td>50</td><td>40</td><td>null</td><td>null</td><td>null</td><td>null</td><td>4.3053054E7</td></tr><tr><td>30</td><td>30</td><td>null</td><td>null</td><td>3.8041754E7</td><td>null</td><td>null</td></tr><tr><td>10</td><td>10</td><td>4.4892664E7</td><td>null</td><td>null</td><td>null</td><td>null</td></tr></tbody></table></div>"
      ]
     },
     "metadata": {
      "application/vnd.databricks.v1+output": {
       "addedWidgets": {},
       "aggData": [],
       "aggError": "",
       "aggOverflow": false,
       "aggSchema": [],
       "aggSeriesLimitReached": false,
       "aggType": "",
       "arguments": {},
       "columnCustomDisplayInfos": {},
       "data": [
        [
         "50",
         "160",
         null,
         null,
         null,
         null,
         3.1825295E7
        ],
        [
         "20",
         "70",
         null,
         2958059.0,
         null,
         null,
         null
        ],
        [
         "40",
         "20",
         null,
         null,
         null,
         55312.0,
         null
        ],
        [
         "40",
         null,
         null,
         null,
         null,
         1106.0,
         null
        ],
        [
         "50",
         "40",
         null,
         null,
         null,
         null,
         4.3053054E7
        ],
        [
         "30",
         "30",
         null,
         null,
         3.8041754E7,
         null,
         null
        ],
        [
         "10",
         "10",
         4.4892664E7,
         null,
         null,
         null,
         null
        ]
       ],
       "datasetInfos": [],
       "dbfsResultPath": null,
       "isJsonSchema": true,
       "metadata": {},
       "overflow": false,
       "plotOptions": {
        "customPlotOptions": {},
        "displayType": "table",
        "pivotAggregation": null,
        "pivotColumns": null,
        "xColumns": null,
        "yColumns": null
       },
       "removedWidgets": [],
       "schema": [
        {
         "metadata": "{}",
         "name": "Region_id",
         "type": "\"string\""
        },
        {
         "metadata": "{}",
         "name": "sub_region_id",
         "type": "\"string\""
        },
        {
         "metadata": "{}",
         "name": "10",
         "type": "\"double\""
        },
        {
         "metadata": "{}",
         "name": "20",
         "type": "\"double\""
        },
        {
         "metadata": "{}",
         "name": "30",
         "type": "\"double\""
        },
        {
         "metadata": "{}",
         "name": "40",
         "type": "\"double\""
        },
        {
         "metadata": "{}",
         "name": "50",
         "type": "\"double\""
        }
       ],
       "type": "table"
      }
     },
     "output_type": "display_data"
    }
   ],
   "source": [
    "#Pivoting the data\n",
    "df1.groupBy('Region_id','sub_region_id').pivot('Region_id').sum('population').display()"
   ]
  },
  {
   "cell_type": "code",
   "execution_count": 0,
   "metadata": {
    "application/vnd.databricks.v1+cell": {
     "cellMetadata": {
      "byteLimit": 2048000,
      "rowLimit": 10000
     },
     "inputWidgets": {},
     "nuid": "e36a3100-ca82-42a5-bc36-a13ea0f262e3",
     "showTitle": false,
     "title": ""
    }
   },
   "outputs": [],
   "source": [
    "df_region=spark.read.csv('dbfs:/FileStore/country_regions.csv', header= True)"
   ]
  },
  {
   "cell_type": "code",
   "execution_count": 0,
   "metadata": {
    "application/vnd.databricks.v1+cell": {
     "cellMetadata": {
      "byteLimit": 2048000,
      "rowLimit": 10000
     },
     "inputWidgets": {},
     "nuid": "965db9c9-db7e-46c4-87d4-46fced04c509",
     "showTitle": false,
     "title": ""
    }
   },
   "outputs": [
    {
     "output_type": "display_data",
     "data": {
      "text/html": [
       "<style scoped>\n",
       "  .table-result-container {\n",
       "    max-height: 300px;\n",
       "    overflow: auto;\n",
       "  }\n",
       "  table, th, td {\n",
       "    border: 1px solid black;\n",
       "    border-collapse: collapse;\n",
       "  }\n",
       "  th, td {\n",
       "    padding: 5px;\n",
       "  }\n",
       "  th {\n",
       "    text-align: left;\n",
       "  }\n",
       "</style><div class='table-result-container'><table class='table-result'><thead style='background-color: white'><tr><th>COUNTRY_ID</th><th>NAME</th><th>NATIONALITY</th><th>COUNTRY_CODE</th><th>ISO_ALPHA2</th><th>CAPITAL</th><th>POPULATION</th><th>AREA_KM2</th><th>REGION_ID</th><th>SUB_REGION_ID</th><th>INTERMEDIATE_REGION_ID</th><th>ORGANIZATION_REGION_ID</th><th>Current_date</th><th>Updated_by</th><th>Date_time</th><th>Year</th><th>Month</th><th>Weekofyear</th><th>date_litreal</th><th>Date</th><th>ID</th><th>NAME</th></tr></thead><tbody><tr><td>1</td><td>Afghanistan</td><td>Afghan</td><td>AFG</td><td>AF</td><td>Kabul</td><td>3.8041754E7</td><td>652230</td><td>30</td><td>30</td><td>null</td><td>30</td><td>2023-07-19</td><td>Chhamanshu</td><td>2023-07-19T10:21:18.690+0000</td><td>2023</td><td>7</td><td>29</td><td>29-06-2023</td><td>2023-06-29</td><td>30</td><td>Asia</td></tr><tr><td>2</td><td>Albania</td><td>Albanian</td><td>ALB</td><td>AL</td><td>Tirana</td><td>2880917.0</td><td>28748</td><td>20</td><td>70</td><td>null</td><td>20</td><td>2023-07-19</td><td>Chhamanshu</td><td>2023-07-19T10:21:18.690+0000</td><td>2023</td><td>7</td><td>29</td><td>29-06-2023</td><td>2023-06-29</td><td>20</td><td>Europe</td></tr><tr><td>3</td><td>Algeria</td><td>Algerian</td><td>DZA</td><td>DZ</td><td>Algiers</td><td>4.3053054E7</td><td>2381741</td><td>50</td><td>40</td><td>null</td><td>20</td><td>2023-07-19</td><td>Chhamanshu</td><td>2023-07-19T10:21:18.690+0000</td><td>2023</td><td>7</td><td>29</td><td>29-06-2023</td><td>2023-06-29</td><td>50</td><td>Africa</td></tr><tr><td>4</td><td>American Samoa</td><td>American Samoan</td><td>ASM</td><td>AS</td><td>Pago Pago</td><td>55312.0</td><td>199</td><td>40</td><td>20</td><td>null</td><td>30</td><td>2023-07-19</td><td>Chhamanshu</td><td>2023-07-19T10:21:18.690+0000</td><td>2023</td><td>7</td><td>29</td><td>29-06-2023</td><td>2023-06-29</td><td>40</td><td>Oceania</td></tr><tr><td>5</td><td>Andorra</td><td>Andorran</td><td>AND</td><td>AD</td><td>Andorra la Vella</td><td>77142.0</td><td>468</td><td>20</td><td>70</td><td>null</td><td>20</td><td>2023-07-19</td><td>Chhamanshu</td><td>2023-07-19T10:21:18.690+0000</td><td>2023</td><td>7</td><td>29</td><td>29-06-2023</td><td>2023-06-29</td><td>20</td><td>Europe</td></tr><tr><td>6</td><td>Angola</td><td>Angolan</td><td>AGO</td><td>AO</td><td>Luanda</td><td>3.1825295E7</td><td>1246700</td><td>50</td><td>160</td><td>80</td><td>20</td><td>2023-07-19</td><td>Chhamanshu</td><td>2023-07-19T10:21:18.690+0000</td><td>2023</td><td>7</td><td>29</td><td>29-06-2023</td><td>2023-06-29</td><td>50</td><td>Africa</td></tr><tr><td>7</td><td>Anguilla</td><td>Anguillan</td><td>AIA</td><td>AI</td><td>The Valley</td><td>14869.0</td><td>91</td><td>10</td><td>10</td><td>60</td><td>40</td><td>2023-07-19</td><td>Chhamanshu</td><td>2023-07-19T10:21:18.690+0000</td><td>2023</td><td>7</td><td>29</td><td>29-06-2023</td><td>2023-06-29</td><td>10</td><td>America</td></tr><tr><td>8</td><td>Antarctica</td><td>Antarctic</td><td>ATA</td><td>AQ</td><td>McMurdo Station</td><td>1106.0</td><td>14200000</td><td>40</td><td>null</td><td>null</td><td>30</td><td>2023-07-19</td><td>Chhamanshu</td><td>2023-07-19T10:21:18.690+0000</td><td>2023</td><td>7</td><td>29</td><td>29-06-2023</td><td>2023-06-29</td><td>40</td><td>Oceania</td></tr><tr><td>9</td><td>Antigua and Barbuda</td><td>Antiguan or Barbudan</td><td>ATG</td><td>AG</td><td>St. John's</td><td>97118.0</td><td>442</td><td>10</td><td>10</td><td>60</td><td>40</td><td>2023-07-19</td><td>Chhamanshu</td><td>2023-07-19T10:21:18.690+0000</td><td>2023</td><td>7</td><td>29</td><td>29-06-2023</td><td>2023-06-29</td><td>10</td><td>America</td></tr><tr><td>10</td><td>Argentina</td><td>Argentine</td><td>ARG</td><td>AR</td><td>Buenos Aires</td><td>4.4780677E7</td><td>2780400</td><td>10</td><td>10</td><td>40</td><td>40</td><td>2023-07-19</td><td>Chhamanshu</td><td>2023-07-19T10:21:18.690+0000</td><td>2023</td><td>7</td><td>29</td><td>29-06-2023</td><td>2023-06-29</td><td>10</td><td>America</td></tr></tbody></table></div>"
      ]
     },
     "metadata": {
      "application/vnd.databricks.v1+output": {
       "addedWidgets": {},
       "aggData": [],
       "aggError": "",
       "aggOverflow": false,
       "aggSchema": [],
       "aggSeriesLimitReached": false,
       "aggType": "",
       "arguments": {},
       "columnCustomDisplayInfos": {},
       "data": [
        [
         "1",
         "Afghanistan",
         "Afghan",
         "AFG",
         "AF",
         "Kabul",
         3.8041754E7,
         "652230",
         "30",
         "30",
         null,
         "30",
         "2023-07-19",
         "Chhamanshu",
         "2023-07-19T10:21:18.690+0000",
         2023,
         7,
         29,
         "29-06-2023",
         "2023-06-29",
         "30",
         "Asia"
        ],
        [
         "2",
         "Albania",
         "Albanian",
         "ALB",
         "AL",
         "Tirana",
         2880917.0,
         "28748",
         "20",
         "70",
         null,
         "20",
         "2023-07-19",
         "Chhamanshu",
         "2023-07-19T10:21:18.690+0000",
         2023,
         7,
         29,
         "29-06-2023",
         "2023-06-29",
         "20",
         "Europe"
        ],
        [
         "3",
         "Algeria",
         "Algerian",
         "DZA",
         "DZ",
         "Algiers",
         4.3053054E7,
         "2381741",
         "50",
         "40",
         null,
         "20",
         "2023-07-19",
         "Chhamanshu",
         "2023-07-19T10:21:18.690+0000",
         2023,
         7,
         29,
         "29-06-2023",
         "2023-06-29",
         "50",
         "Africa"
        ],
        [
         "4",
         "American Samoa",
         "American Samoan",
         "ASM",
         "AS",
         "Pago Pago",
         55312.0,
         "199",
         "40",
         "20",
         null,
         "30",
         "2023-07-19",
         "Chhamanshu",
         "2023-07-19T10:21:18.690+0000",
         2023,
         7,
         29,
         "29-06-2023",
         "2023-06-29",
         "40",
         "Oceania"
        ],
        [
         "5",
         "Andorra",
         "Andorran",
         "AND",
         "AD",
         "Andorra la Vella",
         77142.0,
         "468",
         "20",
         "70",
         null,
         "20",
         "2023-07-19",
         "Chhamanshu",
         "2023-07-19T10:21:18.690+0000",
         2023,
         7,
         29,
         "29-06-2023",
         "2023-06-29",
         "20",
         "Europe"
        ],
        [
         "6",
         "Angola",
         "Angolan",
         "AGO",
         "AO",
         "Luanda",
         3.1825295E7,
         "1246700",
         "50",
         "160",
         "80",
         "20",
         "2023-07-19",
         "Chhamanshu",
         "2023-07-19T10:21:18.690+0000",
         2023,
         7,
         29,
         "29-06-2023",
         "2023-06-29",
         "50",
         "Africa"
        ],
        [
         "7",
         "Anguilla",
         "Anguillan",
         "AIA",
         "AI",
         "The Valley",
         14869.0,
         "91",
         "10",
         "10",
         "60",
         "40",
         "2023-07-19",
         "Chhamanshu",
         "2023-07-19T10:21:18.690+0000",
         2023,
         7,
         29,
         "29-06-2023",
         "2023-06-29",
         "10",
         "America"
        ],
        [
         "8",
         "Antarctica",
         "Antarctic",
         "ATA",
         "AQ",
         "McMurdo Station",
         1106.0,
         "14200000",
         "40",
         null,
         null,
         "30",
         "2023-07-19",
         "Chhamanshu",
         "2023-07-19T10:21:18.690+0000",
         2023,
         7,
         29,
         "29-06-2023",
         "2023-06-29",
         "40",
         "Oceania"
        ],
        [
         "9",
         "Antigua and Barbuda",
         "Antiguan or Barbudan",
         "ATG",
         "AG",
         "St. John's",
         97118.0,
         "442",
         "10",
         "10",
         "60",
         "40",
         "2023-07-19",
         "Chhamanshu",
         "2023-07-19T10:21:18.690+0000",
         2023,
         7,
         29,
         "29-06-2023",
         "2023-06-29",
         "10",
         "America"
        ],
        [
         "10",
         "Argentina",
         "Argentine",
         "ARG",
         "AR",
         "Buenos Aires",
         4.4780677E7,
         "2780400",
         "10",
         "10",
         "40",
         "40",
         "2023-07-19",
         "Chhamanshu",
         "2023-07-19T10:21:18.690+0000",
         2023,
         7,
         29,
         "29-06-2023",
         "2023-06-29",
         "10",
         "America"
        ]
       ],
       "datasetInfos": [],
       "dbfsResultPath": null,
       "isJsonSchema": true,
       "metadata": {},
       "overflow": false,
       "plotOptions": {
        "customPlotOptions": {},
        "displayType": "table",
        "pivotAggregation": null,
        "pivotColumns": null,
        "xColumns": null,
        "yColumns": null
       },
       "removedWidgets": [],
       "schema": [
        {
         "metadata": "{}",
         "name": "COUNTRY_ID",
         "type": "\"string\""
        },
        {
         "metadata": "{}",
         "name": "NAME",
         "type": "\"string\""
        },
        {
         "metadata": "{}",
         "name": "NATIONALITY",
         "type": "\"string\""
        },
        {
         "metadata": "{}",
         "name": "COUNTRY_CODE",
         "type": "\"string\""
        },
        {
         "metadata": "{}",
         "name": "ISO_ALPHA2",
         "type": "\"string\""
        },
        {
         "metadata": "{}",
         "name": "CAPITAL",
         "type": "\"string\""
        },
        {
         "metadata": "{}",
         "name": "POPULATION",
         "type": "\"double\""
        },
        {
         "metadata": "{}",
         "name": "AREA_KM2",
         "type": "\"string\""
        },
        {
         "metadata": "{}",
         "name": "REGION_ID",
         "type": "\"string\""
        },
        {
         "metadata": "{}",
         "name": "SUB_REGION_ID",
         "type": "\"string\""
        },
        {
         "metadata": "{}",
         "name": "INTERMEDIATE_REGION_ID",
         "type": "\"string\""
        },
        {
         "metadata": "{}",
         "name": "ORGANIZATION_REGION_ID",
         "type": "\"string\""
        },
        {
         "metadata": "{}",
         "name": "Current_date",
         "type": "\"date\""
        },
        {
         "metadata": "{}",
         "name": "Updated_by",
         "type": "\"string\""
        },
        {
         "metadata": "{}",
         "name": "Date_time",
         "type": "\"timestamp\""
        },
        {
         "metadata": "{}",
         "name": "Year",
         "type": "\"integer\""
        },
        {
         "metadata": "{}",
         "name": "Month",
         "type": "\"integer\""
        },
        {
         "metadata": "{}",
         "name": "Weekofyear",
         "type": "\"integer\""
        },
        {
         "metadata": "{}",
         "name": "date_litreal",
         "type": "\"string\""
        },
        {
         "metadata": "{}",
         "name": "Date",
         "type": "\"date\""
        },
        {
         "metadata": "{}",
         "name": "ID",
         "type": "\"string\""
        },
        {
         "metadata": "{}",
         "name": "NAME",
         "type": "\"string\""
        }
       ],
       "type": "table"
      }
     },
     "output_type": "display_data"
    }
   ],
   "source": [
    "#Joining the dataframe\n",
    "df1.join(df_region, df1['Region_id']==df_region['id'], 'inner').display()"
   ]
  },
  {
   "cell_type": "code",
   "execution_count": 0,
   "metadata": {
    "application/vnd.databricks.v1+cell": {
     "cellMetadata": {
      "byteLimit": 2048000,
      "rowLimit": 10000
     },
     "inputWidgets": {},
     "nuid": "7ef1c168-5e8d-47cb-bdb3-5ff613608fe2",
     "showTitle": false,
     "title": ""
    }
   },
   "outputs": [
    {
     "output_type": "display_data",
     "data": {
      "text/html": [
       "<style scoped>\n",
       "  .table-result-container {\n",
       "    max-height: 300px;\n",
       "    overflow: auto;\n",
       "  }\n",
       "  table, th, td {\n",
       "    border: 1px solid black;\n",
       "    border-collapse: collapse;\n",
       "  }\n",
       "  th, td {\n",
       "    padding: 5px;\n",
       "  }\n",
       "  th {\n",
       "    text-align: left;\n",
       "  }\n",
       "</style><div class='table-result-container'><table class='table-result'><thead style='background-color: white'><tr><th>Nationality</th><th>id</th></tr></thead><tbody><tr><td>Afghan</td><td>30</td></tr><tr><td>Albanian</td><td>20</td></tr><tr><td>Algerian</td><td>50</td></tr><tr><td>American Samoan</td><td>40</td></tr><tr><td>Andorran</td><td>20</td></tr><tr><td>Angolan</td><td>50</td></tr><tr><td>Anguillan</td><td>10</td></tr><tr><td>Antarctic</td><td>40</td></tr><tr><td>Antiguan or Barbudan</td><td>10</td></tr><tr><td>Argentine</td><td>10</td></tr></tbody></table></div>"
      ]
     },
     "metadata": {
      "application/vnd.databricks.v1+output": {
       "addedWidgets": {},
       "aggData": [],
       "aggError": "",
       "aggOverflow": false,
       "aggSchema": [],
       "aggSeriesLimitReached": false,
       "aggType": "",
       "arguments": {},
       "columnCustomDisplayInfos": {},
       "data": [
        [
         "Afghan",
         "30"
        ],
        [
         "Albanian",
         "20"
        ],
        [
         "Algerian",
         "50"
        ],
        [
         "American Samoan",
         "40"
        ],
        [
         "Andorran",
         "20"
        ],
        [
         "Angolan",
         "50"
        ],
        [
         "Anguillan",
         "10"
        ],
        [
         "Antarctic",
         "40"
        ],
        [
         "Antiguan or Barbudan",
         "10"
        ],
        [
         "Argentine",
         "10"
        ]
       ],
       "datasetInfos": [],
       "dbfsResultPath": null,
       "isJsonSchema": true,
       "metadata": {},
       "overflow": false,
       "plotOptions": {
        "customPlotOptions": {},
        "displayType": "table",
        "pivotAggregation": null,
        "pivotColumns": null,
        "xColumns": null,
        "yColumns": null
       },
       "removedWidgets": [],
       "schema": [
        {
         "metadata": "{}",
         "name": "Nationality",
         "type": "\"string\""
        },
        {
         "metadata": "{}",
         "name": "id",
         "type": "\"string\""
        }
       ],
       "type": "table"
      }
     },
     "output_type": "display_data"
    }
   ],
   "source": [
    "# Selecting the column based on join\n",
    "df1. \\\n",
    "join(df_region, df1['Region_id']==df_region['id'],'inner'). \\\n",
    "select('Nationality','id'). \\\n",
    "display()"
   ]
  },
  {
   "cell_type": "code",
   "execution_count": 0,
   "metadata": {
    "application/vnd.databricks.v1+cell": {
     "cellMetadata": {
      "byteLimit": 2048000,
      "rowLimit": 10000
     },
     "inputWidgets": {},
     "nuid": "4491d877-b57b-4ea1-88d1-dfc99ad7319f",
     "showTitle": false,
     "title": ""
    }
   },
   "outputs": [
    {
     "output_type": "stream",
     "name": "stdout",
     "output_type": "stream",
     "text": [
      "Out[152]: 10"
     ]
    }
   ],
   "source": [
    "#counting the records\n",
    "df1.count()"
   ]
  },
  {
   "cell_type": "code",
   "execution_count": 0,
   "metadata": {
    "application/vnd.databricks.v1+cell": {
     "cellMetadata": {
      "byteLimit": 2048000,
      "rowLimit": 10000
     },
     "inputWidgets": {},
     "nuid": "d90e57f2-d569-40ee-b0d7-52743aa2645d",
     "showTitle": false,
     "title": ""
    }
   },
   "outputs": [
    {
     "output_type": "display_data",
     "data": {
      "text/html": [
       "<style scoped>\n",
       "  .table-result-container {\n",
       "    max-height: 300px;\n",
       "    overflow: auto;\n",
       "  }\n",
       "  table, th, td {\n",
       "    border: 1px solid black;\n",
       "    border-collapse: collapse;\n",
       "  }\n",
       "  th, td {\n",
       "    padding: 5px;\n",
       "  }\n",
       "  th {\n",
       "    text-align: left;\n",
       "  }\n",
       "</style><div class='table-result-container'><table class='table-result'><thead style='background-color: white'><tr><th>COUNTRY_ID</th><th>NAME</th><th>NATIONALITY</th><th>COUNTRY_CODE</th><th>ISO_ALPHA2</th><th>CAPITAL</th><th>POPULATION</th><th>AREA_KM2</th><th>REGION_ID</th><th>SUB_REGION_ID</th><th>INTERMEDIATE_REGION_ID</th><th>ORGANIZATION_REGION_ID</th><th>Current_date</th><th>Updated_by</th><th>Date_time</th><th>Year</th><th>Month</th><th>Weekofyear</th><th>date_litreal</th><th>Date</th></tr></thead><tbody><tr><td>1</td><td>Afghanistan</td><td>Afghan</td><td>AFG</td><td>AF</td><td>Kabul</td><td>3.8041754E7</td><td>652230</td><td>30</td><td>30</td><td>null</td><td>30</td><td>2023-07-19</td><td>Chhamanshu</td><td>2023-07-19T10:21:19.897+0000</td><td>2023</td><td>7</td><td>29</td><td>29-06-2023</td><td>2023-06-29</td></tr><tr><td>2</td><td>Albania</td><td>Albanian</td><td>ALB</td><td>AL</td><td>Tirana</td><td>2880917.0</td><td>28748</td><td>20</td><td>70</td><td>null</td><td>20</td><td>2023-07-19</td><td>Chhamanshu</td><td>2023-07-19T10:21:19.897+0000</td><td>2023</td><td>7</td><td>29</td><td>29-06-2023</td><td>2023-06-29</td></tr><tr><td>3</td><td>Algeria</td><td>Algerian</td><td>DZA</td><td>DZ</td><td>Algiers</td><td>4.3053054E7</td><td>2381741</td><td>50</td><td>40</td><td>null</td><td>20</td><td>2023-07-19</td><td>Chhamanshu</td><td>2023-07-19T10:21:19.897+0000</td><td>2023</td><td>7</td><td>29</td><td>29-06-2023</td><td>2023-06-29</td></tr><tr><td>4</td><td>American Samoa</td><td>American Samoan</td><td>ASM</td><td>AS</td><td>Pago Pago</td><td>55312.0</td><td>199</td><td>40</td><td>20</td><td>null</td><td>30</td><td>2023-07-19</td><td>Chhamanshu</td><td>2023-07-19T10:21:19.897+0000</td><td>2023</td><td>7</td><td>29</td><td>29-06-2023</td><td>2023-06-29</td></tr><tr><td>5</td><td>Andorra</td><td>Andorran</td><td>AND</td><td>AD</td><td>Andorra la Vella</td><td>77142.0</td><td>468</td><td>20</td><td>70</td><td>null</td><td>20</td><td>2023-07-19</td><td>Chhamanshu</td><td>2023-07-19T10:21:19.897+0000</td><td>2023</td><td>7</td><td>29</td><td>29-06-2023</td><td>2023-06-29</td></tr><tr><td>6</td><td>Angola</td><td>Angolan</td><td>AGO</td><td>AO</td><td>Luanda</td><td>3.1825295E7</td><td>1246700</td><td>50</td><td>160</td><td>80</td><td>20</td><td>2023-07-19</td><td>Chhamanshu</td><td>2023-07-19T10:21:19.897+0000</td><td>2023</td><td>7</td><td>29</td><td>29-06-2023</td><td>2023-06-29</td></tr><tr><td>7</td><td>Anguilla</td><td>Anguillan</td><td>AIA</td><td>AI</td><td>The Valley</td><td>14869.0</td><td>91</td><td>10</td><td>10</td><td>60</td><td>40</td><td>2023-07-19</td><td>Chhamanshu</td><td>2023-07-19T10:21:19.897+0000</td><td>2023</td><td>7</td><td>29</td><td>29-06-2023</td><td>2023-06-29</td></tr><tr><td>8</td><td>Antarctica</td><td>Antarctic</td><td>ATA</td><td>AQ</td><td>McMurdo Station</td><td>1106.0</td><td>14200000</td><td>40</td><td>null</td><td>null</td><td>30</td><td>2023-07-19</td><td>Chhamanshu</td><td>2023-07-19T10:21:19.897+0000</td><td>2023</td><td>7</td><td>29</td><td>29-06-2023</td><td>2023-06-29</td></tr><tr><td>9</td><td>Antigua and Barbuda</td><td>Antiguan or Barbudan</td><td>ATG</td><td>AG</td><td>St. John's</td><td>97118.0</td><td>442</td><td>10</td><td>10</td><td>60</td><td>40</td><td>2023-07-19</td><td>Chhamanshu</td><td>2023-07-19T10:21:19.897+0000</td><td>2023</td><td>7</td><td>29</td><td>29-06-2023</td><td>2023-06-29</td></tr><tr><td>10</td><td>Argentina</td><td>Argentine</td><td>ARG</td><td>AR</td><td>Buenos Aires</td><td>4.4780677E7</td><td>2780400</td><td>10</td><td>10</td><td>40</td><td>40</td><td>2023-07-19</td><td>Chhamanshu</td><td>2023-07-19T10:21:19.897+0000</td><td>2023</td><td>7</td><td>29</td><td>29-06-2023</td><td>2023-06-29</td></tr><tr><td>1</td><td>Afghanistan</td><td>Afghan</td><td>AFG</td><td>AF</td><td>Kabul</td><td>3.8041754E7</td><td>652230</td><td>30</td><td>30</td><td>null</td><td>30</td><td>2023-07-19</td><td>Chhamanshu</td><td>2023-07-19T10:21:19.897+0000</td><td>2023</td><td>7</td><td>29</td><td>29-06-2023</td><td>2023-06-29</td></tr><tr><td>2</td><td>Albania</td><td>Albanian</td><td>ALB</td><td>AL</td><td>Tirana</td><td>2880917.0</td><td>28748</td><td>20</td><td>70</td><td>null</td><td>20</td><td>2023-07-19</td><td>Chhamanshu</td><td>2023-07-19T10:21:19.897+0000</td><td>2023</td><td>7</td><td>29</td><td>29-06-2023</td><td>2023-06-29</td></tr><tr><td>3</td><td>Algeria</td><td>Algerian</td><td>DZA</td><td>DZ</td><td>Algiers</td><td>4.3053054E7</td><td>2381741</td><td>50</td><td>40</td><td>null</td><td>20</td><td>2023-07-19</td><td>Chhamanshu</td><td>2023-07-19T10:21:19.897+0000</td><td>2023</td><td>7</td><td>29</td><td>29-06-2023</td><td>2023-06-29</td></tr><tr><td>4</td><td>American Samoa</td><td>American Samoan</td><td>ASM</td><td>AS</td><td>Pago Pago</td><td>55312.0</td><td>199</td><td>40</td><td>20</td><td>null</td><td>30</td><td>2023-07-19</td><td>Chhamanshu</td><td>2023-07-19T10:21:19.897+0000</td><td>2023</td><td>7</td><td>29</td><td>29-06-2023</td><td>2023-06-29</td></tr><tr><td>5</td><td>Andorra</td><td>Andorran</td><td>AND</td><td>AD</td><td>Andorra la Vella</td><td>77142.0</td><td>468</td><td>20</td><td>70</td><td>null</td><td>20</td><td>2023-07-19</td><td>Chhamanshu</td><td>2023-07-19T10:21:19.897+0000</td><td>2023</td><td>7</td><td>29</td><td>29-06-2023</td><td>2023-06-29</td></tr><tr><td>6</td><td>Angola</td><td>Angolan</td><td>AGO</td><td>AO</td><td>Luanda</td><td>3.1825295E7</td><td>1246700</td><td>50</td><td>160</td><td>80</td><td>20</td><td>2023-07-19</td><td>Chhamanshu</td><td>2023-07-19T10:21:19.897+0000</td><td>2023</td><td>7</td><td>29</td><td>29-06-2023</td><td>2023-06-29</td></tr><tr><td>7</td><td>Anguilla</td><td>Anguillan</td><td>AIA</td><td>AI</td><td>The Valley</td><td>14869.0</td><td>91</td><td>10</td><td>10</td><td>60</td><td>40</td><td>2023-07-19</td><td>Chhamanshu</td><td>2023-07-19T10:21:19.897+0000</td><td>2023</td><td>7</td><td>29</td><td>29-06-2023</td><td>2023-06-29</td></tr><tr><td>8</td><td>Antarctica</td><td>Antarctic</td><td>ATA</td><td>AQ</td><td>McMurdo Station</td><td>1106.0</td><td>14200000</td><td>40</td><td>null</td><td>null</td><td>30</td><td>2023-07-19</td><td>Chhamanshu</td><td>2023-07-19T10:21:19.897+0000</td><td>2023</td><td>7</td><td>29</td><td>29-06-2023</td><td>2023-06-29</td></tr><tr><td>9</td><td>Antigua and Barbuda</td><td>Antiguan or Barbudan</td><td>ATG</td><td>AG</td><td>St. John's</td><td>97118.0</td><td>442</td><td>10</td><td>10</td><td>60</td><td>40</td><td>2023-07-19</td><td>Chhamanshu</td><td>2023-07-19T10:21:19.897+0000</td><td>2023</td><td>7</td><td>29</td><td>29-06-2023</td><td>2023-06-29</td></tr><tr><td>10</td><td>Argentina</td><td>Argentine</td><td>ARG</td><td>AR</td><td>Buenos Aires</td><td>4.4780677E7</td><td>2780400</td><td>10</td><td>10</td><td>40</td><td>40</td><td>2023-07-19</td><td>Chhamanshu</td><td>2023-07-19T10:21:19.897+0000</td><td>2023</td><td>7</td><td>29</td><td>29-06-2023</td><td>2023-06-29</td></tr></tbody></table></div>"
      ]
     },
     "metadata": {
      "application/vnd.databricks.v1+output": {
       "addedWidgets": {},
       "aggData": [],
       "aggError": "",
       "aggOverflow": false,
       "aggSchema": [],
       "aggSeriesLimitReached": false,
       "aggType": "",
       "arguments": {},
       "columnCustomDisplayInfos": {},
       "data": [
        [
         "1",
         "Afghanistan",
         "Afghan",
         "AFG",
         "AF",
         "Kabul",
         3.8041754E7,
         "652230",
         "30",
         "30",
         null,
         "30",
         "2023-07-19",
         "Chhamanshu",
         "2023-07-19T10:21:19.897+0000",
         2023,
         7,
         29,
         "29-06-2023",
         "2023-06-29"
        ],
        [
         "2",
         "Albania",
         "Albanian",
         "ALB",
         "AL",
         "Tirana",
         2880917.0,
         "28748",
         "20",
         "70",
         null,
         "20",
         "2023-07-19",
         "Chhamanshu",
         "2023-07-19T10:21:19.897+0000",
         2023,
         7,
         29,
         "29-06-2023",
         "2023-06-29"
        ],
        [
         "3",
         "Algeria",
         "Algerian",
         "DZA",
         "DZ",
         "Algiers",
         4.3053054E7,
         "2381741",
         "50",
         "40",
         null,
         "20",
         "2023-07-19",
         "Chhamanshu",
         "2023-07-19T10:21:19.897+0000",
         2023,
         7,
         29,
         "29-06-2023",
         "2023-06-29"
        ],
        [
         "4",
         "American Samoa",
         "American Samoan",
         "ASM",
         "AS",
         "Pago Pago",
         55312.0,
         "199",
         "40",
         "20",
         null,
         "30",
         "2023-07-19",
         "Chhamanshu",
         "2023-07-19T10:21:19.897+0000",
         2023,
         7,
         29,
         "29-06-2023",
         "2023-06-29"
        ],
        [
         "5",
         "Andorra",
         "Andorran",
         "AND",
         "AD",
         "Andorra la Vella",
         77142.0,
         "468",
         "20",
         "70",
         null,
         "20",
         "2023-07-19",
         "Chhamanshu",
         "2023-07-19T10:21:19.897+0000",
         2023,
         7,
         29,
         "29-06-2023",
         "2023-06-29"
        ],
        [
         "6",
         "Angola",
         "Angolan",
         "AGO",
         "AO",
         "Luanda",
         3.1825295E7,
         "1246700",
         "50",
         "160",
         "80",
         "20",
         "2023-07-19",
         "Chhamanshu",
         "2023-07-19T10:21:19.897+0000",
         2023,
         7,
         29,
         "29-06-2023",
         "2023-06-29"
        ],
        [
         "7",
         "Anguilla",
         "Anguillan",
         "AIA",
         "AI",
         "The Valley",
         14869.0,
         "91",
         "10",
         "10",
         "60",
         "40",
         "2023-07-19",
         "Chhamanshu",
         "2023-07-19T10:21:19.897+0000",
         2023,
         7,
         29,
         "29-06-2023",
         "2023-06-29"
        ],
        [
         "8",
         "Antarctica",
         "Antarctic",
         "ATA",
         "AQ",
         "McMurdo Station",
         1106.0,
         "14200000",
         "40",
         null,
         null,
         "30",
         "2023-07-19",
         "Chhamanshu",
         "2023-07-19T10:21:19.897+0000",
         2023,
         7,
         29,
         "29-06-2023",
         "2023-06-29"
        ],
        [
         "9",
         "Antigua and Barbuda",
         "Antiguan or Barbudan",
         "ATG",
         "AG",
         "St. John's",
         97118.0,
         "442",
         "10",
         "10",
         "60",
         "40",
         "2023-07-19",
         "Chhamanshu",
         "2023-07-19T10:21:19.897+0000",
         2023,
         7,
         29,
         "29-06-2023",
         "2023-06-29"
        ],
        [
         "10",
         "Argentina",
         "Argentine",
         "ARG",
         "AR",
         "Buenos Aires",
         4.4780677E7,
         "2780400",
         "10",
         "10",
         "40",
         "40",
         "2023-07-19",
         "Chhamanshu",
         "2023-07-19T10:21:19.897+0000",
         2023,
         7,
         29,
         "29-06-2023",
         "2023-06-29"
        ],
        [
         "1",
         "Afghanistan",
         "Afghan",
         "AFG",
         "AF",
         "Kabul",
         3.8041754E7,
         "652230",
         "30",
         "30",
         null,
         "30",
         "2023-07-19",
         "Chhamanshu",
         "2023-07-19T10:21:19.897+0000",
         2023,
         7,
         29,
         "29-06-2023",
         "2023-06-29"
        ],
        [
         "2",
         "Albania",
         "Albanian",
         "ALB",
         "AL",
         "Tirana",
         2880917.0,
         "28748",
         "20",
         "70",
         null,
         "20",
         "2023-07-19",
         "Chhamanshu",
         "2023-07-19T10:21:19.897+0000",
         2023,
         7,
         29,
         "29-06-2023",
         "2023-06-29"
        ],
        [
         "3",
         "Algeria",
         "Algerian",
         "DZA",
         "DZ",
         "Algiers",
         4.3053054E7,
         "2381741",
         "50",
         "40",
         null,
         "20",
         "2023-07-19",
         "Chhamanshu",
         "2023-07-19T10:21:19.897+0000",
         2023,
         7,
         29,
         "29-06-2023",
         "2023-06-29"
        ],
        [
         "4",
         "American Samoa",
         "American Samoan",
         "ASM",
         "AS",
         "Pago Pago",
         55312.0,
         "199",
         "40",
         "20",
         null,
         "30",
         "2023-07-19",
         "Chhamanshu",
         "2023-07-19T10:21:19.897+0000",
         2023,
         7,
         29,
         "29-06-2023",
         "2023-06-29"
        ],
        [
         "5",
         "Andorra",
         "Andorran",
         "AND",
         "AD",
         "Andorra la Vella",
         77142.0,
         "468",
         "20",
         "70",
         null,
         "20",
         "2023-07-19",
         "Chhamanshu",
         "2023-07-19T10:21:19.897+0000",
         2023,
         7,
         29,
         "29-06-2023",
         "2023-06-29"
        ],
        [
         "6",
         "Angola",
         "Angolan",
         "AGO",
         "AO",
         "Luanda",
         3.1825295E7,
         "1246700",
         "50",
         "160",
         "80",
         "20",
         "2023-07-19",
         "Chhamanshu",
         "2023-07-19T10:21:19.897+0000",
         2023,
         7,
         29,
         "29-06-2023",
         "2023-06-29"
        ],
        [
         "7",
         "Anguilla",
         "Anguillan",
         "AIA",
         "AI",
         "The Valley",
         14869.0,
         "91",
         "10",
         "10",
         "60",
         "40",
         "2023-07-19",
         "Chhamanshu",
         "2023-07-19T10:21:19.897+0000",
         2023,
         7,
         29,
         "29-06-2023",
         "2023-06-29"
        ],
        [
         "8",
         "Antarctica",
         "Antarctic",
         "ATA",
         "AQ",
         "McMurdo Station",
         1106.0,
         "14200000",
         "40",
         null,
         null,
         "30",
         "2023-07-19",
         "Chhamanshu",
         "2023-07-19T10:21:19.897+0000",
         2023,
         7,
         29,
         "29-06-2023",
         "2023-06-29"
        ],
        [
         "9",
         "Antigua and Barbuda",
         "Antiguan or Barbudan",
         "ATG",
         "AG",
         "St. John's",
         97118.0,
         "442",
         "10",
         "10",
         "60",
         "40",
         "2023-07-19",
         "Chhamanshu",
         "2023-07-19T10:21:19.897+0000",
         2023,
         7,
         29,
         "29-06-2023",
         "2023-06-29"
        ],
        [
         "10",
         "Argentina",
         "Argentine",
         "ARG",
         "AR",
         "Buenos Aires",
         4.4780677E7,
         "2780400",
         "10",
         "10",
         "40",
         "40",
         "2023-07-19",
         "Chhamanshu",
         "2023-07-19T10:21:19.897+0000",
         2023,
         7,
         29,
         "29-06-2023",
         "2023-06-29"
        ]
       ],
       "datasetInfos": [],
       "dbfsResultPath": null,
       "isJsonSchema": true,
       "metadata": {},
       "overflow": false,
       "plotOptions": {
        "customPlotOptions": {},
        "displayType": "table",
        "pivotAggregation": null,
        "pivotColumns": null,
        "xColumns": null,
        "yColumns": null
       },
       "removedWidgets": [],
       "schema": [
        {
         "metadata": "{}",
         "name": "COUNTRY_ID",
         "type": "\"string\""
        },
        {
         "metadata": "{}",
         "name": "NAME",
         "type": "\"string\""
        },
        {
         "metadata": "{}",
         "name": "NATIONALITY",
         "type": "\"string\""
        },
        {
         "metadata": "{}",
         "name": "COUNTRY_CODE",
         "type": "\"string\""
        },
        {
         "metadata": "{}",
         "name": "ISO_ALPHA2",
         "type": "\"string\""
        },
        {
         "metadata": "{}",
         "name": "CAPITAL",
         "type": "\"string\""
        },
        {
         "metadata": "{}",
         "name": "POPULATION",
         "type": "\"double\""
        },
        {
         "metadata": "{}",
         "name": "AREA_KM2",
         "type": "\"string\""
        },
        {
         "metadata": "{}",
         "name": "REGION_ID",
         "type": "\"string\""
        },
        {
         "metadata": "{}",
         "name": "SUB_REGION_ID",
         "type": "\"string\""
        },
        {
         "metadata": "{}",
         "name": "INTERMEDIATE_REGION_ID",
         "type": "\"string\""
        },
        {
         "metadata": "{}",
         "name": "ORGANIZATION_REGION_ID",
         "type": "\"string\""
        },
        {
         "metadata": "{}",
         "name": "Current_date",
         "type": "\"date\""
        },
        {
         "metadata": "{}",
         "name": "Updated_by",
         "type": "\"string\""
        },
        {
         "metadata": "{}",
         "name": "Date_time",
         "type": "\"timestamp\""
        },
        {
         "metadata": "{}",
         "name": "Year",
         "type": "\"integer\""
        },
        {
         "metadata": "{}",
         "name": "Month",
         "type": "\"integer\""
        },
        {
         "metadata": "{}",
         "name": "Weekofyear",
         "type": "\"integer\""
        },
        {
         "metadata": "{}",
         "name": "date_litreal",
         "type": "\"string\""
        },
        {
         "metadata": "{}",
         "name": "Date",
         "type": "\"date\""
        }
       ],
       "type": "table"
      }
     },
     "output_type": "display_data"
    }
   ],
   "source": [
    "#Merging the dataframe using union function\n",
    "df1.union(df1).display()"
   ]
  },
  {
   "cell_type": "code",
   "execution_count": 0,
   "metadata": {
    "application/vnd.databricks.v1+cell": {
     "cellMetadata": {
      "byteLimit": 2048000,
      "rowLimit": 10000
     },
     "inputWidgets": {},
     "nuid": "7681bc30-e621-4df6-8d65-bd28c597cdee",
     "showTitle": false,
     "title": ""
    }
   },
   "outputs": [],
   "source": [
    "# Writing the file in csv format\n",
    "df1.write.csv('dbfs:/FileStore/Country_file', header=True,mode='overwrite')"
   ]
  },
  {
   "cell_type": "code",
   "execution_count": 0,
   "metadata": {
    "application/vnd.databricks.v1+cell": {
     "cellMetadata": {
      "byteLimit": 2048000,
      "rowLimit": 10000
     },
     "inputWidgets": {},
     "nuid": "26205272-90d6-443a-8feb-a3da53abac0a",
     "showTitle": false,
     "title": ""
    }
   },
   "outputs": [],
   "source": [
    "# Writing the file in Parquet file format\n",
    "df1.write.parquet('dbfs:/FileStore/Country_file_Parquet',mode='overwrite')"
   ]
  },
  {
   "cell_type": "code",
   "execution_count": 0,
   "metadata": {
    "application/vnd.databricks.v1+cell": {
     "cellMetadata": {
      "byteLimit": 2048000,
      "rowLimit": 10000
     },
     "inputWidgets": {},
     "nuid": "2c1ffea4-d9ae-46c7-af5c-c31aba8b6fc3",
     "showTitle": false,
     "title": ""
    }
   },
   "outputs": [],
   "source": [
    "# Writing the file using the partitioning \n",
    "df1.write.options(header=True).mode('overwrite').partitionBy('REGION_ID').csv(\"dbfs:/FileStore/Country_Partition\")"
   ]
  },
  {
   "cell_type": "code",
   "execution_count": 0,
   "metadata": {
    "application/vnd.databricks.v1+cell": {
     "cellMetadata": {
      "byteLimit": 2048000,
      "rowLimit": 10000
     },
     "inputWidgets": {},
     "nuid": "c4f4a6b1-009b-43e3-9a42-4a5dd9340e47",
     "showTitle": false,
     "title": ""
    }
   },
   "outputs": [
    {
     "output_type": "stream",
     "name": "stdout",
     "output_type": "stream",
     "text": [
      "Out[157]: True"
     ]
    }
   ],
   "source": [
    "# Deleting the file\n",
    "dbutils.fs.rm(\"dbfs:/FileStore/Country_file\", recurse=True)"
   ]
  }
 ],
 "metadata": {
  "application/vnd.databricks.v1+notebook": {
   "dashboards": [],
   "language": "python",
   "notebookMetadata": {
    "mostRecentlyExecutedCommandWithImplicitDF": {
     "commandId": -1,
     "dataframes": [
      "_sqldf"
     ]
    },
    "pythonIndentUnit": 4
   },
   "notebookName": "Pyspark Training",
   "widgets": {}
  }
 },
 "nbformat": 4,
 "nbformat_minor": 0
}
